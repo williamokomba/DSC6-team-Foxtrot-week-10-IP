{
  "nbformat": 4,
  "nbformat_minor": 0,
  "metadata": {
    "colab": {
      "name": "Team Foxtrot Week 10 team Ip.ipynb",
      "provenance": [],
      "collapsed_sections": [],
      "toc_visible": true,
      "include_colab_link": true
    },
    "kernelspec": {
      "display_name": "Python 3",
      "name": "python3"
    }
  },
  "cells": [
    {
      "cell_type": "markdown",
      "metadata": {
        "id": "view-in-github",
        "colab_type": "text"
      },
      "source": [
        "<a href=\"https://colab.research.google.com/github/williamokomba/DSC6-team-Foxtrot-week-10-IP/blob/main/Team_Foxtrot_Week_10_team_Ip.ipynb\" target=\"_parent\"><img src=\"https://colab.research.google.com/assets/colab-badge.svg\" alt=\"Open In Colab\"/></a>"
      ]
    },
    {
      "cell_type": "markdown",
      "metadata": {
        "id": "zgkSPoivqSGk"
      },
      "source": [
        "# Moringa Data science core week 6 Independent project: Foxtrot week 10 IP\r\n",
        "\r\n",
        "**Members**\r\n",
        "* William Okomba\r\n",
        "* Mercy Cheruiyot\r\n",
        "* Ruth Nduta Muriithi\r\n",
        "* Roy Kimani"
      ]
    },
    {
      "cell_type": "markdown",
      "metadata": {
        "id": "ICH7D3yTrF6J"
      },
      "source": [
        "##*1.0* Defining the Question\r\n",
        "\r\n",
        "Recently, there has been an increase in the number of building collapse in Lagos and major cities in Nigeria. Olusola Insurance Company offers a building insurance policy that protects buildings against damages that could be caused by a fire or vandalism, by a flood or storm.\r\n",
        "\r\n",
        "We have been appointed as the Lead Data Analysts to build a predictive model to determine if a building will have an insurance claim during a certain period or not.\r\n",
        "\r\n",
        "**Dataset provided**\r\n",
        "\r\n",
        "\r\n",
        "* data source [[Data source link]](https://zindi.africa/competitions/data-science-nigeria-2019-challenge-1-insurance-prediction)\r\n",
        "\r\n",
        "**Data grossary**\r\n",
        "* **Customer Id**: Identification number for the Policy holder\r\n",
        "* **year of observation for the insured policy:** year of observation for the insured policy\r\n",
        "* **Insured_Period**: duration of insurance policy in Olusola Insurance. (Ex: Full year insurance, Policy Duration = 1; 6 months = 0.5\r\n",
        "* **Residential:** is the building a residential building or not\r\n",
        "* **Building_Painted**:is the building painted or not (N-Painted, V-Not Painted)\r\n",
        "* **Building_Fenced**: is the building fence or not (N-Fenced, V-Not Fenced)\r\n",
        "* **Garden**: building has garden or not (V-has garden; O-no garden)\r\n",
        "* **Settlement**: Area where the building is located. (R- rural area; U- urban area)\r\n",
        "* **Building Dimension:** Size of the insured building in m2\r\n",
        "* **Building_Type:** : The type of building (Type 1, 2, 3, 4)\r\n",
        "* **Date_of_Occupancy**: date building was first occupied\r\n",
        "* **NumberOfWindows**: number of windows in the building\r\n",
        "* **Geo Code**:Geographical Code of the Insured building\r\n",
        "* **Claim**: Geographical Code of the Insured building\r\n",
        "\r\n"
      ]
    },
    {
      "cell_type": "markdown",
      "metadata": {
        "id": "5MUxTVNjrOX8"
      },
      "source": [
        "###1.1 Specifying the data analytic \r\n",
        "\r\n",
        "Our main aim is to determine if a building will have an insurance claim(1) during a certain period or not(0) over insured period of the building."
      ]
    },
    {
      "cell_type": "markdown",
      "metadata": {
        "id": "swK2I1_hrTHa"
      },
      "source": [
        "###1.2 Defining the metric for success\r\n",
        "\r\n",
        "identify the best model with over 75% accuracy to be used to predict on whether the client will claim insurance payout or not.\r\n"
      ]
    },
    {
      "cell_type": "markdown",
      "metadata": {
        "id": "vtSfSde1rUUD"
      },
      "source": [
        "### 1.3 Understanding the Context"
      ]
    },
    {
      "cell_type": "markdown",
      "metadata": {
        "id": "9O2B1HVLrZK5"
      },
      "source": [
        "### 1.4 Recording the Experimental \r\n",
        "\r\n",
        "* upload and read our csv files\r\n",
        "* clean our dataset\r\n",
        "* perfom EDA\r\n",
        "* build our models using\r\n",
        "   * Neural Network\r\n",
        "\r\n",
        "* challenge our solution\r\n",
        "* Evaluate their performance on the dataset at hand and then provide observations and recommendations on the suitability of each of the tested models on their appropriateness of solving the given problem"
      ]
    },
    {
      "cell_type": "markdown",
      "metadata": {
        "id": "OHXQoT1ArdyJ"
      },
      "source": [
        "### 1.5 Assessing the Relevance of the Data\r\n",
        "\r\n",
        "the dataset is relevant since it has all the features related to housing and insurance terms."
      ]
    },
    {
      "cell_type": "markdown",
      "metadata": {
        "id": "ACKS1Q_6risB"
      },
      "source": [
        "## 2.Loading and reading Our Datasets"
      ]
    },
    {
      "cell_type": "code",
      "metadata": {
        "id": "VlH9RXPdsMbY"
      },
      "source": [
        "# importing the libraries\r\n",
        "#\r\n",
        "# Importing standard libraries\r\n",
        "#\r\n",
        "# load pandas\r\n",
        "import pandas as pd               # library for data manipulation and analysis\r\n",
        "#\r\n",
        "# load numpy\r\n",
        "import numpy as np                # library for performin scientific computations\r\n",
        "#\r\n",
        "# load matplotlib.pyplot\r\n",
        "import matplotlib.pyplot as plt   # library for creating basic visualisations\r\n",
        "#\r\n",
        "# load Seaborn\r\n",
        "import seaborn as sns             # library for creating rich data visualisations\r\n",
        "\r\n",
        "# ignoring the warnings\r\n",
        "import warnings\r\n",
        "warnings.filterwarnings('ignore')"
      ],
      "execution_count": null,
      "outputs": []
    },
    {
      "cell_type": "code",
      "metadata": {
        "id": "CI_6aRsQsUZJ"
      },
      "source": [
        "# Loading the train Datasets\r\n",
        "#\r\n",
        "train_df= pd.read_csv(\"/content/insurance_prediction_train_data.csv\")"
      ],
      "execution_count": null,
      "outputs": []
    },
    {
      "cell_type": "code",
      "metadata": {
        "id": "_vdd2p4ivgkK"
      },
      "source": [
        "# Loading the test Datasets\r\n",
        "#\r\n",
        "test_df=pd.read_csv(\"/content/prediction_test_data.csv\")\r\n"
      ],
      "execution_count": null,
      "outputs": []
    },
    {
      "cell_type": "markdown",
      "metadata": {
        "id": "M9TRq6IwrpHK"
      },
      "source": [
        "## 3. Checking the Data"
      ]
    },
    {
      "cell_type": "code",
      "metadata": {
        "colab": {
          "base_uri": "https://localhost:8080/"
        },
        "id": "vZUPOXG4wDAT",
        "outputId": "ff5e4962-2cfb-4f0d-f928-8901dbb3ceb8"
      },
      "source": [
        "# Determining the no. of records in our train and test dataset\r\n",
        "#\r\n",
        "print(\"train dataset shape :\", train_df.shape)\r\n",
        "print(\"-\"*40)\r\n",
        "print(\"test dataset shape :\", test_df.shape)"
      ],
      "execution_count": null,
      "outputs": [
        {
          "output_type": "stream",
          "text": [
            "train dataset shape : (7160, 14)\n",
            "----------------------------------------\n",
            "test dataset shape : (3069, 13)\n"
          ],
          "name": "stdout"
        }
      ]
    },
    {
      "cell_type": "markdown",
      "metadata": {
        "id": "j-oM1nEM0a2Q"
      },
      "source": [
        "**observation**\r\n",
        "* train dataset has 7160 records and 14 variables.\r\n",
        "* test dataset has 3069 records and 13 variables."
      ]
    },
    {
      "cell_type": "code",
      "metadata": {
        "colab": {
          "base_uri": "https://localhost:8080/",
          "height": 234
        },
        "id": "pWM-46ZdwZkS",
        "outputId": "a114dce8-c88e-48f3-b78a-ebb8be1aa686"
      },
      "source": [
        "# Previewing the top of our train dataset\r\n",
        "#\r\n",
        "train_df.sample(5)"
      ],
      "execution_count": null,
      "outputs": [
        {
          "output_type": "execute_result",
          "data": {
            "text/html": [
              "<div>\n",
              "<style scoped>\n",
              "    .dataframe tbody tr th:only-of-type {\n",
              "        vertical-align: middle;\n",
              "    }\n",
              "\n",
              "    .dataframe tbody tr th {\n",
              "        vertical-align: top;\n",
              "    }\n",
              "\n",
              "    .dataframe thead th {\n",
              "        text-align: right;\n",
              "    }\n",
              "</style>\n",
              "<table border=\"1\" class=\"dataframe\">\n",
              "  <thead>\n",
              "    <tr style=\"text-align: right;\">\n",
              "      <th></th>\n",
              "      <th>Customer Id</th>\n",
              "      <th>YearOfObservation</th>\n",
              "      <th>Insured_Period</th>\n",
              "      <th>Residential</th>\n",
              "      <th>Building_Painted</th>\n",
              "      <th>Building_Fenced</th>\n",
              "      <th>Garden</th>\n",
              "      <th>Settlement</th>\n",
              "      <th>Building Dimension</th>\n",
              "      <th>Building_Type</th>\n",
              "      <th>Date_of_Occupancy</th>\n",
              "      <th>NumberOfWindows</th>\n",
              "      <th>Geo_Code</th>\n",
              "      <th>Claim</th>\n",
              "    </tr>\n",
              "  </thead>\n",
              "  <tbody>\n",
              "    <tr>\n",
              "      <th>5424</th>\n",
              "      <td>H17158</td>\n",
              "      <td>2015</td>\n",
              "      <td>1.000000</td>\n",
              "      <td>0</td>\n",
              "      <td>V</td>\n",
              "      <td>N</td>\n",
              "      <td>O</td>\n",
              "      <td>R</td>\n",
              "      <td>675.0</td>\n",
              "      <td>2</td>\n",
              "      <td>1900.0</td>\n",
              "      <td>3</td>\n",
              "      <td>77350</td>\n",
              "      <td>1</td>\n",
              "    </tr>\n",
              "    <tr>\n",
              "      <th>4603</th>\n",
              "      <td>H18151</td>\n",
              "      <td>2015</td>\n",
              "      <td>1.000000</td>\n",
              "      <td>0</td>\n",
              "      <td>V</td>\n",
              "      <td>N</td>\n",
              "      <td>O</td>\n",
              "      <td>R</td>\n",
              "      <td>290.0</td>\n",
              "      <td>1</td>\n",
              "      <td>1960.0</td>\n",
              "      <td>3</td>\n",
              "      <td>73116</td>\n",
              "      <td>0</td>\n",
              "    </tr>\n",
              "    <tr>\n",
              "      <th>7042</th>\n",
              "      <td>H17975</td>\n",
              "      <td>2012</td>\n",
              "      <td>1.000000</td>\n",
              "      <td>0</td>\n",
              "      <td>V</td>\n",
              "      <td>N</td>\n",
              "      <td>O</td>\n",
              "      <td>R</td>\n",
              "      <td>850.0</td>\n",
              "      <td>3</td>\n",
              "      <td>1945.0</td>\n",
              "      <td>5</td>\n",
              "      <td>2B033</td>\n",
              "      <td>0</td>\n",
              "    </tr>\n",
              "    <tr>\n",
              "      <th>2882</th>\n",
              "      <td>H6780</td>\n",
              "      <td>2013</td>\n",
              "      <td>0.747945</td>\n",
              "      <td>0</td>\n",
              "      <td>V</td>\n",
              "      <td>V</td>\n",
              "      <td>V</td>\n",
              "      <td>U</td>\n",
              "      <td>1362.0</td>\n",
              "      <td>2</td>\n",
              "      <td>1988.0</td>\n",
              "      <td>.</td>\n",
              "      <td>38314</td>\n",
              "      <td>1</td>\n",
              "    </tr>\n",
              "    <tr>\n",
              "      <th>1478</th>\n",
              "      <td>H18202</td>\n",
              "      <td>2013</td>\n",
              "      <td>1.000000</td>\n",
              "      <td>1</td>\n",
              "      <td>V</td>\n",
              "      <td>N</td>\n",
              "      <td>O</td>\n",
              "      <td>R</td>\n",
              "      <td>6300.0</td>\n",
              "      <td>2</td>\n",
              "      <td>1973.0</td>\n",
              "      <td>5</td>\n",
              "      <td>13213</td>\n",
              "      <td>0</td>\n",
              "    </tr>\n",
              "  </tbody>\n",
              "</table>\n",
              "</div>"
            ],
            "text/plain": [
              "     Customer Id  YearOfObservation  ...  Geo_Code  Claim\n",
              "5424      H17158               2015  ...     77350      1\n",
              "4603      H18151               2015  ...     73116      0\n",
              "7042      H17975               2012  ...     2B033      0\n",
              "2882       H6780               2013  ...     38314      1\n",
              "1478      H18202               2013  ...     13213      0\n",
              "\n",
              "[5 rows x 14 columns]"
            ]
          },
          "metadata": {
            "tags": []
          },
          "execution_count": 159
        }
      ]
    },
    {
      "cell_type": "code",
      "metadata": {
        "colab": {
          "base_uri": "https://localhost:8080/",
          "height": 234
        },
        "id": "62OnpNnZy_aG",
        "outputId": "c0d04093-e813-4668-d123-e1e8e904ccaa"
      },
      "source": [
        "# Previewing the bottom of our train dataset\r\n",
        "#\r\n",
        "train_df.tail(5)"
      ],
      "execution_count": null,
      "outputs": [
        {
          "output_type": "execute_result",
          "data": {
            "text/html": [
              "<div>\n",
              "<style scoped>\n",
              "    .dataframe tbody tr th:only-of-type {\n",
              "        vertical-align: middle;\n",
              "    }\n",
              "\n",
              "    .dataframe tbody tr th {\n",
              "        vertical-align: top;\n",
              "    }\n",
              "\n",
              "    .dataframe thead th {\n",
              "        text-align: right;\n",
              "    }\n",
              "</style>\n",
              "<table border=\"1\" class=\"dataframe\">\n",
              "  <thead>\n",
              "    <tr style=\"text-align: right;\">\n",
              "      <th></th>\n",
              "      <th>Customer Id</th>\n",
              "      <th>YearOfObservation</th>\n",
              "      <th>Insured_Period</th>\n",
              "      <th>Residential</th>\n",
              "      <th>Building_Painted</th>\n",
              "      <th>Building_Fenced</th>\n",
              "      <th>Garden</th>\n",
              "      <th>Settlement</th>\n",
              "      <th>Building Dimension</th>\n",
              "      <th>Building_Type</th>\n",
              "      <th>Date_of_Occupancy</th>\n",
              "      <th>NumberOfWindows</th>\n",
              "      <th>Geo_Code</th>\n",
              "      <th>Claim</th>\n",
              "    </tr>\n",
              "  </thead>\n",
              "  <tbody>\n",
              "    <tr>\n",
              "      <th>7155</th>\n",
              "      <td>H5290</td>\n",
              "      <td>2012</td>\n",
              "      <td>1.000000</td>\n",
              "      <td>1</td>\n",
              "      <td>V</td>\n",
              "      <td>V</td>\n",
              "      <td>V</td>\n",
              "      <td>U</td>\n",
              "      <td>NaN</td>\n",
              "      <td>1</td>\n",
              "      <td>2001.0</td>\n",
              "      <td>.</td>\n",
              "      <td>NaN</td>\n",
              "      <td>0</td>\n",
              "    </tr>\n",
              "    <tr>\n",
              "      <th>7156</th>\n",
              "      <td>H5926</td>\n",
              "      <td>2013</td>\n",
              "      <td>1.000000</td>\n",
              "      <td>0</td>\n",
              "      <td>V</td>\n",
              "      <td>V</td>\n",
              "      <td>V</td>\n",
              "      <td>U</td>\n",
              "      <td>NaN</td>\n",
              "      <td>2</td>\n",
              "      <td>1980.0</td>\n",
              "      <td>.</td>\n",
              "      <td>NaN</td>\n",
              "      <td>1</td>\n",
              "    </tr>\n",
              "    <tr>\n",
              "      <th>7157</th>\n",
              "      <td>H6204</td>\n",
              "      <td>2016</td>\n",
              "      <td>0.038251</td>\n",
              "      <td>0</td>\n",
              "      <td>V</td>\n",
              "      <td>V</td>\n",
              "      <td>V</td>\n",
              "      <td>U</td>\n",
              "      <td>NaN</td>\n",
              "      <td>1</td>\n",
              "      <td>1992.0</td>\n",
              "      <td>.</td>\n",
              "      <td>NaN</td>\n",
              "      <td>0</td>\n",
              "    </tr>\n",
              "    <tr>\n",
              "      <th>7158</th>\n",
              "      <td>H6537</td>\n",
              "      <td>2013</td>\n",
              "      <td>1.000000</td>\n",
              "      <td>0</td>\n",
              "      <td>V</td>\n",
              "      <td>V</td>\n",
              "      <td>V</td>\n",
              "      <td>U</td>\n",
              "      <td>NaN</td>\n",
              "      <td>1</td>\n",
              "      <td>1972.0</td>\n",
              "      <td>.</td>\n",
              "      <td>NaN</td>\n",
              "      <td>0</td>\n",
              "    </tr>\n",
              "    <tr>\n",
              "      <th>7159</th>\n",
              "      <td>H7470</td>\n",
              "      <td>2014</td>\n",
              "      <td>1.000000</td>\n",
              "      <td>0</td>\n",
              "      <td>V</td>\n",
              "      <td>V</td>\n",
              "      <td>V</td>\n",
              "      <td>U</td>\n",
              "      <td>NaN</td>\n",
              "      <td>1</td>\n",
              "      <td>2004.0</td>\n",
              "      <td>.</td>\n",
              "      <td>NaN</td>\n",
              "      <td>0</td>\n",
              "    </tr>\n",
              "  </tbody>\n",
              "</table>\n",
              "</div>"
            ],
            "text/plain": [
              "     Customer Id  YearOfObservation  ...  Geo_Code  Claim\n",
              "7155       H5290               2012  ...       NaN      0\n",
              "7156       H5926               2013  ...       NaN      1\n",
              "7157       H6204               2016  ...       NaN      0\n",
              "7158       H6537               2013  ...       NaN      0\n",
              "7159       H7470               2014  ...       NaN      0\n",
              "\n",
              "[5 rows x 14 columns]"
            ]
          },
          "metadata": {
            "tags": []
          },
          "execution_count": 160
        }
      ]
    },
    {
      "cell_type": "code",
      "metadata": {
        "colab": {
          "base_uri": "https://localhost:8080/",
          "height": 234
        },
        "id": "zKAQTG-vzQzn",
        "outputId": "af4b685d-551e-4e90-bd67-a7d3e05e1530"
      },
      "source": [
        "# Previewing the top of our test dataset\r\n",
        "#\r\n",
        "test_df.sample(5)"
      ],
      "execution_count": null,
      "outputs": [
        {
          "output_type": "execute_result",
          "data": {
            "text/html": [
              "<div>\n",
              "<style scoped>\n",
              "    .dataframe tbody tr th:only-of-type {\n",
              "        vertical-align: middle;\n",
              "    }\n",
              "\n",
              "    .dataframe tbody tr th {\n",
              "        vertical-align: top;\n",
              "    }\n",
              "\n",
              "    .dataframe thead th {\n",
              "        text-align: right;\n",
              "    }\n",
              "</style>\n",
              "<table border=\"1\" class=\"dataframe\">\n",
              "  <thead>\n",
              "    <tr style=\"text-align: right;\">\n",
              "      <th></th>\n",
              "      <th>Customer Id</th>\n",
              "      <th>YearOfObservation</th>\n",
              "      <th>Insured_Period</th>\n",
              "      <th>Residential</th>\n",
              "      <th>Building_Painted</th>\n",
              "      <th>Building_Fenced</th>\n",
              "      <th>Garden</th>\n",
              "      <th>Settlement</th>\n",
              "      <th>Building Dimension</th>\n",
              "      <th>Building_Type</th>\n",
              "      <th>Date_of_Occupancy</th>\n",
              "      <th>NumberOfWindows</th>\n",
              "      <th>Geo_Code</th>\n",
              "    </tr>\n",
              "  </thead>\n",
              "  <tbody>\n",
              "    <tr>\n",
              "      <th>2286</th>\n",
              "      <td>H8998</td>\n",
              "      <td>2012</td>\n",
              "      <td>0.751366</td>\n",
              "      <td>0</td>\n",
              "      <td>V</td>\n",
              "      <td>N</td>\n",
              "      <td>O</td>\n",
              "      <td>R</td>\n",
              "      <td>3500.0</td>\n",
              "      <td>4</td>\n",
              "      <td>1900.0</td>\n",
              "      <td>7</td>\n",
              "      <td>75115</td>\n",
              "    </tr>\n",
              "    <tr>\n",
              "      <th>2033</th>\n",
              "      <td>H11404</td>\n",
              "      <td>2012</td>\n",
              "      <td>1.000000</td>\n",
              "      <td>1</td>\n",
              "      <td>N</td>\n",
              "      <td>V</td>\n",
              "      <td>V</td>\n",
              "      <td>U</td>\n",
              "      <td>300.0</td>\n",
              "      <td>2</td>\n",
              "      <td>1960.0</td>\n",
              "      <td>.</td>\n",
              "      <td>69381</td>\n",
              "    </tr>\n",
              "    <tr>\n",
              "      <th>617</th>\n",
              "      <td>H10121</td>\n",
              "      <td>2013</td>\n",
              "      <td>1.000000</td>\n",
              "      <td>0</td>\n",
              "      <td>V</td>\n",
              "      <td>V</td>\n",
              "      <td>V</td>\n",
              "      <td>U</td>\n",
              "      <td>250.0</td>\n",
              "      <td>2</td>\n",
              "      <td>NaN</td>\n",
              "      <td>.</td>\n",
              "      <td>13202</td>\n",
              "    </tr>\n",
              "    <tr>\n",
              "      <th>1771</th>\n",
              "      <td>H11149</td>\n",
              "      <td>2012</td>\n",
              "      <td>1.000000</td>\n",
              "      <td>0</td>\n",
              "      <td>N</td>\n",
              "      <td>V</td>\n",
              "      <td>V</td>\n",
              "      <td>U</td>\n",
              "      <td>5096.0</td>\n",
              "      <td>2</td>\n",
              "      <td>1980.0</td>\n",
              "      <td>.</td>\n",
              "      <td>62160</td>\n",
              "    </tr>\n",
              "    <tr>\n",
              "      <th>2059</th>\n",
              "      <td>H9257</td>\n",
              "      <td>2013</td>\n",
              "      <td>1.000000</td>\n",
              "      <td>1</td>\n",
              "      <td>V</td>\n",
              "      <td>N</td>\n",
              "      <td>O</td>\n",
              "      <td>R</td>\n",
              "      <td>725.0</td>\n",
              "      <td>1</td>\n",
              "      <td>1980.0</td>\n",
              "      <td>4</td>\n",
              "      <td>72181</td>\n",
              "    </tr>\n",
              "  </tbody>\n",
              "</table>\n",
              "</div>"
            ],
            "text/plain": [
              "     Customer Id  YearOfObservation  ...  NumberOfWindows  Geo_Code\n",
              "2286       H8998               2012  ...                7     75115\n",
              "2033      H11404               2012  ...                .     69381\n",
              "617       H10121               2013  ...                .     13202\n",
              "1771      H11149               2012  ...                .     62160\n",
              "2059       H9257               2013  ...                4     72181\n",
              "\n",
              "[5 rows x 13 columns]"
            ]
          },
          "metadata": {
            "tags": []
          },
          "execution_count": 161
        }
      ]
    },
    {
      "cell_type": "code",
      "metadata": {
        "colab": {
          "base_uri": "https://localhost:8080/",
          "height": 234
        },
        "id": "jj0vmnTIzQwe",
        "outputId": "9406107a-df70-4846-f156-1bf9759cf2af"
      },
      "source": [
        "# Previewing the bottom of our test dataset\r\n",
        "#\r\n",
        "test_df.tail()"
      ],
      "execution_count": null,
      "outputs": [
        {
          "output_type": "execute_result",
          "data": {
            "text/html": [
              "<div>\n",
              "<style scoped>\n",
              "    .dataframe tbody tr th:only-of-type {\n",
              "        vertical-align: middle;\n",
              "    }\n",
              "\n",
              "    .dataframe tbody tr th {\n",
              "        vertical-align: top;\n",
              "    }\n",
              "\n",
              "    .dataframe thead th {\n",
              "        text-align: right;\n",
              "    }\n",
              "</style>\n",
              "<table border=\"1\" class=\"dataframe\">\n",
              "  <thead>\n",
              "    <tr style=\"text-align: right;\">\n",
              "      <th></th>\n",
              "      <th>Customer Id</th>\n",
              "      <th>YearOfObservation</th>\n",
              "      <th>Insured_Period</th>\n",
              "      <th>Residential</th>\n",
              "      <th>Building_Painted</th>\n",
              "      <th>Building_Fenced</th>\n",
              "      <th>Garden</th>\n",
              "      <th>Settlement</th>\n",
              "      <th>Building Dimension</th>\n",
              "      <th>Building_Type</th>\n",
              "      <th>Date_of_Occupancy</th>\n",
              "      <th>NumberOfWindows</th>\n",
              "      <th>Geo_Code</th>\n",
              "    </tr>\n",
              "  </thead>\n",
              "  <tbody>\n",
              "    <tr>\n",
              "      <th>3064</th>\n",
              "      <td>H11583</td>\n",
              "      <td>2015</td>\n",
              "      <td>1.0</td>\n",
              "      <td>0</td>\n",
              "      <td>V</td>\n",
              "      <td>V</td>\n",
              "      <td>V</td>\n",
              "      <td>U</td>\n",
              "      <td>NaN</td>\n",
              "      <td>4</td>\n",
              "      <td>1900.0</td>\n",
              "      <td>.</td>\n",
              "      <td>NaN</td>\n",
              "    </tr>\n",
              "    <tr>\n",
              "      <th>3065</th>\n",
              "      <td>H11720</td>\n",
              "      <td>2012</td>\n",
              "      <td>1.0</td>\n",
              "      <td>0</td>\n",
              "      <td>V</td>\n",
              "      <td>V</td>\n",
              "      <td>V</td>\n",
              "      <td>U</td>\n",
              "      <td>NaN</td>\n",
              "      <td>2</td>\n",
              "      <td>1948.0</td>\n",
              "      <td>.</td>\n",
              "      <td>NaN</td>\n",
              "    </tr>\n",
              "    <tr>\n",
              "      <th>3066</th>\n",
              "      <td>H11721</td>\n",
              "      <td>2012</td>\n",
              "      <td>1.0</td>\n",
              "      <td>0</td>\n",
              "      <td>V</td>\n",
              "      <td>V</td>\n",
              "      <td>V</td>\n",
              "      <td>U</td>\n",
              "      <td>NaN</td>\n",
              "      <td>2</td>\n",
              "      <td>1993.0</td>\n",
              "      <td>.</td>\n",
              "      <td>NaN</td>\n",
              "    </tr>\n",
              "    <tr>\n",
              "      <th>3067</th>\n",
              "      <td>H12408</td>\n",
              "      <td>2013</td>\n",
              "      <td>1.0</td>\n",
              "      <td>0</td>\n",
              "      <td>V</td>\n",
              "      <td>V</td>\n",
              "      <td>V</td>\n",
              "      <td>U</td>\n",
              "      <td>NaN</td>\n",
              "      <td>1</td>\n",
              "      <td>1800.0</td>\n",
              "      <td>.</td>\n",
              "      <td>NaN</td>\n",
              "    </tr>\n",
              "    <tr>\n",
              "      <th>3068</th>\n",
              "      <td>H9021</td>\n",
              "      <td>2012</td>\n",
              "      <td>1.0</td>\n",
              "      <td>0</td>\n",
              "      <td>V</td>\n",
              "      <td>V</td>\n",
              "      <td>V</td>\n",
              "      <td>U</td>\n",
              "      <td>NaN</td>\n",
              "      <td>2</td>\n",
              "      <td>1950.0</td>\n",
              "      <td>.</td>\n",
              "      <td>NaN</td>\n",
              "    </tr>\n",
              "  </tbody>\n",
              "</table>\n",
              "</div>"
            ],
            "text/plain": [
              "     Customer Id  YearOfObservation  ...  NumberOfWindows  Geo_Code\n",
              "3064      H11583               2015  ...                .       NaN\n",
              "3065      H11720               2012  ...                .       NaN\n",
              "3066      H11721               2012  ...                .       NaN\n",
              "3067      H12408               2013  ...                .       NaN\n",
              "3068       H9021               2012  ...                .       NaN\n",
              "\n",
              "[5 rows x 13 columns]"
            ]
          },
          "metadata": {
            "tags": []
          },
          "execution_count": 162
        }
      ]
    },
    {
      "cell_type": "markdown",
      "metadata": {
        "id": "XUFc1GBs0OO1"
      },
      "source": [
        "observations: both two datasets has uniform data frm top to the bottom"
      ]
    },
    {
      "cell_type": "code",
      "metadata": {
        "colab": {
          "base_uri": "https://localhost:8080/"
        },
        "id": "-7Hlg8K_zmdl",
        "outputId": "10c6bd6b-1f87-4b2e-af0b-c13aa7c766b0"
      },
      "source": [
        "# Checking whether each column of train dataset has an appropriate datatype.\r\n",
        "#\r\n",
        "print(\"train dataset datatype\", train_df.info())\r\n",
        "print(\"-\"*50)\r\n",
        "print(\"test dataset datatype :\", test_df.info())"
      ],
      "execution_count": null,
      "outputs": [
        {
          "output_type": "stream",
          "text": [
            "<class 'pandas.core.frame.DataFrame'>\n",
            "RangeIndex: 7160 entries, 0 to 7159\n",
            "Data columns (total 14 columns):\n",
            " #   Column              Non-Null Count  Dtype  \n",
            "---  ------              --------------  -----  \n",
            " 0   Customer Id         7160 non-null   object \n",
            " 1   YearOfObservation   7160 non-null   int64  \n",
            " 2   Insured_Period      7160 non-null   float64\n",
            " 3   Residential         7160 non-null   int64  \n",
            " 4   Building_Painted    7160 non-null   object \n",
            " 5   Building_Fenced     7160 non-null   object \n",
            " 6   Garden              7153 non-null   object \n",
            " 7   Settlement          7160 non-null   object \n",
            " 8   Building Dimension  7054 non-null   float64\n",
            " 9   Building_Type       7160 non-null   int64  \n",
            " 10  Date_of_Occupancy   6652 non-null   float64\n",
            " 11  NumberOfWindows     7160 non-null   object \n",
            " 12  Geo_Code            7058 non-null   object \n",
            " 13  Claim               7160 non-null   int64  \n",
            "dtypes: float64(3), int64(4), object(7)\n",
            "memory usage: 783.2+ KB\n",
            "train dataset datatype None\n",
            "--------------------------------------------------\n",
            "<class 'pandas.core.frame.DataFrame'>\n",
            "RangeIndex: 3069 entries, 0 to 3068\n",
            "Data columns (total 13 columns):\n",
            " #   Column              Non-Null Count  Dtype  \n",
            "---  ------              --------------  -----  \n",
            " 0   Customer Id         3069 non-null   object \n",
            " 1   YearOfObservation   3069 non-null   int64  \n",
            " 2   Insured_Period      3069 non-null   float64\n",
            " 3   Residential         3069 non-null   int64  \n",
            " 4   Building_Painted    3069 non-null   object \n",
            " 5   Building_Fenced     3069 non-null   object \n",
            " 6   Garden              3065 non-null   object \n",
            " 7   Settlement          3069 non-null   object \n",
            " 8   Building Dimension  3056 non-null   float64\n",
            " 9   Building_Type       3069 non-null   int64  \n",
            " 10  Date_of_Occupancy   2341 non-null   float64\n",
            " 11  NumberOfWindows     3069 non-null   object \n",
            " 12  Geo_Code            3056 non-null   object \n",
            "dtypes: float64(3), int64(3), object(7)\n",
            "memory usage: 311.8+ KB\n",
            "test dataset datatype : None\n"
          ],
          "name": "stdout"
        }
      ]
    },
    {
      "cell_type": "code",
      "metadata": {
        "colab": {
          "base_uri": "https://localhost:8080/"
        },
        "id": "tazJFjOCWxSL",
        "outputId": "1bafd861-2787-4529-d667-4fc3d2bd8440"
      },
      "source": [
        "# checking the target variable\r\n",
        "train_df. Claim.value_counts() "
      ],
      "execution_count": null,
      "outputs": [
        {
          "output_type": "execute_result",
          "data": {
            "text/plain": [
              "0    5526\n",
              "1    1634\n",
              "Name: Claim, dtype: int64"
            ]
          },
          "metadata": {
            "tags": []
          },
          "execution_count": 164
        }
      ]
    },
    {
      "cell_type": "code",
      "metadata": {
        "colab": {
          "base_uri": "https://localhost:8080/"
        },
        "id": "Q5pAmoV2XHVN",
        "outputId": "065e448a-a718-401b-c9f4-5df33e11e198"
      },
      "source": [
        "#getting the above in parcentage\r\n",
        "#\r\n",
        "train_df.Claim.value_counts() / len(train_df) * 100 "
      ],
      "execution_count": null,
      "outputs": [
        {
          "output_type": "execute_result",
          "data": {
            "text/plain": [
              "0    77.178771\n",
              "1    22.821229\n",
              "Name: Claim, dtype: float64"
            ]
          },
          "metadata": {
            "tags": []
          },
          "execution_count": 165
        }
      ]
    },
    {
      "cell_type": "markdown",
      "metadata": {
        "id": "qKQy8WhzrwVK"
      },
      "source": [
        "## 4. External Data Source Validation"
      ]
    },
    {
      "cell_type": "markdown",
      "metadata": {
        "id": "f7BJKnNvr2Tw"
      },
      "source": [
        "### a. Validation"
      ]
    },
    {
      "cell_type": "code",
      "metadata": {
        "colab": {
          "base_uri": "https://localhost:8080/"
        },
        "id": "P0B7DqcT2FUZ",
        "outputId": "b8c0a589-c1df-4dc9-f178-14904407ee46"
      },
      "source": [
        "#validy for result dataset\r\n",
        "#\r\n",
        "train_df.Date_of_Occupancy.unique\r\n"
      ],
      "execution_count": null,
      "outputs": [
        {
          "output_type": "execute_result",
          "data": {
            "text/plain": [
              "<bound method Series.unique of 0       1960.0\n",
              "1       1850.0\n",
              "2       1960.0\n",
              "3       1960.0\n",
              "4       1800.0\n",
              "         ...  \n",
              "7155    2001.0\n",
              "7156    1980.0\n",
              "7157    1992.0\n",
              "7158    1972.0\n",
              "7159    2004.0\n",
              "Name: Date_of_Occupancy, Length: 7160, dtype: float64>"
            ]
          },
          "metadata": {
            "tags": []
          },
          "execution_count": 166
        }
      ]
    },
    {
      "cell_type": "markdown",
      "metadata": {
        "id": "HIjKJE36p2Yu"
      },
      "source": [
        "## 5. Tidying the Dataset"
      ]
    },
    {
      "cell_type": "markdown",
      "metadata": {
        "id": "JCOkVmhGp2ZF"
      },
      "source": [
        "###Tidying train dataset"
      ]
    },
    {
      "cell_type": "code",
      "metadata": {
        "id": "cBjULNaop2ZK"
      },
      "source": [
        "#5.1 data cleaning for train_df dataset\r\n",
        "#\r\n",
        "#creating a copy of the dataset to be be used on cleaning process\r\n",
        "#\r\n",
        "train_df1=train_df.copy()"
      ],
      "execution_count": null,
      "outputs": []
    },
    {
      "cell_type": "code",
      "metadata": {
        "colab": {
          "base_uri": "https://localhost:8080/",
          "height": 214
        },
        "id": "v30y9Vhnp2ZU",
        "outputId": "a80d26a6-51fd-464e-81f6-288bf68fba79"
      },
      "source": [
        "#5.1a Dropping unnecesary customer id variable\r\n",
        "#\r\n",
        "train_df1.drop(['Customer Id','YearOfObservation', 'Geo_Code', 'Date_of_Occupancy'], axis=1, inplace=True)\r\n",
        "train_df1.head()\r\n"
      ],
      "execution_count": null,
      "outputs": [
        {
          "output_type": "execute_result",
          "data": {
            "text/html": [
              "<div>\n",
              "<style scoped>\n",
              "    .dataframe tbody tr th:only-of-type {\n",
              "        vertical-align: middle;\n",
              "    }\n",
              "\n",
              "    .dataframe tbody tr th {\n",
              "        vertical-align: top;\n",
              "    }\n",
              "\n",
              "    .dataframe thead th {\n",
              "        text-align: right;\n",
              "    }\n",
              "</style>\n",
              "<table border=\"1\" class=\"dataframe\">\n",
              "  <thead>\n",
              "    <tr style=\"text-align: right;\">\n",
              "      <th></th>\n",
              "      <th>Insured_Period</th>\n",
              "      <th>Residential</th>\n",
              "      <th>Building_Painted</th>\n",
              "      <th>Building_Fenced</th>\n",
              "      <th>Garden</th>\n",
              "      <th>Settlement</th>\n",
              "      <th>Building Dimension</th>\n",
              "      <th>Building_Type</th>\n",
              "      <th>NumberOfWindows</th>\n",
              "      <th>Claim</th>\n",
              "    </tr>\n",
              "  </thead>\n",
              "  <tbody>\n",
              "    <tr>\n",
              "      <th>0</th>\n",
              "      <td>1.0</td>\n",
              "      <td>0</td>\n",
              "      <td>N</td>\n",
              "      <td>V</td>\n",
              "      <td>V</td>\n",
              "      <td>U</td>\n",
              "      <td>290.0</td>\n",
              "      <td>1</td>\n",
              "      <td>.</td>\n",
              "      <td>0</td>\n",
              "    </tr>\n",
              "    <tr>\n",
              "      <th>1</th>\n",
              "      <td>1.0</td>\n",
              "      <td>0</td>\n",
              "      <td>V</td>\n",
              "      <td>N</td>\n",
              "      <td>O</td>\n",
              "      <td>R</td>\n",
              "      <td>490.0</td>\n",
              "      <td>1</td>\n",
              "      <td>4</td>\n",
              "      <td>0</td>\n",
              "    </tr>\n",
              "    <tr>\n",
              "      <th>2</th>\n",
              "      <td>1.0</td>\n",
              "      <td>0</td>\n",
              "      <td>N</td>\n",
              "      <td>V</td>\n",
              "      <td>V</td>\n",
              "      <td>U</td>\n",
              "      <td>595.0</td>\n",
              "      <td>1</td>\n",
              "      <td>.</td>\n",
              "      <td>0</td>\n",
              "    </tr>\n",
              "    <tr>\n",
              "      <th>3</th>\n",
              "      <td>1.0</td>\n",
              "      <td>0</td>\n",
              "      <td>V</td>\n",
              "      <td>V</td>\n",
              "      <td>V</td>\n",
              "      <td>U</td>\n",
              "      <td>2840.0</td>\n",
              "      <td>1</td>\n",
              "      <td>.</td>\n",
              "      <td>0</td>\n",
              "    </tr>\n",
              "    <tr>\n",
              "      <th>4</th>\n",
              "      <td>1.0</td>\n",
              "      <td>0</td>\n",
              "      <td>V</td>\n",
              "      <td>N</td>\n",
              "      <td>O</td>\n",
              "      <td>R</td>\n",
              "      <td>680.0</td>\n",
              "      <td>1</td>\n",
              "      <td>3</td>\n",
              "      <td>0</td>\n",
              "    </tr>\n",
              "  </tbody>\n",
              "</table>\n",
              "</div>"
            ],
            "text/plain": [
              "   Insured_Period  Residential  ... NumberOfWindows Claim\n",
              "0             1.0            0  ...               .     0\n",
              "1             1.0            0  ...               4     0\n",
              "2             1.0            0  ...               .     0\n",
              "3             1.0            0  ...               .     0\n",
              "4             1.0            0  ...               3     0\n",
              "\n",
              "[5 rows x 10 columns]"
            ]
          },
          "metadata": {
            "tags": []
          },
          "execution_count": 168
        }
      ]
    },
    {
      "cell_type": "code",
      "metadata": {
        "colab": {
          "base_uri": "https://localhost:8080/"
        },
        "id": "hu9NmXOpC5M0",
        "outputId": "bc4d59ac-9fac-42c4-8eb6-5238fa9bbd2c"
      },
      "source": [
        "# Replacing the  . with missing values\r\n",
        "#\r\n",
        "train_df1.replace('   .',np.nan,inplace=True)\r\n",
        "#\r\n",
        "#checking the changes\r\n",
        "#\r\n",
        "train_df1.NumberOfWindows.unique()"
      ],
      "execution_count": null,
      "outputs": [
        {
          "output_type": "execute_result",
          "data": {
            "text/plain": [
              "array([nan, '4', '3', '2', '5', '>=10', '6', '7', '9', '8', '1'],\n",
              "      dtype=object)"
            ]
          },
          "metadata": {
            "tags": []
          },
          "execution_count": 169
        }
      ]
    },
    {
      "cell_type": "code",
      "metadata": {
        "colab": {
          "base_uri": "https://localhost:8080/"
        },
        "id": "gH0xUxd6p2Za",
        "outputId": "e31d4260-6931-44d0-adad-5595b7a880b3"
      },
      "source": [
        "#5.1b Check for missing values\r\n",
        "#\r\n",
        "train_df1.isnull().sum()"
      ],
      "execution_count": null,
      "outputs": [
        {
          "output_type": "execute_result",
          "data": {
            "text/plain": [
              "Insured_Period           0\n",
              "Residential              0\n",
              "Building_Painted         0\n",
              "Building_Fenced          0\n",
              "Garden                   7\n",
              "Settlement               0\n",
              "Building Dimension     106\n",
              "Building_Type            0\n",
              "NumberOfWindows       3551\n",
              "Claim                    0\n",
              "dtype: int64"
            ]
          },
          "metadata": {
            "tags": []
          },
          "execution_count": 170
        }
      ]
    },
    {
      "cell_type": "markdown",
      "metadata": {
        "id": "JCdrdQIUp2Zg"
      },
      "source": [
        "**observations**: Garden, building dimension,date of occupancy, and NumberOfWindows has missing values."
      ]
    },
    {
      "cell_type": "code",
      "metadata": {
        "colab": {
          "base_uri": "https://localhost:8080/"
        },
        "id": "COHYHK_LFJD4",
        "outputId": "294e0e21-4340-4c15-b102-c6ae150593d4"
      },
      "source": [
        "#getting the percentage of missing data in each column\r\n",
        "#\r\n",
        "train_df1.isnull().sum()/len(train_df1)* 100 "
      ],
      "execution_count": null,
      "outputs": [
        {
          "output_type": "execute_result",
          "data": {
            "text/plain": [
              "Insured_Period         0.000000\n",
              "Residential            0.000000\n",
              "Building_Painted       0.000000\n",
              "Building_Fenced        0.000000\n",
              "Garden                 0.097765\n",
              "Settlement             0.000000\n",
              "Building Dimension     1.480447\n",
              "Building_Type          0.000000\n",
              "NumberOfWindows       49.594972\n",
              "Claim                  0.000000\n",
              "dtype: float64"
            ]
          },
          "metadata": {
            "tags": []
          },
          "execution_count": 171
        }
      ]
    },
    {
      "cell_type": "code",
      "metadata": {
        "colab": {
          "base_uri": "https://localhost:8080/"
        },
        "id": "QOgrWmVGH-au",
        "outputId": "1aeb0616-a0c9-47b0-8823-59262319ae5f"
      },
      "source": [
        "# dropping variables with high missing values\r\n",
        "#as a role of thumb, drop any colunm with more than 25% of the missing data.\r\n",
        "#\r\n",
        "train_df1 = train_df1[train_df1.columns[train_df1.isnull().mean() < 0.25]]\r\n",
        "train_df1.isnull().sum()"
      ],
      "execution_count": null,
      "outputs": [
        {
          "output_type": "execute_result",
          "data": {
            "text/plain": [
              "Insured_Period          0\n",
              "Residential             0\n",
              "Building_Painted        0\n",
              "Building_Fenced         0\n",
              "Garden                  7\n",
              "Settlement              0\n",
              "Building Dimension    106\n",
              "Building_Type           0\n",
              "Claim                   0\n",
              "dtype: int64"
            ]
          },
          "metadata": {
            "tags": []
          },
          "execution_count": 172
        }
      ]
    },
    {
      "cell_type": "markdown",
      "metadata": {
        "id": "l2U8pjCOOmNw"
      },
      "source": [
        "**observation**: Number of Windows variable was dropped."
      ]
    },
    {
      "cell_type": "code",
      "metadata": {
        "colab": {
          "base_uri": "https://localhost:8080/"
        },
        "id": "l7ynjZapI_sb",
        "outputId": "8a4bf7ba-74b5-4a84-ab19-3b2bd701841e"
      },
      "source": [
        "# filling the measured variables with 0\r\n",
        "#\r\n",
        "measured_col = ['Building Dimension']\r\n",
        "train_df1[measured_col]=train_df1[measured_col].fillna(0)\r\n",
        "#\r\n",
        "#dropping any remaining missing values in the garden variable\r\n",
        "drop_null= train_df1.dropna(inplace=True)\r\n",
        "#\r\n",
        "#confriming no missing values\r\n",
        "train_df1.isnull().sum().any()"
      ],
      "execution_count": null,
      "outputs": [
        {
          "output_type": "execute_result",
          "data": {
            "text/plain": [
              "False"
            ]
          },
          "metadata": {
            "tags": []
          },
          "execution_count": 173
        }
      ]
    },
    {
      "cell_type": "markdown",
      "metadata": {
        "id": "KMXhGZdTJWG_"
      },
      "source": [
        "**observation**\r\n",
        "* where the test were not taken/measured, there were null values. the entry should be zero thus we use fillna function\r\n",
        "* Dropped missing value in garden variables since they were few and cannot affect our analysis."
      ]
    },
    {
      "cell_type": "code",
      "metadata": {
        "colab": {
          "base_uri": "https://localhost:8080/"
        },
        "id": "8a9CdKwRp2Zj",
        "outputId": "1e6abc57-2025-4fd3-d9f9-c8dde22c95e3"
      },
      "source": [
        "# Checking if there are duplicates\r\n",
        "#\r\n",
        "train_df1.duplicated().sum()"
      ],
      "execution_count": null,
      "outputs": [
        {
          "output_type": "execute_result",
          "data": {
            "text/plain": [
              "1715"
            ]
          },
          "metadata": {
            "tags": []
          },
          "execution_count": 174
        }
      ]
    },
    {
      "cell_type": "code",
      "metadata": {
        "colab": {
          "base_uri": "https://localhost:8080/"
        },
        "id": "58K_4jhwp2Zl",
        "outputId": "5ab7ba63-c5ff-4976-d78f-a856642d0d97"
      },
      "source": [
        "# Dropping duplicates\r\n",
        "train_df1.drop_duplicates(inplace=True)\r\n",
        "#\r\n",
        "#confirm no duplicates\r\n",
        "#\r\n",
        "train_df1.duplicated().any()"
      ],
      "execution_count": null,
      "outputs": [
        {
          "output_type": "execute_result",
          "data": {
            "text/plain": [
              "False"
            ]
          },
          "metadata": {
            "tags": []
          },
          "execution_count": 175
        }
      ]
    },
    {
      "cell_type": "code",
      "metadata": {
        "colab": {
          "base_uri": "https://localhost:8080/",
          "height": 984
        },
        "id": "_VN8kwkxp2Z8",
        "outputId": "abe2a54b-946d-4ff6-e638-4179f0af72df"
      },
      "source": [
        "#checking for outliers\r\n",
        "#\r\n",
        "# To check for outliers through boxplots\r\n",
        "#\r\n",
        "\r\n",
        "fig, ((ax1, ax2), (ax3, ax4)) = plt.subplots(2,2, figsize=(15, 15))\r\n",
        "\r\n",
        "fig.suptitle('Boxplots')\r\n",
        "sns.boxplot(train_df1['Insured_Period'], ax=ax1)\r\n",
        "sns.boxplot(train_df1['Residential'], ax=ax2)\r\n",
        "sns.boxplot(train_df1['Building Dimension'], ax=ax3)\r\n",
        "sns.boxplot(train_df1['Claim'], ax=ax4)\r\n",
        "\r\n",
        "plt.show()"
      ],
      "execution_count": null,
      "outputs": [
        {
          "output_type": "display_data",
          "data": {
            "image/png": "[encoded data removed]",
            "text/plain": [
              "<Figure size 1080x1080 with 4 Axes>"
            ]
          },
          "metadata": {
            "tags": [],
            "needs_background": "light"
          }
        }
      ]
    },
    {
      "cell_type": "markdown",
      "metadata": {
        "id": "rVaFceHap2aD"
      },
      "source": [
        "**observation**: insured period, building dimension and claim variables has outliers"
      ]
    },
    {
      "cell_type": "code",
      "metadata": {
        "colab": {
          "base_uri": "https://localhost:8080/"
        },
        "id": "6DOmbgNcRV7S",
        "outputId": "b1997759-ddb0-494d-bfa9-9813ae36bf70"
      },
      "source": [
        "# Check for outliers through IQR Score\r\n",
        "\r\n",
        "# we first get the interquantile range for each column\r\n",
        "Q1 = train_df1.quantile(0.25)\r\n",
        "Q3 = train_df1.quantile(0.75)\r\n",
        "IQR = Q3 - Q1\r\n",
        "print(IQR)"
      ],
      "execution_count": null,
      "outputs": [
        {
          "output_type": "stream",
          "text": [
            "Insured_Period           0.002732\n",
            "Residential              1.000000\n",
            "Building Dimension    2031.500000\n",
            "Building_Type            1.000000\n",
            "Claim                    1.000000\n",
            "dtype: float64\n"
          ],
          "name": "stdout"
        }
      ]
    },
    {
      "cell_type": "code",
      "metadata": {
        "colab": {
          "base_uri": "https://localhost:8080/",
          "height": 406
        },
        "id": "S_QqLcMfRta0",
        "outputId": "a2322c9c-6546-4a8b-b726-f205916afb02"
      },
      "source": [
        "# We then get the outliers as follows:\r\n",
        "# True means presence of outliers\r\n",
        "\r\n",
        "(train_df1 < (Q1 - 1.5 * IQR)) |(train_df1 > (Q3 + 1.5 * IQR))"
      ],
      "execution_count": null,
      "outputs": [
        {
          "output_type": "execute_result",
          "data": {
            "text/html": [
              "<div>\n",
              "<style scoped>\n",
              "    .dataframe tbody tr th:only-of-type {\n",
              "        vertical-align: middle;\n",
              "    }\n",
              "\n",
              "    .dataframe tbody tr th {\n",
              "        vertical-align: top;\n",
              "    }\n",
              "\n",
              "    .dataframe thead th {\n",
              "        text-align: right;\n",
              "    }\n",
              "</style>\n",
              "<table border=\"1\" class=\"dataframe\">\n",
              "  <thead>\n",
              "    <tr style=\"text-align: right;\">\n",
              "      <th></th>\n",
              "      <th>Building Dimension</th>\n",
              "      <th>Building_Fenced</th>\n",
              "      <th>Building_Painted</th>\n",
              "      <th>Building_Type</th>\n",
              "      <th>Claim</th>\n",
              "      <th>Garden</th>\n",
              "      <th>Insured_Period</th>\n",
              "      <th>Residential</th>\n",
              "      <th>Settlement</th>\n",
              "    </tr>\n",
              "  </thead>\n",
              "  <tbody>\n",
              "    <tr>\n",
              "      <th>0</th>\n",
              "      <td>False</td>\n",
              "      <td>False</td>\n",
              "      <td>False</td>\n",
              "      <td>False</td>\n",
              "      <td>False</td>\n",
              "      <td>False</td>\n",
              "      <td>False</td>\n",
              "      <td>False</td>\n",
              "      <td>False</td>\n",
              "    </tr>\n",
              "    <tr>\n",
              "      <th>1</th>\n",
              "      <td>False</td>\n",
              "      <td>False</td>\n",
              "      <td>False</td>\n",
              "      <td>False</td>\n",
              "      <td>False</td>\n",
              "      <td>False</td>\n",
              "      <td>False</td>\n",
              "      <td>False</td>\n",
              "      <td>False</td>\n",
              "    </tr>\n",
              "    <tr>\n",
              "      <th>2</th>\n",
              "      <td>False</td>\n",
              "      <td>False</td>\n",
              "      <td>False</td>\n",
              "      <td>False</td>\n",
              "      <td>False</td>\n",
              "      <td>False</td>\n",
              "      <td>False</td>\n",
              "      <td>False</td>\n",
              "      <td>False</td>\n",
              "    </tr>\n",
              "    <tr>\n",
              "      <th>3</th>\n",
              "      <td>False</td>\n",
              "      <td>False</td>\n",
              "      <td>False</td>\n",
              "      <td>False</td>\n",
              "      <td>False</td>\n",
              "      <td>False</td>\n",
              "      <td>False</td>\n",
              "      <td>False</td>\n",
              "      <td>False</td>\n",
              "    </tr>\n",
              "    <tr>\n",
              "      <th>4</th>\n",
              "      <td>False</td>\n",
              "      <td>False</td>\n",
              "      <td>False</td>\n",
              "      <td>False</td>\n",
              "      <td>False</td>\n",
              "      <td>False</td>\n",
              "      <td>False</td>\n",
              "      <td>False</td>\n",
              "      <td>False</td>\n",
              "    </tr>\n",
              "    <tr>\n",
              "      <th>...</th>\n",
              "      <td>...</td>\n",
              "      <td>...</td>\n",
              "      <td>...</td>\n",
              "      <td>...</td>\n",
              "      <td>...</td>\n",
              "      <td>...</td>\n",
              "      <td>...</td>\n",
              "      <td>...</td>\n",
              "      <td>...</td>\n",
              "    </tr>\n",
              "    <tr>\n",
              "      <th>7137</th>\n",
              "      <td>False</td>\n",
              "      <td>False</td>\n",
              "      <td>False</td>\n",
              "      <td>False</td>\n",
              "      <td>False</td>\n",
              "      <td>False</td>\n",
              "      <td>True</td>\n",
              "      <td>False</td>\n",
              "      <td>False</td>\n",
              "    </tr>\n",
              "    <tr>\n",
              "      <th>7139</th>\n",
              "      <td>False</td>\n",
              "      <td>False</td>\n",
              "      <td>False</td>\n",
              "      <td>False</td>\n",
              "      <td>False</td>\n",
              "      <td>False</td>\n",
              "      <td>True</td>\n",
              "      <td>False</td>\n",
              "      <td>False</td>\n",
              "    </tr>\n",
              "    <tr>\n",
              "      <th>7148</th>\n",
              "      <td>False</td>\n",
              "      <td>False</td>\n",
              "      <td>False</td>\n",
              "      <td>False</td>\n",
              "      <td>False</td>\n",
              "      <td>False</td>\n",
              "      <td>True</td>\n",
              "      <td>False</td>\n",
              "      <td>False</td>\n",
              "    </tr>\n",
              "    <tr>\n",
              "      <th>7151</th>\n",
              "      <td>False</td>\n",
              "      <td>False</td>\n",
              "      <td>False</td>\n",
              "      <td>False</td>\n",
              "      <td>False</td>\n",
              "      <td>False</td>\n",
              "      <td>True</td>\n",
              "      <td>False</td>\n",
              "      <td>False</td>\n",
              "    </tr>\n",
              "    <tr>\n",
              "      <th>7157</th>\n",
              "      <td>False</td>\n",
              "      <td>False</td>\n",
              "      <td>False</td>\n",
              "      <td>False</td>\n",
              "      <td>False</td>\n",
              "      <td>False</td>\n",
              "      <td>True</td>\n",
              "      <td>False</td>\n",
              "      <td>False</td>\n",
              "    </tr>\n",
              "  </tbody>\n",
              "</table>\n",
              "<p>5438 rows × 9 columns</p>\n",
              "</div>"
            ],
            "text/plain": [
              "      Building Dimension  Building_Fenced  ...  Residential  Settlement\n",
              "0                  False            False  ...        False       False\n",
              "1                  False            False  ...        False       False\n",
              "2                  False            False  ...        False       False\n",
              "3                  False            False  ...        False       False\n",
              "4                  False            False  ...        False       False\n",
              "...                  ...              ...  ...          ...         ...\n",
              "7137               False            False  ...        False       False\n",
              "7139               False            False  ...        False       False\n",
              "7148               False            False  ...        False       False\n",
              "7151               False            False  ...        False       False\n",
              "7157               False            False  ...        False       False\n",
              "\n",
              "[5438 rows x 9 columns]"
            ]
          },
          "metadata": {
            "tags": []
          },
          "execution_count": 178
        }
      ]
    },
    {
      "cell_type": "code",
      "metadata": {
        "colab": {
          "base_uri": "https://localhost:8080/"
        },
        "id": "fwnvZjYSR-XH",
        "outputId": "b0af0536-ef80-4b12-e229-dc051285a5a3"
      },
      "source": [
        "# We then filter out outliers and remain with valid values as follows\r\n",
        "\r\n",
        "train_df2 = train_df1[~((train_df1 < (Q1 - 1.5 * IQR)) |(train_df1 > (Q3 + 1.5 * IQR))).any(axis=1)]\r\n",
        "train_df2.shape"
      ],
      "execution_count": null,
      "outputs": [
        {
          "output_type": "execute_result",
          "data": {
            "text/plain": [
              "(3917, 9)"
            ]
          },
          "metadata": {
            "tags": []
          },
          "execution_count": 179
        }
      ]
    },
    {
      "cell_type": "code",
      "metadata": {
        "colab": {
          "base_uri": "https://localhost:8080/",
          "height": 215
        },
        "id": "DM7Zt3mxXcF3",
        "outputId": "8049aac1-1bbe-45c1-efbb-350a0bf229ef"
      },
      "source": [
        "#5.1f To remove white spaces in our columns\r\n",
        "train_df2.columns.str.replace(\" \",\" \")\r\n",
        "#\r\n",
        "#preview of the new dataset\r\n",
        "train_df3= train_df2.copy()\r\n",
        "print(train_df3.shape)\r\n",
        "train_df3.head()"
      ],
      "execution_count": null,
      "outputs": [
        {
          "output_type": "stream",
          "text": [
            "(3917, 9)\n"
          ],
          "name": "stdout"
        },
        {
          "output_type": "execute_result",
          "data": {
            "text/html": [
              "<div>\n",
              "<style scoped>\n",
              "    .dataframe tbody tr th:only-of-type {\n",
              "        vertical-align: middle;\n",
              "    }\n",
              "\n",
              "    .dataframe tbody tr th {\n",
              "        vertical-align: top;\n",
              "    }\n",
              "\n",
              "    .dataframe thead th {\n",
              "        text-align: right;\n",
              "    }\n",
              "</style>\n",
              "<table border=\"1\" class=\"dataframe\">\n",
              "  <thead>\n",
              "    <tr style=\"text-align: right;\">\n",
              "      <th></th>\n",
              "      <th>Insured_Period</th>\n",
              "      <th>Residential</th>\n",
              "      <th>Building_Painted</th>\n",
              "      <th>Building_Fenced</th>\n",
              "      <th>Garden</th>\n",
              "      <th>Settlement</th>\n",
              "      <th>Building Dimension</th>\n",
              "      <th>Building_Type</th>\n",
              "      <th>Claim</th>\n",
              "    </tr>\n",
              "  </thead>\n",
              "  <tbody>\n",
              "    <tr>\n",
              "      <th>0</th>\n",
              "      <td>1.0</td>\n",
              "      <td>0</td>\n",
              "      <td>N</td>\n",
              "      <td>V</td>\n",
              "      <td>V</td>\n",
              "      <td>U</td>\n",
              "      <td>290.0</td>\n",
              "      <td>1</td>\n",
              "      <td>0</td>\n",
              "    </tr>\n",
              "    <tr>\n",
              "      <th>1</th>\n",
              "      <td>1.0</td>\n",
              "      <td>0</td>\n",
              "      <td>V</td>\n",
              "      <td>N</td>\n",
              "      <td>O</td>\n",
              "      <td>R</td>\n",
              "      <td>490.0</td>\n",
              "      <td>1</td>\n",
              "      <td>0</td>\n",
              "    </tr>\n",
              "    <tr>\n",
              "      <th>2</th>\n",
              "      <td>1.0</td>\n",
              "      <td>0</td>\n",
              "      <td>N</td>\n",
              "      <td>V</td>\n",
              "      <td>V</td>\n",
              "      <td>U</td>\n",
              "      <td>595.0</td>\n",
              "      <td>1</td>\n",
              "      <td>0</td>\n",
              "    </tr>\n",
              "    <tr>\n",
              "      <th>3</th>\n",
              "      <td>1.0</td>\n",
              "      <td>0</td>\n",
              "      <td>V</td>\n",
              "      <td>V</td>\n",
              "      <td>V</td>\n",
              "      <td>U</td>\n",
              "      <td>2840.0</td>\n",
              "      <td>1</td>\n",
              "      <td>0</td>\n",
              "    </tr>\n",
              "    <tr>\n",
              "      <th>4</th>\n",
              "      <td>1.0</td>\n",
              "      <td>0</td>\n",
              "      <td>V</td>\n",
              "      <td>N</td>\n",
              "      <td>O</td>\n",
              "      <td>R</td>\n",
              "      <td>680.0</td>\n",
              "      <td>1</td>\n",
              "      <td>0</td>\n",
              "    </tr>\n",
              "  </tbody>\n",
              "</table>\n",
              "</div>"
            ],
            "text/plain": [
              "   Insured_Period  Residential  ... Building_Type Claim\n",
              "0             1.0            0  ...             1     0\n",
              "1             1.0            0  ...             1     0\n",
              "2             1.0            0  ...             1     0\n",
              "3             1.0            0  ...             1     0\n",
              "4             1.0            0  ...             1     0\n",
              "\n",
              "[5 rows x 9 columns]"
            ]
          },
          "metadata": {
            "tags": []
          },
          "execution_count": 180
        }
      ]
    },
    {
      "cell_type": "markdown",
      "metadata": {
        "id": "6Xg2qzCjX2d8"
      },
      "source": [
        "**Observation**: our clean train dataset has 3917 records and 9 variables"
      ]
    },
    {
      "cell_type": "code",
      "metadata": {
        "colab": {
          "base_uri": "https://localhost:8080/"
        },
        "id": "AmMfaKocYPsj",
        "outputId": "b315af76-b6d3-450c-a09f-c6f6c467bd20"
      },
      "source": [
        "#rechecking the datatypes\r\n",
        "#\r\n",
        "train_df3.info()"
      ],
      "execution_count": null,
      "outputs": [
        {
          "output_type": "stream",
          "text": [
            "<class 'pandas.core.frame.DataFrame'>\n",
            "Int64Index: 3917 entries, 0 to 7130\n",
            "Data columns (total 9 columns):\n",
            " #   Column              Non-Null Count  Dtype  \n",
            "---  ------              --------------  -----  \n",
            " 0   Insured_Period      3917 non-null   float64\n",
            " 1   Residential         3917 non-null   int64  \n",
            " 2   Building_Painted    3917 non-null   object \n",
            " 3   Building_Fenced     3917 non-null   object \n",
            " 4   Garden              3917 non-null   object \n",
            " 5   Settlement          3917 non-null   object \n",
            " 6   Building Dimension  3917 non-null   float64\n",
            " 7   Building_Type       3917 non-null   int64  \n",
            " 8   Claim               3917 non-null   int64  \n",
            "dtypes: float64(2), int64(3), object(4)\n",
            "memory usage: 306.0+ KB\n"
          ],
          "name": "stdout"
        }
      ]
    },
    {
      "cell_type": "code",
      "metadata": {
        "colab": {
          "base_uri": "https://localhost:8080/"
        },
        "id": "dHLNC8oGp2aG",
        "outputId": "ea1f7f9a-f920-42d6-a65d-0a4ddfea1845"
      },
      "source": [
        "#converting the data to the correct datatype- float\r\n",
        "#\r\n",
        "train_df3[[\"Residential\", \"Building_Type\"]]= train_df3[[\"Residential\", \"Building_Type\" ]].astype('float')\r\n",
        "#\r\n",
        "#converting categorical variables to the correct datatype-category\r\n",
        "#\r\n",
        "train_df3[[\"Building_Painted\", \"Building_Fenced\", \"Garden\", \"Settlement\" ]]= train_df3[[\"Building_Painted\", \"Building_Fenced\", \"Garden\", \"Settlement\" ]].astype('category')\r\n",
        "train_df3.info()"
      ],
      "execution_count": null,
      "outputs": [
        {
          "output_type": "stream",
          "text": [
            "<class 'pandas.core.frame.DataFrame'>\n",
            "Int64Index: 3917 entries, 0 to 7130\n",
            "Data columns (total 9 columns):\n",
            " #   Column              Non-Null Count  Dtype   \n",
            "---  ------              --------------  -----   \n",
            " 0   Insured_Period      3917 non-null   float64 \n",
            " 1   Residential         3917 non-null   float64 \n",
            " 2   Building_Painted    3917 non-null   category\n",
            " 3   Building_Fenced     3917 non-null   category\n",
            " 4   Garden              3917 non-null   category\n",
            " 5   Settlement          3917 non-null   category\n",
            " 6   Building Dimension  3917 non-null   float64 \n",
            " 7   Building_Type       3917 non-null   float64 \n",
            " 8   Claim               3917 non-null   int64   \n",
            "dtypes: category(4), float64(4), int64(1)\n",
            "memory usage: 199.3 KB\n"
          ],
          "name": "stdout"
        }
      ]
    },
    {
      "cell_type": "markdown",
      "metadata": {
        "id": "fzEyNHXHaK31"
      },
      "source": [
        "**observation**: dataset converted to the right datatypes"
      ]
    },
    {
      "cell_type": "markdown",
      "metadata": {
        "id": "CGDA4_Lr5HJz"
      },
      "source": [
        "###Tidying test dataset"
      ]
    },
    {
      "cell_type": "code",
      "metadata": {
        "id": "MDAMfk3X51qJ"
      },
      "source": [
        "#6.1a data cleaning for train_df dataset\r\n",
        "#\r\n",
        "#creating a copy of the dataset to be be used on cleaning process\r\n",
        "#\r\n",
        "test_df1=test_df.copy()"
      ],
      "execution_count": null,
      "outputs": []
    },
    {
      "cell_type": "code",
      "metadata": {
        "colab": {
          "base_uri": "https://localhost:8080/",
          "height": 197
        },
        "id": "kaIhQpOEp2xB",
        "outputId": "ea8b7d4a-da99-4a94-9cf1-361f5586e1c2"
      },
      "source": [
        "#6.1a.Getting the irrelevant varaibles\r\n",
        "#Dropping unnecesary customer id variable\r\n",
        "test_df1.drop(['Customer Id','YearOfObservation', 'Geo_Code', 'Date_of_Occupancy'], axis=1, inplace=True)\r\n",
        "test_df1.head()\r\n"
      ],
      "execution_count": null,
      "outputs": [
        {
          "output_type": "execute_result",
          "data": {
            "text/html": [
              "<div>\n",
              "<style scoped>\n",
              "    .dataframe tbody tr th:only-of-type {\n",
              "        vertical-align: middle;\n",
              "    }\n",
              "\n",
              "    .dataframe tbody tr th {\n",
              "        vertical-align: top;\n",
              "    }\n",
              "\n",
              "    .dataframe thead th {\n",
              "        text-align: right;\n",
              "    }\n",
              "</style>\n",
              "<table border=\"1\" class=\"dataframe\">\n",
              "  <thead>\n",
              "    <tr style=\"text-align: right;\">\n",
              "      <th></th>\n",
              "      <th>Insured_Period</th>\n",
              "      <th>Residential</th>\n",
              "      <th>Building_Painted</th>\n",
              "      <th>Building_Fenced</th>\n",
              "      <th>Garden</th>\n",
              "      <th>Settlement</th>\n",
              "      <th>Building Dimension</th>\n",
              "      <th>Building_Type</th>\n",
              "      <th>NumberOfWindows</th>\n",
              "    </tr>\n",
              "  </thead>\n",
              "  <tbody>\n",
              "    <tr>\n",
              "      <th>0</th>\n",
              "      <td>1.000000</td>\n",
              "      <td>0</td>\n",
              "      <td>V</td>\n",
              "      <td>N</td>\n",
              "      <td>O</td>\n",
              "      <td>R</td>\n",
              "      <td>300.0</td>\n",
              "      <td>1</td>\n",
              "      <td>3</td>\n",
              "    </tr>\n",
              "    <tr>\n",
              "      <th>1</th>\n",
              "      <td>0.997268</td>\n",
              "      <td>0</td>\n",
              "      <td>V</td>\n",
              "      <td>N</td>\n",
              "      <td>O</td>\n",
              "      <td>R</td>\n",
              "      <td>300.0</td>\n",
              "      <td>1</td>\n",
              "      <td>3</td>\n",
              "    </tr>\n",
              "    <tr>\n",
              "      <th>2</th>\n",
              "      <td>0.369863</td>\n",
              "      <td>0</td>\n",
              "      <td>V</td>\n",
              "      <td>V</td>\n",
              "      <td>V</td>\n",
              "      <td>U</td>\n",
              "      <td>790.0</td>\n",
              "      <td>1</td>\n",
              "      <td>.</td>\n",
              "    </tr>\n",
              "    <tr>\n",
              "      <th>3</th>\n",
              "      <td>1.000000</td>\n",
              "      <td>0</td>\n",
              "      <td>V</td>\n",
              "      <td>N</td>\n",
              "      <td>O</td>\n",
              "      <td>R</td>\n",
              "      <td>1405.0</td>\n",
              "      <td>1</td>\n",
              "      <td>3</td>\n",
              "    </tr>\n",
              "    <tr>\n",
              "      <th>4</th>\n",
              "      <td>1.000000</td>\n",
              "      <td>0</td>\n",
              "      <td>V</td>\n",
              "      <td>N</td>\n",
              "      <td>O</td>\n",
              "      <td>R</td>\n",
              "      <td>1405.0</td>\n",
              "      <td>1</td>\n",
              "      <td>3</td>\n",
              "    </tr>\n",
              "  </tbody>\n",
              "</table>\n",
              "</div>"
            ],
            "text/plain": [
              "   Insured_Period  Residential  ... Building_Type NumberOfWindows\n",
              "0        1.000000            0  ...             1               3\n",
              "1        0.997268            0  ...             1               3\n",
              "2        0.369863            0  ...             1               .\n",
              "3        1.000000            0  ...             1               3\n",
              "4        1.000000            0  ...             1               3\n",
              "\n",
              "[5 rows x 9 columns]"
            ]
          },
          "metadata": {
            "tags": []
          },
          "execution_count": 184
        }
      ]
    },
    {
      "cell_type": "code",
      "metadata": {
        "colab": {
          "base_uri": "https://localhost:8080/"
        },
        "id": "4o6LaK0nDuCO",
        "outputId": "442e1a78-ae6c-4f86-d7fc-a55636543f32"
      },
      "source": [
        "#6.1b Replacing the  . with missing values\r\n",
        "#\r\n",
        "test_df1.replace('   .',np.nan,inplace=True)\r\n",
        "#\r\n",
        "#checking the changes\r\n",
        "#\r\n",
        "test_df1.NumberOfWindows.unique()"
      ],
      "execution_count": null,
      "outputs": [
        {
          "output_type": "execute_result",
          "data": {
            "text/plain": [
              "array(['3', nan, '2', '4', '9', '5', '6', '8', '>=10', '7', '1'],\n",
              "      dtype=object)"
            ]
          },
          "metadata": {
            "tags": []
          },
          "execution_count": 185
        }
      ]
    },
    {
      "cell_type": "code",
      "metadata": {
        "colab": {
          "base_uri": "https://localhost:8080/"
        },
        "id": "w0-q000c628T",
        "outputId": "f21da7f8-1eaa-479d-de38-5fcb96794573"
      },
      "source": [
        "#6.1b Check for missing values\r\n",
        "#\r\n",
        "test_df1.isnull().sum()"
      ],
      "execution_count": null,
      "outputs": [
        {
          "output_type": "execute_result",
          "data": {
            "text/plain": [
              "Insured_Period           0\n",
              "Residential              0\n",
              "Building_Painted         0\n",
              "Building_Fenced          0\n",
              "Garden                   4\n",
              "Settlement               0\n",
              "Building Dimension      13\n",
              "Building_Type            0\n",
              "NumberOfWindows       2240\n",
              "dtype: int64"
            ]
          },
          "metadata": {
            "tags": []
          },
          "execution_count": 186
        }
      ]
    },
    {
      "cell_type": "markdown",
      "metadata": {
        "id": "9MbJQEmk9YFl"
      },
      "source": [
        "**observations**: Garden, building dimension,date of occupancy, and Number of windows have missing values."
      ]
    },
    {
      "cell_type": "code",
      "metadata": {
        "colab": {
          "base_uri": "https://localhost:8080/"
        },
        "id": "EhE1VlsvG8dm",
        "outputId": "b3934942-f7e3-4857-ba37-efa2d01ea530"
      },
      "source": [
        "#6.1c getting the percentage of missing data in each column\r\n",
        "#\r\n",
        "test_df1.isnull().sum()/len(test_df1)* 100 "
      ],
      "execution_count": null,
      "outputs": [
        {
          "output_type": "execute_result",
          "data": {
            "text/plain": [
              "Insured_Period         0.000000\n",
              "Residential            0.000000\n",
              "Building_Painted       0.000000\n",
              "Building_Fenced        0.000000\n",
              "Garden                 0.130336\n",
              "Settlement             0.000000\n",
              "Building Dimension     0.423591\n",
              "Building_Type          0.000000\n",
              "NumberOfWindows       72.987944\n",
              "dtype: float64"
            ]
          },
          "metadata": {
            "tags": []
          },
          "execution_count": 187
        }
      ]
    },
    {
      "cell_type": "code",
      "metadata": {
        "colab": {
          "base_uri": "https://localhost:8080/"
        },
        "id": "sTKoA5q9HF-l",
        "outputId": "aa222c0f-31cf-46ac-d2f2-cfc8fb3ca461"
      },
      "source": [
        "# dropping variables with high missing values\r\n",
        "#as a role of thumb, drop any colunm with more than 25% of the missing data.\r\n",
        "#\r\n",
        "test_df1 = test_df1[test_df1.columns[test_df1.isnull().mean() < 0.25]]\r\n",
        "test_df1.isnull().sum()"
      ],
      "execution_count": null,
      "outputs": [
        {
          "output_type": "execute_result",
          "data": {
            "text/plain": [
              "Insured_Period         0\n",
              "Residential            0\n",
              "Building_Painted       0\n",
              "Building_Fenced        0\n",
              "Garden                 4\n",
              "Settlement             0\n",
              "Building Dimension    13\n",
              "Building_Type          0\n",
              "dtype: int64"
            ]
          },
          "metadata": {
            "tags": []
          },
          "execution_count": 188
        }
      ]
    },
    {
      "cell_type": "markdown",
      "metadata": {
        "id": "_8r6tI56Hqfw"
      },
      "source": [
        "**observation**: Number of Windows variable was dropped. "
      ]
    },
    {
      "cell_type": "code",
      "metadata": {
        "colab": {
          "base_uri": "https://localhost:8080/"
        },
        "id": "24FFip9SKrxs",
        "outputId": "ed406919-d9b7-49aa-b93f-015b30172e49"
      },
      "source": [
        "#filling the missing values with zero\r\n",
        "#\r\n",
        "measured_col = ['Building Dimension']\r\n",
        "test_df1[measured_col]=test_df1[measured_col].fillna(0)\r\n",
        "#\r\n",
        "#dropping any remaining missing values\r\n",
        "drop_null= test_df1.dropna(inplace=True)\r\n",
        "#\r\n",
        "#confriming no missing values\r\n",
        "test_df1.isnull().sum().any()"
      ],
      "execution_count": null,
      "outputs": [
        {
          "output_type": "execute_result",
          "data": {
            "text/plain": [
              "False"
            ]
          },
          "metadata": {
            "tags": []
          },
          "execution_count": 189
        }
      ]
    },
    {
      "cell_type": "markdown",
      "metadata": {
        "id": "Ngx4scK6Oy5A"
      },
      "source": [
        "**observation**\r\n",
        "\r\n",
        "* where the test were not taken/measured, there were null values. the entry should be zero thus we use fillna function\r\n",
        "* Dropped missing value in garden variables since they were few and cannot affect our analysis."
      ]
    },
    {
      "cell_type": "code",
      "metadata": {
        "colab": {
          "base_uri": "https://localhost:8080/"
        },
        "id": "HUtRUInaJgHu",
        "outputId": "fa674c80-2043-4f82-b659-817f052ef714"
      },
      "source": [
        "#6.1d Checking if there are duplicates\r\n",
        "#\r\n",
        "test_df1.duplicated().sum()"
      ],
      "execution_count": null,
      "outputs": [
        {
          "output_type": "execute_result",
          "data": {
            "text/plain": [
              "878"
            ]
          },
          "metadata": {
            "tags": []
          },
          "execution_count": 190
        }
      ]
    },
    {
      "cell_type": "code",
      "metadata": {
        "colab": {
          "base_uri": "https://localhost:8080/"
        },
        "id": "FOkmJ4ByJnHM",
        "outputId": "26366a3b-98f3-44db-c8cb-7e80df2b0595"
      },
      "source": [
        "# Dropping duplicates\r\n",
        "test_df1.drop_duplicates(inplace=True)\r\n",
        "#\r\n",
        "#confirm no duplicates\r\n",
        "#\r\n",
        "test_df1.duplicated().any()"
      ],
      "execution_count": null,
      "outputs": [
        {
          "output_type": "execute_result",
          "data": {
            "text/plain": [
              "False"
            ]
          },
          "metadata": {
            "tags": []
          },
          "execution_count": 191
        }
      ]
    },
    {
      "cell_type": "code",
      "metadata": {
        "colab": {
          "base_uri": "https://localhost:8080/",
          "height": 984
        },
        "id": "ASqzbjXlDZFD",
        "outputId": "7a0c8c26-3af9-4827-a480-1a19bf51ca1e"
      },
      "source": [
        "#6.1e checking for outliers\r\n",
        "#\r\n",
        "# To check for outliers through boxplots\r\n",
        "#\r\n",
        "\r\n",
        "fig, ((ax1, ax2), (ax3, ax4)) = plt.subplots(2,2, figsize=(15, 15))\r\n",
        "\r\n",
        "fig.suptitle('Boxplots')\r\n",
        "sns.boxplot(test_df1['Insured_Period'], ax=ax1)\r\n",
        "sns.boxplot(test_df1['Residential'], ax=ax2)\r\n",
        "sns.boxplot(test_df1['Building Dimension'], ax=ax3)\r\n",
        "\r\n",
        "plt.show()\r\n"
      ],
      "execution_count": null,
      "outputs": [
        {
          "output_type": "display_data",
          "data": {
            "image/png": "[encoded data removed]",
            "text/plain": [
              "<Figure size 1080x1080 with 4 Axes>"
            ]
          },
          "metadata": {
            "tags": [],
            "needs_background": "light"
          }
        }
      ]
    },
    {
      "cell_type": "markdown",
      "metadata": {
        "id": "d8_bxvQHFqsq"
      },
      "source": [
        "**observation**: insured period, building dimension and claim variables has outliers"
      ]
    },
    {
      "cell_type": "code",
      "metadata": {
        "colab": {
          "base_uri": "https://localhost:8080/"
        },
        "id": "qV-seka2TFdS",
        "outputId": "26708bca-169d-49ec-c224-c09083c4d6ea"
      },
      "source": [
        "# Check for outliers through IQR Score\r\n",
        "\r\n",
        "# we first get the interquantile range for each column\r\n",
        "Q1 = test_df1.quantile(0.25)\r\n",
        "Q3 = test_df1.quantile(0.75)\r\n",
        "IQR = Q3 - Q1\r\n",
        "print(IQR)"
      ],
      "execution_count": null,
      "outputs": [
        {
          "output_type": "stream",
          "text": [
            "Insured_Period           0.002732\n",
            "Residential              0.000000\n",
            "Building Dimension    1695.000000\n",
            "Building_Type            1.000000\n",
            "dtype: float64\n"
          ],
          "name": "stdout"
        }
      ]
    },
    {
      "cell_type": "code",
      "metadata": {
        "colab": {
          "base_uri": "https://localhost:8080/",
          "height": 406
        },
        "id": "MWxXBtR4TT08",
        "outputId": "dc1cebaf-7d71-43ce-ede8-debc950f9693"
      },
      "source": [
        "# We then get the outliers as follows:\r\n",
        "# True means presence of outliers\r\n",
        "\r\n",
        "(test_df1 < (Q1 - 1.5 * IQR)) |(test_df1 > (Q3 + 1.5 * IQR))"
      ],
      "execution_count": null,
      "outputs": [
        {
          "output_type": "execute_result",
          "data": {
            "text/html": [
              "<div>\n",
              "<style scoped>\n",
              "    .dataframe tbody tr th:only-of-type {\n",
              "        vertical-align: middle;\n",
              "    }\n",
              "\n",
              "    .dataframe tbody tr th {\n",
              "        vertical-align: top;\n",
              "    }\n",
              "\n",
              "    .dataframe thead th {\n",
              "        text-align: right;\n",
              "    }\n",
              "</style>\n",
              "<table border=\"1\" class=\"dataframe\">\n",
              "  <thead>\n",
              "    <tr style=\"text-align: right;\">\n",
              "      <th></th>\n",
              "      <th>Building Dimension</th>\n",
              "      <th>Building_Fenced</th>\n",
              "      <th>Building_Painted</th>\n",
              "      <th>Building_Type</th>\n",
              "      <th>Garden</th>\n",
              "      <th>Insured_Period</th>\n",
              "      <th>Residential</th>\n",
              "      <th>Settlement</th>\n",
              "    </tr>\n",
              "  </thead>\n",
              "  <tbody>\n",
              "    <tr>\n",
              "      <th>0</th>\n",
              "      <td>False</td>\n",
              "      <td>False</td>\n",
              "      <td>False</td>\n",
              "      <td>False</td>\n",
              "      <td>False</td>\n",
              "      <td>False</td>\n",
              "      <td>False</td>\n",
              "      <td>False</td>\n",
              "    </tr>\n",
              "    <tr>\n",
              "      <th>1</th>\n",
              "      <td>False</td>\n",
              "      <td>False</td>\n",
              "      <td>False</td>\n",
              "      <td>False</td>\n",
              "      <td>False</td>\n",
              "      <td>False</td>\n",
              "      <td>False</td>\n",
              "      <td>False</td>\n",
              "    </tr>\n",
              "    <tr>\n",
              "      <th>2</th>\n",
              "      <td>False</td>\n",
              "      <td>False</td>\n",
              "      <td>False</td>\n",
              "      <td>False</td>\n",
              "      <td>False</td>\n",
              "      <td>True</td>\n",
              "      <td>False</td>\n",
              "      <td>False</td>\n",
              "    </tr>\n",
              "    <tr>\n",
              "      <th>3</th>\n",
              "      <td>False</td>\n",
              "      <td>False</td>\n",
              "      <td>False</td>\n",
              "      <td>False</td>\n",
              "      <td>False</td>\n",
              "      <td>False</td>\n",
              "      <td>False</td>\n",
              "      <td>False</td>\n",
              "    </tr>\n",
              "    <tr>\n",
              "      <th>5</th>\n",
              "      <td>False</td>\n",
              "      <td>False</td>\n",
              "      <td>False</td>\n",
              "      <td>False</td>\n",
              "      <td>False</td>\n",
              "      <td>False</td>\n",
              "      <td>False</td>\n",
              "      <td>False</td>\n",
              "    </tr>\n",
              "    <tr>\n",
              "      <th>...</th>\n",
              "      <td>...</td>\n",
              "      <td>...</td>\n",
              "      <td>...</td>\n",
              "      <td>...</td>\n",
              "      <td>...</td>\n",
              "      <td>...</td>\n",
              "      <td>...</td>\n",
              "      <td>...</td>\n",
              "    </tr>\n",
              "    <tr>\n",
              "      <th>3056</th>\n",
              "      <td>False</td>\n",
              "      <td>False</td>\n",
              "      <td>False</td>\n",
              "      <td>False</td>\n",
              "      <td>False</td>\n",
              "      <td>False</td>\n",
              "      <td>False</td>\n",
              "      <td>False</td>\n",
              "    </tr>\n",
              "    <tr>\n",
              "      <th>3058</th>\n",
              "      <td>False</td>\n",
              "      <td>False</td>\n",
              "      <td>False</td>\n",
              "      <td>False</td>\n",
              "      <td>False</td>\n",
              "      <td>True</td>\n",
              "      <td>False</td>\n",
              "      <td>False</td>\n",
              "    </tr>\n",
              "    <tr>\n",
              "      <th>3059</th>\n",
              "      <td>False</td>\n",
              "      <td>False</td>\n",
              "      <td>False</td>\n",
              "      <td>False</td>\n",
              "      <td>False</td>\n",
              "      <td>False</td>\n",
              "      <td>False</td>\n",
              "      <td>False</td>\n",
              "    </tr>\n",
              "    <tr>\n",
              "      <th>3060</th>\n",
              "      <td>False</td>\n",
              "      <td>False</td>\n",
              "      <td>False</td>\n",
              "      <td>False</td>\n",
              "      <td>False</td>\n",
              "      <td>True</td>\n",
              "      <td>False</td>\n",
              "      <td>False</td>\n",
              "    </tr>\n",
              "    <tr>\n",
              "      <th>3063</th>\n",
              "      <td>False</td>\n",
              "      <td>False</td>\n",
              "      <td>False</td>\n",
              "      <td>False</td>\n",
              "      <td>False</td>\n",
              "      <td>False</td>\n",
              "      <td>False</td>\n",
              "      <td>False</td>\n",
              "    </tr>\n",
              "  </tbody>\n",
              "</table>\n",
              "<p>2187 rows × 8 columns</p>\n",
              "</div>"
            ],
            "text/plain": [
              "      Building Dimension  Building_Fenced  ...  Residential  Settlement\n",
              "0                  False            False  ...        False       False\n",
              "1                  False            False  ...        False       False\n",
              "2                  False            False  ...        False       False\n",
              "3                  False            False  ...        False       False\n",
              "5                  False            False  ...        False       False\n",
              "...                  ...              ...  ...          ...         ...\n",
              "3056               False            False  ...        False       False\n",
              "3058               False            False  ...        False       False\n",
              "3059               False            False  ...        False       False\n",
              "3060               False            False  ...        False       False\n",
              "3063               False            False  ...        False       False\n",
              "\n",
              "[2187 rows x 8 columns]"
            ]
          },
          "metadata": {
            "tags": []
          },
          "execution_count": 194
        }
      ]
    },
    {
      "cell_type": "code",
      "metadata": {
        "colab": {
          "base_uri": "https://localhost:8080/"
        },
        "id": "m0vhWulZGehQ",
        "outputId": "a6cb446a-96ef-476c-e7d9-8de7740ab347"
      },
      "source": [
        "# We then filter out outliers and remain with valid values as follows\r\n",
        "test_df2 = test_df1[~((test_df1 < (Q1 - 1.5 * IQR)) |(test_df1 > (Q3 + 1.5 * IQR))).any(axis=1)]\r\n",
        "test_df2.shape\r\n",
        "\r\n"
      ],
      "execution_count": null,
      "outputs": [
        {
          "output_type": "execute_result",
          "data": {
            "text/plain": [
              "(1215, 8)"
            ]
          },
          "metadata": {
            "tags": []
          },
          "execution_count": 195
        }
      ]
    },
    {
      "cell_type": "code",
      "metadata": {
        "colab": {
          "base_uri": "https://localhost:8080/",
          "height": 215
        },
        "id": "JrnlEKZTQvLa",
        "outputId": "9c2d3e71-4659-42b6-a0c9-3f540b405be6"
      },
      "source": [
        "#6.1f To remove white spaces in our columns\r\n",
        "test_df2.columns.str.replace(\" \",\" \")\r\n",
        "#\r\n",
        "#preview of the new dataset\r\n",
        "new_test_df= test_df2.copy()\r\n",
        "print(new_test_df.shape)\r\n",
        "new_test_df.head()"
      ],
      "execution_count": null,
      "outputs": [
        {
          "output_type": "stream",
          "text": [
            "(1215, 8)\n"
          ],
          "name": "stdout"
        },
        {
          "output_type": "execute_result",
          "data": {
            "text/html": [
              "<div>\n",
              "<style scoped>\n",
              "    .dataframe tbody tr th:only-of-type {\n",
              "        vertical-align: middle;\n",
              "    }\n",
              "\n",
              "    .dataframe tbody tr th {\n",
              "        vertical-align: top;\n",
              "    }\n",
              "\n",
              "    .dataframe thead th {\n",
              "        text-align: right;\n",
              "    }\n",
              "</style>\n",
              "<table border=\"1\" class=\"dataframe\">\n",
              "  <thead>\n",
              "    <tr style=\"text-align: right;\">\n",
              "      <th></th>\n",
              "      <th>Insured_Period</th>\n",
              "      <th>Residential</th>\n",
              "      <th>Building_Painted</th>\n",
              "      <th>Building_Fenced</th>\n",
              "      <th>Garden</th>\n",
              "      <th>Settlement</th>\n",
              "      <th>Building Dimension</th>\n",
              "      <th>Building_Type</th>\n",
              "    </tr>\n",
              "  </thead>\n",
              "  <tbody>\n",
              "    <tr>\n",
              "      <th>0</th>\n",
              "      <td>1.000000</td>\n",
              "      <td>0</td>\n",
              "      <td>V</td>\n",
              "      <td>N</td>\n",
              "      <td>O</td>\n",
              "      <td>R</td>\n",
              "      <td>300.0</td>\n",
              "      <td>1</td>\n",
              "    </tr>\n",
              "    <tr>\n",
              "      <th>1</th>\n",
              "      <td>0.997268</td>\n",
              "      <td>0</td>\n",
              "      <td>V</td>\n",
              "      <td>N</td>\n",
              "      <td>O</td>\n",
              "      <td>R</td>\n",
              "      <td>300.0</td>\n",
              "      <td>1</td>\n",
              "    </tr>\n",
              "    <tr>\n",
              "      <th>3</th>\n",
              "      <td>1.000000</td>\n",
              "      <td>0</td>\n",
              "      <td>V</td>\n",
              "      <td>N</td>\n",
              "      <td>O</td>\n",
              "      <td>R</td>\n",
              "      <td>1405.0</td>\n",
              "      <td>1</td>\n",
              "    </tr>\n",
              "    <tr>\n",
              "      <th>5</th>\n",
              "      <td>1.000000</td>\n",
              "      <td>0</td>\n",
              "      <td>V</td>\n",
              "      <td>V</td>\n",
              "      <td>V</td>\n",
              "      <td>U</td>\n",
              "      <td>3225.0</td>\n",
              "      <td>2</td>\n",
              "    </tr>\n",
              "    <tr>\n",
              "      <th>7</th>\n",
              "      <td>1.000000</td>\n",
              "      <td>0</td>\n",
              "      <td>V</td>\n",
              "      <td>V</td>\n",
              "      <td>V</td>\n",
              "      <td>U</td>\n",
              "      <td>1400.0</td>\n",
              "      <td>2</td>\n",
              "    </tr>\n",
              "  </tbody>\n",
              "</table>\n",
              "</div>"
            ],
            "text/plain": [
              "   Insured_Period  Residential  ... Building Dimension Building_Type\n",
              "0        1.000000            0  ...              300.0             1\n",
              "1        0.997268            0  ...              300.0             1\n",
              "3        1.000000            0  ...             1405.0             1\n",
              "5        1.000000            0  ...             3225.0             2\n",
              "7        1.000000            0  ...             1400.0             2\n",
              "\n",
              "[5 rows x 8 columns]"
            ]
          },
          "metadata": {
            "tags": []
          },
          "execution_count": 196
        }
      ]
    },
    {
      "cell_type": "markdown",
      "metadata": {
        "id": "O-Dfd8AqWs9U"
      },
      "source": [
        "**observation**: our new test dataset has 1215 records and 8 variables."
      ]
    },
    {
      "cell_type": "code",
      "metadata": {
        "colab": {
          "base_uri": "https://localhost:8080/"
        },
        "id": "i6tFG5IvUb0g",
        "outputId": "cd25f175-d325-46f8-de80-c74c24d0f8f5"
      },
      "source": [
        "#converting the data to the correct datatype- float\r\n",
        "#\r\n",
        "new_test_df[[\"Residential\", \"Building_Type\"]]= new_test_df[[\"Residential\", \"Building_Type\" ]].astype('float')\r\n",
        "#converting categorical variables to the correct datatype-category\r\n",
        "#\r\n",
        "new_test_df[[\"Building_Painted\", \"Building_Fenced\", \"Garden\", \"Settlement\" ]]= new_test_df[[\"Building_Painted\", \"Building_Fenced\", \"Garden\", \"Settlement\" ]].astype('category')\r\n",
        "new_test_df.info()"
      ],
      "execution_count": null,
      "outputs": [
        {
          "output_type": "stream",
          "text": [
            "<class 'pandas.core.frame.DataFrame'>\n",
            "Int64Index: 1215 entries, 0 to 3063\n",
            "Data columns (total 8 columns):\n",
            " #   Column              Non-Null Count  Dtype   \n",
            "---  ------              --------------  -----   \n",
            " 0   Insured_Period      1215 non-null   float64 \n",
            " 1   Residential         1215 non-null   float64 \n",
            " 2   Building_Painted    1215 non-null   category\n",
            " 3   Building_Fenced     1215 non-null   category\n",
            " 4   Garden              1215 non-null   category\n",
            " 5   Settlement          1215 non-null   category\n",
            " 6   Building Dimension  1215 non-null   float64 \n",
            " 7   Building_Type       1215 non-null   float64 \n",
            "dtypes: category(4), float64(4)\n",
            "memory usage: 52.6 KB\n"
          ],
          "name": "stdout"
        }
      ]
    },
    {
      "cell_type": "markdown",
      "metadata": {
        "id": "408AOs9hZ9r5"
      },
      "source": [
        "**observation**: our clean test dataset converted to the right datatypes"
      ]
    },
    {
      "cell_type": "code",
      "metadata": {
        "colab": {
          "base_uri": "https://localhost:8080/",
          "height": 197
        },
        "id": "KeXM1DMgMIK8",
        "outputId": "fc4e5fe3-2bcd-4fcd-8193-114a61ce3a5c"
      },
      "source": [
        "#creating dummies for the categorical columns\r\n",
        "#categorical colunms\r\n",
        "columns=['Building_Painted', 'Building_Fenced', 'Garden', 'Settlement']\r\n",
        "#\r\n",
        "#getting the dummies\r\n",
        "new_test_df= pd.get_dummies(test_df2, columns=columns, drop_first=True)\r\n",
        "new_test_df.head()"
      ],
      "execution_count": null,
      "outputs": [
        {
          "output_type": "execute_result",
          "data": {
            "text/html": [
              "<div>\n",
              "<style scoped>\n",
              "    .dataframe tbody tr th:only-of-type {\n",
              "        vertical-align: middle;\n",
              "    }\n",
              "\n",
              "    .dataframe tbody tr th {\n",
              "        vertical-align: top;\n",
              "    }\n",
              "\n",
              "    .dataframe thead th {\n",
              "        text-align: right;\n",
              "    }\n",
              "</style>\n",
              "<table border=\"1\" class=\"dataframe\">\n",
              "  <thead>\n",
              "    <tr style=\"text-align: right;\">\n",
              "      <th></th>\n",
              "      <th>Insured_Period</th>\n",
              "      <th>Residential</th>\n",
              "      <th>Building Dimension</th>\n",
              "      <th>Building_Type</th>\n",
              "      <th>Building_Painted_V</th>\n",
              "      <th>Building_Fenced_V</th>\n",
              "      <th>Garden_V</th>\n",
              "      <th>Settlement_U</th>\n",
              "    </tr>\n",
              "  </thead>\n",
              "  <tbody>\n",
              "    <tr>\n",
              "      <th>0</th>\n",
              "      <td>1.000000</td>\n",
              "      <td>0</td>\n",
              "      <td>300.0</td>\n",
              "      <td>1</td>\n",
              "      <td>1</td>\n",
              "      <td>0</td>\n",
              "      <td>0</td>\n",
              "      <td>0</td>\n",
              "    </tr>\n",
              "    <tr>\n",
              "      <th>1</th>\n",
              "      <td>0.997268</td>\n",
              "      <td>0</td>\n",
              "      <td>300.0</td>\n",
              "      <td>1</td>\n",
              "      <td>1</td>\n",
              "      <td>0</td>\n",
              "      <td>0</td>\n",
              "      <td>0</td>\n",
              "    </tr>\n",
              "    <tr>\n",
              "      <th>3</th>\n",
              "      <td>1.000000</td>\n",
              "      <td>0</td>\n",
              "      <td>1405.0</td>\n",
              "      <td>1</td>\n",
              "      <td>1</td>\n",
              "      <td>0</td>\n",
              "      <td>0</td>\n",
              "      <td>0</td>\n",
              "    </tr>\n",
              "    <tr>\n",
              "      <th>5</th>\n",
              "      <td>1.000000</td>\n",
              "      <td>0</td>\n",
              "      <td>3225.0</td>\n",
              "      <td>2</td>\n",
              "      <td>1</td>\n",
              "      <td>1</td>\n",
              "      <td>1</td>\n",
              "      <td>1</td>\n",
              "    </tr>\n",
              "    <tr>\n",
              "      <th>7</th>\n",
              "      <td>1.000000</td>\n",
              "      <td>0</td>\n",
              "      <td>1400.0</td>\n",
              "      <td>2</td>\n",
              "      <td>1</td>\n",
              "      <td>1</td>\n",
              "      <td>1</td>\n",
              "      <td>1</td>\n",
              "    </tr>\n",
              "  </tbody>\n",
              "</table>\n",
              "</div>"
            ],
            "text/plain": [
              "   Insured_Period  Residential  ...  Garden_V  Settlement_U\n",
              "0        1.000000            0  ...         0             0\n",
              "1        0.997268            0  ...         0             0\n",
              "3        1.000000            0  ...         0             0\n",
              "5        1.000000            0  ...         1             1\n",
              "7        1.000000            0  ...         1             1\n",
              "\n",
              "[5 rows x 8 columns]"
            ]
          },
          "metadata": {
            "tags": []
          },
          "execution_count": 198
        }
      ]
    },
    {
      "cell_type": "markdown",
      "metadata": {
        "id": "17-CD9dReEB9"
      },
      "source": [
        "## 6. Exploratory Data Analysis"
      ]
    },
    {
      "cell_type": "markdown",
      "metadata": {
        "id": "GLN657i9CLgo"
      },
      "source": [
        "## 6a. Univariate analysis\n",
        "\n",
        "We will now perform univariate analysis. This is a type of analysis done only one variable. This type of analysis will be helpful in understanding the characteristics of each variables.\n",
        "\n",
        "\n",
        "\n",
        "\n"
      ]
    },
    {
      "cell_type": "code",
      "metadata": {
        "colab": {
          "base_uri": "https://localhost:8080/",
          "height": 197
        },
        "id": "TqoCnLnOGRb1",
        "outputId": "1e5cfd78-e432-46aa-e0c6-76c37336ca5f"
      },
      "source": [
        "# preview of our dataset\r\n",
        "#\r\n",
        "train_df3.head()"
      ],
      "execution_count": null,
      "outputs": [
        {
          "output_type": "execute_result",
          "data": {
            "text/html": [
              "<div>\n",
              "<style scoped>\n",
              "    .dataframe tbody tr th:only-of-type {\n",
              "        vertical-align: middle;\n",
              "    }\n",
              "\n",
              "    .dataframe tbody tr th {\n",
              "        vertical-align: top;\n",
              "    }\n",
              "\n",
              "    .dataframe thead th {\n",
              "        text-align: right;\n",
              "    }\n",
              "</style>\n",
              "<table border=\"1\" class=\"dataframe\">\n",
              "  <thead>\n",
              "    <tr style=\"text-align: right;\">\n",
              "      <th></th>\n",
              "      <th>Insured_Period</th>\n",
              "      <th>Residential</th>\n",
              "      <th>Building_Painted</th>\n",
              "      <th>Building_Fenced</th>\n",
              "      <th>Garden</th>\n",
              "      <th>Settlement</th>\n",
              "      <th>Building Dimension</th>\n",
              "      <th>Building_Type</th>\n",
              "      <th>Claim</th>\n",
              "    </tr>\n",
              "  </thead>\n",
              "  <tbody>\n",
              "    <tr>\n",
              "      <th>0</th>\n",
              "      <td>1.0</td>\n",
              "      <td>0.0</td>\n",
              "      <td>N</td>\n",
              "      <td>V</td>\n",
              "      <td>V</td>\n",
              "      <td>U</td>\n",
              "      <td>290.0</td>\n",
              "      <td>1.0</td>\n",
              "      <td>0</td>\n",
              "    </tr>\n",
              "    <tr>\n",
              "      <th>1</th>\n",
              "      <td>1.0</td>\n",
              "      <td>0.0</td>\n",
              "      <td>V</td>\n",
              "      <td>N</td>\n",
              "      <td>O</td>\n",
              "      <td>R</td>\n",
              "      <td>490.0</td>\n",
              "      <td>1.0</td>\n",
              "      <td>0</td>\n",
              "    </tr>\n",
              "    <tr>\n",
              "      <th>2</th>\n",
              "      <td>1.0</td>\n",
              "      <td>0.0</td>\n",
              "      <td>N</td>\n",
              "      <td>V</td>\n",
              "      <td>V</td>\n",
              "      <td>U</td>\n",
              "      <td>595.0</td>\n",
              "      <td>1.0</td>\n",
              "      <td>0</td>\n",
              "    </tr>\n",
              "    <tr>\n",
              "      <th>3</th>\n",
              "      <td>1.0</td>\n",
              "      <td>0.0</td>\n",
              "      <td>V</td>\n",
              "      <td>V</td>\n",
              "      <td>V</td>\n",
              "      <td>U</td>\n",
              "      <td>2840.0</td>\n",
              "      <td>1.0</td>\n",
              "      <td>0</td>\n",
              "    </tr>\n",
              "    <tr>\n",
              "      <th>4</th>\n",
              "      <td>1.0</td>\n",
              "      <td>0.0</td>\n",
              "      <td>V</td>\n",
              "      <td>N</td>\n",
              "      <td>O</td>\n",
              "      <td>R</td>\n",
              "      <td>680.0</td>\n",
              "      <td>1.0</td>\n",
              "      <td>0</td>\n",
              "    </tr>\n",
              "  </tbody>\n",
              "</table>\n",
              "</div>"
            ],
            "text/plain": [
              "   Insured_Period  Residential  ... Building_Type Claim\n",
              "0             1.0          0.0  ...           1.0     0\n",
              "1             1.0          0.0  ...           1.0     0\n",
              "2             1.0          0.0  ...           1.0     0\n",
              "3             1.0          0.0  ...           1.0     0\n",
              "4             1.0          0.0  ...           1.0     0\n",
              "\n",
              "[5 rows x 9 columns]"
            ]
          },
          "metadata": {
            "tags": []
          },
          "execution_count": 199
        }
      ]
    },
    {
      "cell_type": "code",
      "metadata": {
        "colab": {
          "base_uri": "https://localhost:8080/",
          "height": 373
        },
        "id": "SLF_B_JY5swK",
        "outputId": "f8464bb8-5975-4811-9c7e-ab3db415d750"
      },
      "source": [
        "#univariate analysis: claim variable piechart\r\n",
        "#\r\n",
        "colors = ['#007ED6','#66B3FF']\r\n",
        "plt.figure(figsize = (6, 6))\r\n",
        "train_df3.Claim.value_counts().plot(kind = 'pie',colors=colors, autopct = '%0.1f%%')\r\n",
        "plt.title('Pie chart representation of percentage representation of hotels') \r\n",
        "plt.show()"
      ],
      "execution_count": null,
      "outputs": [
        {
          "output_type": "display_data",
          "data": {
            "image/png": "[encoded data removed]",
            "text/plain": [
              "<Figure size 432x432 with 1 Axes>"
            ]
          },
          "metadata": {
            "tags": []
          }
        }
      ]
    },
    {
      "cell_type": "markdown",
      "metadata": {
        "id": "1X_fKarudMVv"
      },
      "source": [
        "**observation**:only 27.1% of the clients claimed insurance cover."
      ]
    },
    {
      "cell_type": "code",
      "metadata": {
        "colab": {
          "base_uri": "https://localhost:8080/",
          "height": 264
        },
        "id": "rXZPutec1uD3",
        "outputId": "0c5cb9b8-91c2-4762-df83-12b5244713be"
      },
      "source": [
        "# univariate analysis: Residential variable bar graph\r\n",
        "train_df3.Residential.value_counts().plot(kind = 'bar', rot = 0)\r\n",
        "plt.show()"
      ],
      "execution_count": null,
      "outputs": [
        {
          "output_type": "display_data",
          "data": {
            "image/png": "[encoded data removed]",
            "text/plain": [
              "<Figure size 432x288 with 1 Axes>"
            ]
          },
          "metadata": {
            "tags": [],
            "needs_background": "light"
          }
        }
      ]
    },
    {
      "cell_type": "code",
      "metadata": {
        "colab": {
          "base_uri": "https://localhost:8080/",
          "height": 265
        },
        "id": "StD6TS_j2I1v",
        "outputId": "df6e5272-9196-4c08-99b9-73c4d085931d"
      },
      "source": [
        "# univariate analysis: Building_Painted variable bar graph\r\n",
        "train_df3.Building_Painted.value_counts().plot(kind = 'bar', rot = 0)\r\n",
        "plt.show()"
      ],
      "execution_count": null,
      "outputs": [
        {
          "output_type": "display_data",
          "data": {
            "image/png": "[encoded data removed]",
            "text/plain": [
              "<Figure size 432x288 with 1 Axes>"
            ]
          },
          "metadata": {
            "tags": [],
            "needs_background": "light"
          }
        }
      ]
    },
    {
      "cell_type": "code",
      "metadata": {
        "colab": {
          "base_uri": "https://localhost:8080/",
          "height": 264
        },
        "id": "qwv-cBZy0lYj",
        "outputId": "4a6786af-dfd0-4ae7-c44c-fe29015d5129"
      },
      "source": [
        "# univariate analysis: Building_Fenced variable bar graph\r\n",
        "train_df3.Building_Fenced.value_counts().plot(kind = 'bar', rot = 0)\r\n",
        "plt.show()"
      ],
      "execution_count": null,
      "outputs": [
        {
          "output_type": "display_data",
          "data": {
            "image/png": "[encoded data removed]",
            "text/plain": [
              "<Figure size 432x288 with 1 Axes>"
            ]
          },
          "metadata": {
            "tags": [],
            "needs_background": "light"
          }
        }
      ]
    },
    {
      "cell_type": "code",
      "metadata": {
        "colab": {
          "base_uri": "https://localhost:8080/",
          "height": 264
        },
        "id": "bICPLDIF0l_w",
        "outputId": "f97c603e-8a21-4416-edcb-61af809ab7e4"
      },
      "source": [
        "# univariate analysis: Garden variable bar graph\r\n",
        "train_df3.Garden.value_counts().plot(kind = 'bar', rot = 0)\r\n",
        "plt.show()"
      ],
      "execution_count": null,
      "outputs": [
        {
          "output_type": "display_data",
          "data": {
            "image/png": "[encoded data removed]",
            "text/plain": [
              "<Figure size 432x288 with 1 Axes>"
            ]
          },
          "metadata": {
            "tags": [],
            "needs_background": "light"
          }
        }
      ]
    },
    {
      "cell_type": "code",
      "metadata": {
        "colab": {
          "base_uri": "https://localhost:8080/",
          "height": 264
        },
        "id": "HiL2hTE40m02",
        "outputId": "0ad1dd76-ac49-43e5-9f73-5ade80879cfe"
      },
      "source": [
        "# univariate analysis: Settlement variable bar graph\r\n",
        "train_df3.Settlement.value_counts().plot(kind = 'bar', rot = 0)\r\n",
        "plt.show()"
      ],
      "execution_count": null,
      "outputs": [
        {
          "output_type": "display_data",
          "data": {
            "image/png": "[encoded data removed]",
            "text/plain": [
              "<Figure size 432x288 with 1 Axes>"
            ]
          },
          "metadata": {
            "tags": [],
            "needs_background": "light"
          }
        }
      ]
    },
    {
      "cell_type": "code",
      "metadata": {
        "colab": {
          "base_uri": "https://localhost:8080/",
          "height": 264
        },
        "id": "F9rIzvF40nhC",
        "outputId": "661f691b-d9a9-4ad9-ea78-6a1cd8c14cec"
      },
      "source": [
        "# univariate analysis: Building_Type variable bar graph\r\n",
        "train_df3.Building_Type.value_counts().plot(kind = 'bar', rot = 0)\r\n",
        "plt.show()"
      ],
      "execution_count": null,
      "outputs": [
        {
          "output_type": "display_data",
          "data": {
            "image/png": "[encoded data removed]",
            "text/plain": [
              "<Figure size 432x288 with 1 Axes>"
            ]
          },
          "metadata": {
            "tags": [],
            "needs_background": "light"
          }
        }
      ]
    },
    {
      "cell_type": "markdown",
      "metadata": {
        "id": "VdcIXflf3QYS"
      },
      "source": [
        "## 6b. Bivariate Analysis"
      ]
    },
    {
      "cell_type": "code",
      "metadata": {
        "colab": {
          "base_uri": "https://localhost:8080/",
          "height": 1000
        },
        "id": "GiyPu9Oc3a_N",
        "outputId": "9d480476-109f-4c44-f942-7aeecae608ff"
      },
      "source": [
        "#plotting the target variable against other features.\r\n",
        "# ignoring the warnings\r\n",
        "import warnings\r\n",
        "warnings.filterwarnings('ignore')\r\n",
        "f, axes = plt.subplots(6, 1, figsize=[5, 25])\r\n",
        "sns.countplot('Residential', hue= 'Claim', data=train_df3, palette='mako', ax=axes[0])\r\n",
        "sns.countplot('Building_Painted', hue= 'Claim', data=train_df3, palette='mako', ax=axes[1])\r\n",
        "sns.countplot('Building_Fenced', hue= 'Claim', data=train_df3, palette='mako', ax=axes[2])\r\n",
        "sns.countplot('Garden', hue= 'Claim', data=train_df3, palette='mako', ax=axes[3])\r\n",
        "sns.countplot('Settlement', hue= 'Claim', data=train_df3, palette='mako', ax=axes[4])\r\n",
        "sns.countplot('Building_Type', hue= 'Claim', data=train_df3, palette='mako', ax=axes[5])"
      ],
      "execution_count": null,
      "outputs": [
        {
          "output_type": "execute_result",
          "data": {
            "text/plain": [
              "<matplotlib.axes._subplots.AxesSubplot at 0x7fdee214eac8>"
            ]
          },
          "metadata": {
            "tags": []
          },
          "execution_count": 207
        },
        {
          "output_type": "display_data",
          "data": {
            "image/png": "[encoded data removed]",
            "text/plain": [
              "<Figure size 360x1800 with 6 Axes>"
            ]
          },
          "metadata": {
            "tags": [],
            "needs_background": "light"
          }
        }
      ]
    },
    {
      "cell_type": "code",
      "metadata": {
        "colab": {
          "base_uri": "https://localhost:8080/",
          "height": 197
        },
        "id": "ufqh3EMxfpIZ",
        "outputId": "dfaacce6-841a-48d5-8173-f235df5ff514"
      },
      "source": [
        "#Computing the correlation matrix \r\n",
        " #\r\n",
        "train_df3.corr()"
      ],
      "execution_count": null,
      "outputs": [
        {
          "output_type": "execute_result",
          "data": {
            "text/html": [
              "<div>\n",
              "<style scoped>\n",
              "    .dataframe tbody tr th:only-of-type {\n",
              "        vertical-align: middle;\n",
              "    }\n",
              "\n",
              "    .dataframe tbody tr th {\n",
              "        vertical-align: top;\n",
              "    }\n",
              "\n",
              "    .dataframe thead th {\n",
              "        text-align: right;\n",
              "    }\n",
              "</style>\n",
              "<table border=\"1\" class=\"dataframe\">\n",
              "  <thead>\n",
              "    <tr style=\"text-align: right;\">\n",
              "      <th></th>\n",
              "      <th>Insured_Period</th>\n",
              "      <th>Residential</th>\n",
              "      <th>Building Dimension</th>\n",
              "      <th>Building_Type</th>\n",
              "      <th>Claim</th>\n",
              "    </tr>\n",
              "  </thead>\n",
              "  <tbody>\n",
              "    <tr>\n",
              "      <th>Insured_Period</th>\n",
              "      <td>1.000000</td>\n",
              "      <td>0.050795</td>\n",
              "      <td>-0.004091</td>\n",
              "      <td>0.019573</td>\n",
              "      <td>0.043979</td>\n",
              "    </tr>\n",
              "    <tr>\n",
              "      <th>Residential</th>\n",
              "      <td>0.050795</td>\n",
              "      <td>1.000000</td>\n",
              "      <td>-0.018305</td>\n",
              "      <td>0.329537</td>\n",
              "      <td>0.041651</td>\n",
              "    </tr>\n",
              "    <tr>\n",
              "      <th>Building Dimension</th>\n",
              "      <td>-0.004091</td>\n",
              "      <td>-0.018305</td>\n",
              "      <td>1.000000</td>\n",
              "      <td>-0.074564</td>\n",
              "      <td>0.202805</td>\n",
              "    </tr>\n",
              "    <tr>\n",
              "      <th>Building_Type</th>\n",
              "      <td>0.019573</td>\n",
              "      <td>0.329537</td>\n",
              "      <td>-0.074564</td>\n",
              "      <td>1.000000</td>\n",
              "      <td>0.095506</td>\n",
              "    </tr>\n",
              "    <tr>\n",
              "      <th>Claim</th>\n",
              "      <td>0.043979</td>\n",
              "      <td>0.041651</td>\n",
              "      <td>0.202805</td>\n",
              "      <td>0.095506</td>\n",
              "      <td>1.000000</td>\n",
              "    </tr>\n",
              "  </tbody>\n",
              "</table>\n",
              "</div>"
            ],
            "text/plain": [
              "                    Insured_Period  Residential  ...  Building_Type     Claim\n",
              "Insured_Period            1.000000     0.050795  ...       0.019573  0.043979\n",
              "Residential               0.050795     1.000000  ...       0.329537  0.041651\n",
              "Building Dimension       -0.004091    -0.018305  ...      -0.074564  0.202805\n",
              "Building_Type             0.019573     0.329537  ...       1.000000  0.095506\n",
              "Claim                     0.043979     0.041651  ...       0.095506  1.000000\n",
              "\n",
              "[5 rows x 5 columns]"
            ]
          },
          "metadata": {
            "tags": []
          },
          "execution_count": 208
        }
      ]
    },
    {
      "cell_type": "code",
      "metadata": {
        "colab": {
          "base_uri": "https://localhost:8080/",
          "height": 613
        },
        "id": "ddVW9F1xfxjz",
        "outputId": "a7fe2f1a-80a2-4648-fc59-064d5f8d1f08"
      },
      "source": [
        "# heatmap to visualise features with linear relationships \r\n",
        "# This is the association between numerical variables in the dataset\r\n",
        "#\r\n",
        "plt.subplots(figsize=(10,10))\r\n",
        "sns.heatmap(train_df3.corr(),annot=True)"
      ],
      "execution_count": null,
      "outputs": [
        {
          "output_type": "execute_result",
          "data": {
            "text/plain": [
              "<matplotlib.axes._subplots.AxesSubplot at 0x7fdedc6e0518>"
            ]
          },
          "metadata": {
            "tags": []
          },
          "execution_count": 209
        },
        {
          "output_type": "display_data",
          "data": {
            "image/png": "[encoded data removed]",
            "text/plain": [
              "<Figure size 720x720 with 2 Axes>"
            ]
          },
          "metadata": {
            "tags": [],
            "needs_background": "light"
          }
        }
      ]
    },
    {
      "cell_type": "markdown",
      "metadata": {
        "id": "w0WZsOfRk6YH"
      },
      "source": [
        "**observation**: \r\n",
        "\r\n",
        "* building time and residential are moderately correlated.\r\n",
        "* building type and building dimension variables are strongly negatively correlated.\r\n"
      ]
    },
    {
      "cell_type": "markdown",
      "metadata": {
        "id": "_GfVjRTCU-Nl"
      },
      "source": [
        "#Data Preprocessing"
      ]
    },
    {
      "cell_type": "code",
      "metadata": {
        "colab": {
          "base_uri": "https://localhost:8080/",
          "height": 197
        },
        "id": "3JHdpKL8a5l4",
        "outputId": "f9e1cf05-24d3-489a-c9c4-4e6a1c55901f"
      },
      "source": [
        "#preview of the datset\r\n",
        "train_df3.head()\r\n"
      ],
      "execution_count": null,
      "outputs": [
        {
          "output_type": "execute_result",
          "data": {
            "text/html": [
              "<div>\n",
              "<style scoped>\n",
              "    .dataframe tbody tr th:only-of-type {\n",
              "        vertical-align: middle;\n",
              "    }\n",
              "\n",
              "    .dataframe tbody tr th {\n",
              "        vertical-align: top;\n",
              "    }\n",
              "\n",
              "    .dataframe thead th {\n",
              "        text-align: right;\n",
              "    }\n",
              "</style>\n",
              "<table border=\"1\" class=\"dataframe\">\n",
              "  <thead>\n",
              "    <tr style=\"text-align: right;\">\n",
              "      <th></th>\n",
              "      <th>Insured_Period</th>\n",
              "      <th>Residential</th>\n",
              "      <th>Building_Painted</th>\n",
              "      <th>Building_Fenced</th>\n",
              "      <th>Garden</th>\n",
              "      <th>Settlement</th>\n",
              "      <th>Building Dimension</th>\n",
              "      <th>Building_Type</th>\n",
              "      <th>Claim</th>\n",
              "    </tr>\n",
              "  </thead>\n",
              "  <tbody>\n",
              "    <tr>\n",
              "      <th>0</th>\n",
              "      <td>1.0</td>\n",
              "      <td>0.0</td>\n",
              "      <td>N</td>\n",
              "      <td>V</td>\n",
              "      <td>V</td>\n",
              "      <td>U</td>\n",
              "      <td>290.0</td>\n",
              "      <td>1.0</td>\n",
              "      <td>0</td>\n",
              "    </tr>\n",
              "    <tr>\n",
              "      <th>1</th>\n",
              "      <td>1.0</td>\n",
              "      <td>0.0</td>\n",
              "      <td>V</td>\n",
              "      <td>N</td>\n",
              "      <td>O</td>\n",
              "      <td>R</td>\n",
              "      <td>490.0</td>\n",
              "      <td>1.0</td>\n",
              "      <td>0</td>\n",
              "    </tr>\n",
              "    <tr>\n",
              "      <th>2</th>\n",
              "      <td>1.0</td>\n",
              "      <td>0.0</td>\n",
              "      <td>N</td>\n",
              "      <td>V</td>\n",
              "      <td>V</td>\n",
              "      <td>U</td>\n",
              "      <td>595.0</td>\n",
              "      <td>1.0</td>\n",
              "      <td>0</td>\n",
              "    </tr>\n",
              "    <tr>\n",
              "      <th>3</th>\n",
              "      <td>1.0</td>\n",
              "      <td>0.0</td>\n",
              "      <td>V</td>\n",
              "      <td>V</td>\n",
              "      <td>V</td>\n",
              "      <td>U</td>\n",
              "      <td>2840.0</td>\n",
              "      <td>1.0</td>\n",
              "      <td>0</td>\n",
              "    </tr>\n",
              "    <tr>\n",
              "      <th>4</th>\n",
              "      <td>1.0</td>\n",
              "      <td>0.0</td>\n",
              "      <td>V</td>\n",
              "      <td>N</td>\n",
              "      <td>O</td>\n",
              "      <td>R</td>\n",
              "      <td>680.0</td>\n",
              "      <td>1.0</td>\n",
              "      <td>0</td>\n",
              "    </tr>\n",
              "  </tbody>\n",
              "</table>\n",
              "</div>"
            ],
            "text/plain": [
              "   Insured_Period  Residential  ... Building_Type Claim\n",
              "0             1.0          0.0  ...           1.0     0\n",
              "1             1.0          0.0  ...           1.0     0\n",
              "2             1.0          0.0  ...           1.0     0\n",
              "3             1.0          0.0  ...           1.0     0\n",
              "4             1.0          0.0  ...           1.0     0\n",
              "\n",
              "[5 rows x 9 columns]"
            ]
          },
          "metadata": {
            "tags": []
          },
          "execution_count": 210
        }
      ]
    },
    {
      "cell_type": "code",
      "metadata": {
        "colab": {
          "base_uri": "https://localhost:8080/"
        },
        "id": "JTAHR9ygfGRg",
        "outputId": "420915f8-f9e7-4ee7-b915-c54b19249600"
      },
      "source": [
        "train_df3.info()"
      ],
      "execution_count": null,
      "outputs": [
        {
          "output_type": "stream",
          "text": [
            "<class 'pandas.core.frame.DataFrame'>\n",
            "Int64Index: 3917 entries, 0 to 7130\n",
            "Data columns (total 9 columns):\n",
            " #   Column              Non-Null Count  Dtype   \n",
            "---  ------              --------------  -----   \n",
            " 0   Insured_Period      3917 non-null   float64 \n",
            " 1   Residential         3917 non-null   float64 \n",
            " 2   Building_Painted    3917 non-null   category\n",
            " 3   Building_Fenced     3917 non-null   category\n",
            " 4   Garden              3917 non-null   category\n",
            " 5   Settlement          3917 non-null   category\n",
            " 6   Building Dimension  3917 non-null   float64 \n",
            " 7   Building_Type       3917 non-null   float64 \n",
            " 8   Claim               3917 non-null   int64   \n",
            "dtypes: category(4), float64(4), int64(1)\n",
            "memory usage: 359.3 KB\n"
          ],
          "name": "stdout"
        }
      ]
    },
    {
      "cell_type": "code",
      "metadata": {
        "colab": {
          "base_uri": "https://localhost:8080/",
          "height": 197
        },
        "id": "AFoqcCPf6oZ7",
        "outputId": "984e1b2f-d72a-4937-cee0-98d9f96da927"
      },
      "source": [
        "#creating dummies for the categorical columns\r\n",
        "#categorical colunms\r\n",
        "columns=['Building_Painted', 'Building_Fenced', 'Garden', 'Settlement']\r\n",
        "#\r\n",
        "#getting the dummies\r\n",
        "df_clean= pd.get_dummies(train_df3, columns=columns, drop_first=True)\r\n",
        "df_clean.head()"
      ],
      "execution_count": null,
      "outputs": [
        {
          "output_type": "execute_result",
          "data": {
            "text/html": [
              "<div>\n",
              "<style scoped>\n",
              "    .dataframe tbody tr th:only-of-type {\n",
              "        vertical-align: middle;\n",
              "    }\n",
              "\n",
              "    .dataframe tbody tr th {\n",
              "        vertical-align: top;\n",
              "    }\n",
              "\n",
              "    .dataframe thead th {\n",
              "        text-align: right;\n",
              "    }\n",
              "</style>\n",
              "<table border=\"1\" class=\"dataframe\">\n",
              "  <thead>\n",
              "    <tr style=\"text-align: right;\">\n",
              "      <th></th>\n",
              "      <th>Insured_Period</th>\n",
              "      <th>Residential</th>\n",
              "      <th>Building Dimension</th>\n",
              "      <th>Building_Type</th>\n",
              "      <th>Claim</th>\n",
              "      <th>Building_Painted_V</th>\n",
              "      <th>Building_Fenced_V</th>\n",
              "      <th>Garden_V</th>\n",
              "      <th>Settlement_U</th>\n",
              "    </tr>\n",
              "  </thead>\n",
              "  <tbody>\n",
              "    <tr>\n",
              "      <th>0</th>\n",
              "      <td>1.0</td>\n",
              "      <td>0.0</td>\n",
              "      <td>290.0</td>\n",
              "      <td>1.0</td>\n",
              "      <td>0</td>\n",
              "      <td>0</td>\n",
              "      <td>1</td>\n",
              "      <td>1</td>\n",
              "      <td>1</td>\n",
              "    </tr>\n",
              "    <tr>\n",
              "      <th>1</th>\n",
              "      <td>1.0</td>\n",
              "      <td>0.0</td>\n",
              "      <td>490.0</td>\n",
              "      <td>1.0</td>\n",
              "      <td>0</td>\n",
              "      <td>1</td>\n",
              "      <td>0</td>\n",
              "      <td>0</td>\n",
              "      <td>0</td>\n",
              "    </tr>\n",
              "    <tr>\n",
              "      <th>2</th>\n",
              "      <td>1.0</td>\n",
              "      <td>0.0</td>\n",
              "      <td>595.0</td>\n",
              "      <td>1.0</td>\n",
              "      <td>0</td>\n",
              "      <td>0</td>\n",
              "      <td>1</td>\n",
              "      <td>1</td>\n",
              "      <td>1</td>\n",
              "    </tr>\n",
              "    <tr>\n",
              "      <th>3</th>\n",
              "      <td>1.0</td>\n",
              "      <td>0.0</td>\n",
              "      <td>2840.0</td>\n",
              "      <td>1.0</td>\n",
              "      <td>0</td>\n",
              "      <td>1</td>\n",
              "      <td>1</td>\n",
              "      <td>1</td>\n",
              "      <td>1</td>\n",
              "    </tr>\n",
              "    <tr>\n",
              "      <th>4</th>\n",
              "      <td>1.0</td>\n",
              "      <td>0.0</td>\n",
              "      <td>680.0</td>\n",
              "      <td>1.0</td>\n",
              "      <td>0</td>\n",
              "      <td>1</td>\n",
              "      <td>0</td>\n",
              "      <td>0</td>\n",
              "      <td>0</td>\n",
              "    </tr>\n",
              "  </tbody>\n",
              "</table>\n",
              "</div>"
            ],
            "text/plain": [
              "   Insured_Period  Residential  ...  Garden_V  Settlement_U\n",
              "0             1.0          0.0  ...         1             1\n",
              "1             1.0          0.0  ...         0             0\n",
              "2             1.0          0.0  ...         1             1\n",
              "3             1.0          0.0  ...         1             1\n",
              "4             1.0          0.0  ...         0             0\n",
              "\n",
              "[5 rows x 9 columns]"
            ]
          },
          "metadata": {
            "tags": []
          },
          "execution_count": 212
        }
      ]
    },
    {
      "cell_type": "markdown",
      "metadata": {
        "id": "X5WD-f1ukXle"
      },
      "source": [
        "**observations:** this is our final dataset with dummies."
      ]
    },
    {
      "cell_type": "markdown",
      "metadata": {
        "id": "acKTL4xQ-rC-"
      },
      "source": [
        "**Feature importance selection**"
      ]
    },
    {
      "cell_type": "code",
      "metadata": {
        "id": "dZ54ZOLvkjFy"
      },
      "source": [
        "#dataset to be used for feature importance selection\r\n",
        "#\r\n",
        "fr_df=df_clean.copy()"
      ],
      "execution_count": null,
      "outputs": []
    },
    {
      "cell_type": "code",
      "metadata": {
        "id": "W-ADPc5-Qlpy"
      },
      "source": [
        "#feature selection\r\n",
        "#\r\n",
        "from sklearn.model_selection import train_test_split"
      ],
      "execution_count": null,
      "outputs": []
    },
    {
      "cell_type": "code",
      "metadata": {
        "id": "t7pMhVZGPaCB"
      },
      "source": [
        "# Splitting data into Input and Target Variable\r\n",
        "\r\n",
        "y = fr_df[['Claim']]  # target variable \r\n",
        "X =fr_df.drop(columns=['Claim'], axis=1)  # input variables"
      ],
      "execution_count": null,
      "outputs": []
    },
    {
      "cell_type": "code",
      "metadata": {
        "id": "Z_dBUnUYQF_Q"
      },
      "source": [
        "# Assign variables to capture train test split output\r\n",
        "X_train, X_test, y_train, y_test = train_test_split(X, y, test_size=0.2, random_state=42)\r\n"
      ],
      "execution_count": null,
      "outputs": []
    },
    {
      "cell_type": "code",
      "metadata": {
        "id": "8J1K6ff0PZ19"
      },
      "source": [
        "# Standardising the X_train and the X_test to the same scale\r\n",
        "#\r\n",
        "from sklearn.preprocessing import StandardScaler\r\n",
        "scaler = StandardScaler()\r\n",
        "X_train = scaler.fit_transform(X_train)\r\n",
        "X_test = scaler.transform(X_test)"
      ],
      "execution_count": null,
      "outputs": []
    },
    {
      "cell_type": "code",
      "metadata": {
        "id": "p7qm58wJQy7E"
      },
      "source": [
        "#creating model. creat regressor object and train it using train data\r\n",
        "#\r\n",
        "# Building the Logistic Regression model\r\n",
        "from sklearn.linear_model import LogisticRegression\r\n",
        "\r\n",
        "clf_lr = LogisticRegression(random_state = 1)      \r\n",
        "lr_baseline_model = clf_lr.fit(X_train,y_train)"
      ],
      "execution_count": null,
      "outputs": []
    },
    {
      "cell_type": "code",
      "metadata": {
        "colab": {
          "base_uri": "https://localhost:8080/"
        },
        "id": "IeN3SzzMTvDj",
        "outputId": "00b9d249-a325-4ff5-d152-bfae41efda37"
      },
      "source": [
        "from sklearn.feature_selection import RFE #importing RFE class from sklearn library\r\n",
        "\r\n",
        "rfe = RFE(estimator= clf_lr , step = 1) \r\n",
        "# estimator clf_lr is the baseline model (basic model) that we have created under \"Base line Model\" selection\r\n",
        "# step = 1: removes one feature at a time and then builds a model on the remaining features\r\n",
        "# It uses the model accuracy to identify which features (and combination of features) contribute the most to predicting the target variable.\r\n",
        "# we can even provide no. of features as an argument \r\n",
        "\r\n",
        "# Fit the function for ranking the features\r\n",
        "fit = rfe.fit(X_train, y_train)\r\n",
        "\r\n",
        "print(\"Num Features: %d\" % fit.n_features_)\r\n",
        "print(\"Selected Features: %s\" % fit.support_)\r\n",
        "print(\"Feature Ranking: %s\" % fit.ranking_)"
      ],
      "execution_count": null,
      "outputs": [
        {
          "output_type": "stream",
          "text": [
            "Num Features: 4\n",
            "Selected Features: [False False  True False False  True  True  True]\n",
            "Feature Ranking: [3 5 1 2 4 1 1 1]\n"
          ],
          "name": "stdout"
        }
      ]
    },
    {
      "cell_type": "code",
      "metadata": {
        "colab": {
          "base_uri": "https://localhost:8080/",
          "height": 287
        },
        "id": "0TgrVsPfxIeK",
        "outputId": "2cc12429-a6a5-408c-d17b-1d6519271dc1"
      },
      "source": [
        "selected_rfe_features = pd.DataFrame({'Feature':list(X.iloc[:, 0:]),\n",
        "                                      'Ranking':rfe.ranking_})\n",
        "selected_rfe_features.sort_values(by='Ranking')\n"
      ],
      "execution_count": null,
      "outputs": [
        {
          "output_type": "execute_result",
          "data": {
            "text/html": [
              "<div>\n",
              "<style scoped>\n",
              "    .dataframe tbody tr th:only-of-type {\n",
              "        vertical-align: middle;\n",
              "    }\n",
              "\n",
              "    .dataframe tbody tr th {\n",
              "        vertical-align: top;\n",
              "    }\n",
              "\n",
              "    .dataframe thead th {\n",
              "        text-align: right;\n",
              "    }\n",
              "</style>\n",
              "<table border=\"1\" class=\"dataframe\">\n",
              "  <thead>\n",
              "    <tr style=\"text-align: right;\">\n",
              "      <th></th>\n",
              "      <th>Feature</th>\n",
              "      <th>Ranking</th>\n",
              "    </tr>\n",
              "  </thead>\n",
              "  <tbody>\n",
              "    <tr>\n",
              "      <th>2</th>\n",
              "      <td>Building Dimension</td>\n",
              "      <td>1</td>\n",
              "    </tr>\n",
              "    <tr>\n",
              "      <th>5</th>\n",
              "      <td>Building_Fenced_V</td>\n",
              "      <td>1</td>\n",
              "    </tr>\n",
              "    <tr>\n",
              "      <th>6</th>\n",
              "      <td>Garden_V</td>\n",
              "      <td>1</td>\n",
              "    </tr>\n",
              "    <tr>\n",
              "      <th>7</th>\n",
              "      <td>Settlement_U</td>\n",
              "      <td>1</td>\n",
              "    </tr>\n",
              "    <tr>\n",
              "      <th>3</th>\n",
              "      <td>Building_Type</td>\n",
              "      <td>2</td>\n",
              "    </tr>\n",
              "    <tr>\n",
              "      <th>0</th>\n",
              "      <td>Insured_Period</td>\n",
              "      <td>3</td>\n",
              "    </tr>\n",
              "    <tr>\n",
              "      <th>4</th>\n",
              "      <td>Building_Painted_V</td>\n",
              "      <td>4</td>\n",
              "    </tr>\n",
              "    <tr>\n",
              "      <th>1</th>\n",
              "      <td>Residential</td>\n",
              "      <td>5</td>\n",
              "    </tr>\n",
              "  </tbody>\n",
              "</table>\n",
              "</div>"
            ],
            "text/plain": [
              "              Feature  Ranking\n",
              "2  Building Dimension        1\n",
              "5   Building_Fenced_V        1\n",
              "6            Garden_V        1\n",
              "7        Settlement_U        1\n",
              "3       Building_Type        2\n",
              "0      Insured_Period        3\n",
              "4  Building_Painted_V        4\n",
              "1         Residential        5"
            ]
          },
          "metadata": {
            "tags": []
          },
          "execution_count": 220
        }
      ]
    },
    {
      "cell_type": "code",
      "metadata": {
        "colab": {
          "base_uri": "https://localhost:8080/",
          "height": 197
        },
        "id": "UWNJUpdrmN71",
        "outputId": "875364df-e5cb-4bf9-8522-be3c657bbb30"
      },
      "source": [
        "#1.dataset with all variables\r\n",
        "#\r\n",
        "df_clean.head()"
      ],
      "execution_count": null,
      "outputs": [
        {
          "output_type": "execute_result",
          "data": {
            "text/html": [
              "<div>\n",
              "<style scoped>\n",
              "    .dataframe tbody tr th:only-of-type {\n",
              "        vertical-align: middle;\n",
              "    }\n",
              "\n",
              "    .dataframe tbody tr th {\n",
              "        vertical-align: top;\n",
              "    }\n",
              "\n",
              "    .dataframe thead th {\n",
              "        text-align: right;\n",
              "    }\n",
              "</style>\n",
              "<table border=\"1\" class=\"dataframe\">\n",
              "  <thead>\n",
              "    <tr style=\"text-align: right;\">\n",
              "      <th></th>\n",
              "      <th>Insured_Period</th>\n",
              "      <th>Residential</th>\n",
              "      <th>Building Dimension</th>\n",
              "      <th>Building_Type</th>\n",
              "      <th>Claim</th>\n",
              "      <th>Building_Painted_V</th>\n",
              "      <th>Building_Fenced_V</th>\n",
              "      <th>Garden_V</th>\n",
              "      <th>Settlement_U</th>\n",
              "    </tr>\n",
              "  </thead>\n",
              "  <tbody>\n",
              "    <tr>\n",
              "      <th>0</th>\n",
              "      <td>1.0</td>\n",
              "      <td>0.0</td>\n",
              "      <td>290.0</td>\n",
              "      <td>1.0</td>\n",
              "      <td>0</td>\n",
              "      <td>0</td>\n",
              "      <td>1</td>\n",
              "      <td>1</td>\n",
              "      <td>1</td>\n",
              "    </tr>\n",
              "    <tr>\n",
              "      <th>1</th>\n",
              "      <td>1.0</td>\n",
              "      <td>0.0</td>\n",
              "      <td>490.0</td>\n",
              "      <td>1.0</td>\n",
              "      <td>0</td>\n",
              "      <td>1</td>\n",
              "      <td>0</td>\n",
              "      <td>0</td>\n",
              "      <td>0</td>\n",
              "    </tr>\n",
              "    <tr>\n",
              "      <th>2</th>\n",
              "      <td>1.0</td>\n",
              "      <td>0.0</td>\n",
              "      <td>595.0</td>\n",
              "      <td>1.0</td>\n",
              "      <td>0</td>\n",
              "      <td>0</td>\n",
              "      <td>1</td>\n",
              "      <td>1</td>\n",
              "      <td>1</td>\n",
              "    </tr>\n",
              "    <tr>\n",
              "      <th>3</th>\n",
              "      <td>1.0</td>\n",
              "      <td>0.0</td>\n",
              "      <td>2840.0</td>\n",
              "      <td>1.0</td>\n",
              "      <td>0</td>\n",
              "      <td>1</td>\n",
              "      <td>1</td>\n",
              "      <td>1</td>\n",
              "      <td>1</td>\n",
              "    </tr>\n",
              "    <tr>\n",
              "      <th>4</th>\n",
              "      <td>1.0</td>\n",
              "      <td>0.0</td>\n",
              "      <td>680.0</td>\n",
              "      <td>1.0</td>\n",
              "      <td>0</td>\n",
              "      <td>1</td>\n",
              "      <td>0</td>\n",
              "      <td>0</td>\n",
              "      <td>0</td>\n",
              "    </tr>\n",
              "  </tbody>\n",
              "</table>\n",
              "</div>"
            ],
            "text/plain": [
              "   Insured_Period  Residential  ...  Garden_V  Settlement_U\n",
              "0             1.0          0.0  ...         1             1\n",
              "1             1.0          0.0  ...         0             0\n",
              "2             1.0          0.0  ...         1             1\n",
              "3             1.0          0.0  ...         1             1\n",
              "4             1.0          0.0  ...         0             0\n",
              "\n",
              "[5 rows x 9 columns]"
            ]
          },
          "metadata": {
            "tags": []
          },
          "execution_count": 221
        }
      ]
    },
    {
      "cell_type": "code",
      "metadata": {
        "colab": {
          "base_uri": "https://localhost:8080/",
          "height": 215
        },
        "id": "CRaBbMurvO0U",
        "outputId": "17e74458-0371-4cae-c28a-d7125efb6721"
      },
      "source": [
        "#2.dataframe for feautures selected plus target variable\r\n",
        "#\r\n",
        "feature_df = df_clean[['Insured_Period','Building Dimension','Building_Fenced_V','Garden_V', 'Claim']]\r\n",
        "print(feature_df.shape)\r\n",
        "feature_df.head()\r\n"
      ],
      "execution_count": null,
      "outputs": [
        {
          "output_type": "stream",
          "text": [
            "(3917, 5)\n"
          ],
          "name": "stdout"
        },
        {
          "output_type": "execute_result",
          "data": {
            "text/html": [
              "<div>\n",
              "<style scoped>\n",
              "    .dataframe tbody tr th:only-of-type {\n",
              "        vertical-align: middle;\n",
              "    }\n",
              "\n",
              "    .dataframe tbody tr th {\n",
              "        vertical-align: top;\n",
              "    }\n",
              "\n",
              "    .dataframe thead th {\n",
              "        text-align: right;\n",
              "    }\n",
              "</style>\n",
              "<table border=\"1\" class=\"dataframe\">\n",
              "  <thead>\n",
              "    <tr style=\"text-align: right;\">\n",
              "      <th></th>\n",
              "      <th>Insured_Period</th>\n",
              "      <th>Building Dimension</th>\n",
              "      <th>Building_Fenced_V</th>\n",
              "      <th>Garden_V</th>\n",
              "      <th>Claim</th>\n",
              "    </tr>\n",
              "  </thead>\n",
              "  <tbody>\n",
              "    <tr>\n",
              "      <th>0</th>\n",
              "      <td>1.0</td>\n",
              "      <td>290.0</td>\n",
              "      <td>1</td>\n",
              "      <td>1</td>\n",
              "      <td>0</td>\n",
              "    </tr>\n",
              "    <tr>\n",
              "      <th>1</th>\n",
              "      <td>1.0</td>\n",
              "      <td>490.0</td>\n",
              "      <td>0</td>\n",
              "      <td>0</td>\n",
              "      <td>0</td>\n",
              "    </tr>\n",
              "    <tr>\n",
              "      <th>2</th>\n",
              "      <td>1.0</td>\n",
              "      <td>595.0</td>\n",
              "      <td>1</td>\n",
              "      <td>1</td>\n",
              "      <td>0</td>\n",
              "    </tr>\n",
              "    <tr>\n",
              "      <th>3</th>\n",
              "      <td>1.0</td>\n",
              "      <td>2840.0</td>\n",
              "      <td>1</td>\n",
              "      <td>1</td>\n",
              "      <td>0</td>\n",
              "    </tr>\n",
              "    <tr>\n",
              "      <th>4</th>\n",
              "      <td>1.0</td>\n",
              "      <td>680.0</td>\n",
              "      <td>0</td>\n",
              "      <td>0</td>\n",
              "      <td>0</td>\n",
              "    </tr>\n",
              "  </tbody>\n",
              "</table>\n",
              "</div>"
            ],
            "text/plain": [
              "   Insured_Period  Building Dimension  Building_Fenced_V  Garden_V  Claim\n",
              "0             1.0               290.0                  1         1      0\n",
              "1             1.0               490.0                  0         0      0\n",
              "2             1.0               595.0                  1         1      0\n",
              "3             1.0              2840.0                  1         1      0\n",
              "4             1.0               680.0                  0         0      0"
            ]
          },
          "metadata": {
            "tags": []
          },
          "execution_count": 222
        }
      ]
    },
    {
      "cell_type": "markdown",
      "metadata": {
        "id": "AmOHic2imuC-"
      },
      "source": [
        "## **Model building**"
      ]
    },
    {
      "cell_type": "markdown",
      "metadata": {
        "id": "Cgav_rXQnA4e"
      },
      "source": [
        "### Neural  with all the variables."
      ]
    },
    {
      "cell_type": "code",
      "metadata": {
        "colab": {
          "base_uri": "https://localhost:8080/",
          "height": 215
        },
        "id": "y1QBvIXwnFzW",
        "outputId": "ee7b2406-2147-4687-e217-6ffe2cbd80a6"
      },
      "source": [
        "#preview of the datasets to be used\r\n",
        "#\r\n",
        "neural1_df=df_clean.copy()\r\n",
        "print(neural1_df.shape)\r\n",
        "neural1_df.head()"
      ],
      "execution_count": null,
      "outputs": [
        {
          "output_type": "stream",
          "text": [
            "(3917, 9)\n"
          ],
          "name": "stdout"
        },
        {
          "output_type": "execute_result",
          "data": {
            "text/html": [
              "<div>\n",
              "<style scoped>\n",
              "    .dataframe tbody tr th:only-of-type {\n",
              "        vertical-align: middle;\n",
              "    }\n",
              "\n",
              "    .dataframe tbody tr th {\n",
              "        vertical-align: top;\n",
              "    }\n",
              "\n",
              "    .dataframe thead th {\n",
              "        text-align: right;\n",
              "    }\n",
              "</style>\n",
              "<table border=\"1\" class=\"dataframe\">\n",
              "  <thead>\n",
              "    <tr style=\"text-align: right;\">\n",
              "      <th></th>\n",
              "      <th>Insured_Period</th>\n",
              "      <th>Residential</th>\n",
              "      <th>Building Dimension</th>\n",
              "      <th>Building_Type</th>\n",
              "      <th>Claim</th>\n",
              "      <th>Building_Painted_V</th>\n",
              "      <th>Building_Fenced_V</th>\n",
              "      <th>Garden_V</th>\n",
              "      <th>Settlement_U</th>\n",
              "    </tr>\n",
              "  </thead>\n",
              "  <tbody>\n",
              "    <tr>\n",
              "      <th>0</th>\n",
              "      <td>1.0</td>\n",
              "      <td>0.0</td>\n",
              "      <td>290.0</td>\n",
              "      <td>1.0</td>\n",
              "      <td>0</td>\n",
              "      <td>0</td>\n",
              "      <td>1</td>\n",
              "      <td>1</td>\n",
              "      <td>1</td>\n",
              "    </tr>\n",
              "    <tr>\n",
              "      <th>1</th>\n",
              "      <td>1.0</td>\n",
              "      <td>0.0</td>\n",
              "      <td>490.0</td>\n",
              "      <td>1.0</td>\n",
              "      <td>0</td>\n",
              "      <td>1</td>\n",
              "      <td>0</td>\n",
              "      <td>0</td>\n",
              "      <td>0</td>\n",
              "    </tr>\n",
              "    <tr>\n",
              "      <th>2</th>\n",
              "      <td>1.0</td>\n",
              "      <td>0.0</td>\n",
              "      <td>595.0</td>\n",
              "      <td>1.0</td>\n",
              "      <td>0</td>\n",
              "      <td>0</td>\n",
              "      <td>1</td>\n",
              "      <td>1</td>\n",
              "      <td>1</td>\n",
              "    </tr>\n",
              "    <tr>\n",
              "      <th>3</th>\n",
              "      <td>1.0</td>\n",
              "      <td>0.0</td>\n",
              "      <td>2840.0</td>\n",
              "      <td>1.0</td>\n",
              "      <td>0</td>\n",
              "      <td>1</td>\n",
              "      <td>1</td>\n",
              "      <td>1</td>\n",
              "      <td>1</td>\n",
              "    </tr>\n",
              "    <tr>\n",
              "      <th>4</th>\n",
              "      <td>1.0</td>\n",
              "      <td>0.0</td>\n",
              "      <td>680.0</td>\n",
              "      <td>1.0</td>\n",
              "      <td>0</td>\n",
              "      <td>1</td>\n",
              "      <td>0</td>\n",
              "      <td>0</td>\n",
              "      <td>0</td>\n",
              "    </tr>\n",
              "  </tbody>\n",
              "</table>\n",
              "</div>"
            ],
            "text/plain": [
              "   Insured_Period  Residential  ...  Garden_V  Settlement_U\n",
              "0             1.0          0.0  ...         1             1\n",
              "1             1.0          0.0  ...         0             0\n",
              "2             1.0          0.0  ...         1             1\n",
              "3             1.0          0.0  ...         1             1\n",
              "4             1.0          0.0  ...         0             0\n",
              "\n",
              "[5 rows x 9 columns]"
            ]
          },
          "metadata": {
            "tags": []
          },
          "execution_count": 223
        }
      ]
    },
    {
      "cell_type": "markdown",
      "metadata": {
        "id": "x-JWwZ3bny3V"
      },
      "source": [
        "**observation**: our dataset has 3917 records and 9 colunms. "
      ]
    },
    {
      "cell_type": "markdown",
      "metadata": {
        "id": "OcylPF7RqDhh"
      },
      "source": [
        "**step1**. \r\n",
        "* we split the dataset into our input features and the label we wish to predict\r\n",
        "* The dataset that we have now is in what we call a pandas dataframe. To convert it to an array, simply access its values:"
      ]
    },
    {
      "cell_type": "code",
      "metadata": {
        "id": "i0gQcDuxt-Id"
      },
      "source": [
        "#splitting the dateset into features and target variable.\r\n",
        "#\r\n",
        "X = neural1_df.drop(['Claim'], axis=1).values  # features/indepedent variables\r\n",
        "Y = neural1_df['Claim'].values # target/depedent/label variable\r\n"
      ],
      "execution_count": null,
      "outputs": []
    },
    {
      "cell_type": "markdown",
      "metadata": {
        "id": "873_quy52_yE"
      },
      "source": [
        "**Step 2**: \r\n",
        "\r\n",
        "* Normalizing our data is very important, as we want the input features to be on the same order of magnitude to make our training easier. We'll use a min-max scaler from scikit-learn which scales our data to be between 0 and 1."
      ]
    },
    {
      "cell_type": "code",
      "metadata": {
        "id": "rjJG26_T3L7p"
      },
      "source": [
        "#importing preprocessing library\r\n",
        "#\r\n",
        "from sklearn import preprocessing"
      ],
      "execution_count": null,
      "outputs": []
    },
    {
      "cell_type": "code",
      "metadata": {
        "id": "ynhLoSYk3WWE"
      },
      "source": [
        "min_max_scaler = preprocessing.MinMaxScaler()\r\n",
        "X_scale = min_max_scaler.fit_transform(X)"
      ],
      "execution_count": null,
      "outputs": []
    },
    {
      "cell_type": "code",
      "metadata": {
        "colab": {
          "base_uri": "https://localhost:8080/"
        },
        "id": "8FUrgwgF3bpd",
        "outputId": "bfb47055-a98e-437d-e022-02834daa4e44"
      },
      "source": [
        "X_scale"
      ],
      "execution_count": null,
      "outputs": [
        {
          "output_type": "execute_result",
          "data": {
            "text/plain": [
              "array([[1.        , 0.        , 0.05141844, ..., 1.        , 1.        ,\n",
              "        1.        ],\n",
              "       [1.        , 0.        , 0.08687943, ..., 0.        , 0.        ,\n",
              "        0.        ],\n",
              "       [1.        , 0.        , 0.10549645, ..., 1.        , 1.        ,\n",
              "        1.        ],\n",
              "       ...,\n",
              "       [1.        , 0.        , 0.        , ..., 1.        , 1.        ,\n",
              "        1.        ],\n",
              "       [1.        , 0.        , 0.        , ..., 1.        , 1.        ,\n",
              "        1.        ],\n",
              "       [1.        , 1.        , 0.        , ..., 1.        , 1.        ,\n",
              "        1.        ]])"
            ]
          },
          "metadata": {
            "tags": []
          },
          "execution_count": 227
        }
      ]
    },
    {
      "cell_type": "code",
      "metadata": {
        "id": "p0ZsKf8P3ecZ"
      },
      "source": [
        ""
      ],
      "execution_count": null,
      "outputs": []
    },
    {
      "cell_type": "markdown",
      "metadata": {
        "id": "9kq9NHsB3jCE"
      },
      "source": [
        "**step 3:**\r\n",
        "\r\n",
        "set aside some parts of our dataset for a validation set and a test set. We use the function train_test_split from scikit-learn to do that."
      ]
    },
    {
      "cell_type": "code",
      "metadata": {
        "id": "VuCuBPcX3pN-"
      },
      "source": [
        "#importing the library to be used in spliting the data\r\n",
        "#\r\n",
        "from sklearn.model_selection import train_test_split"
      ],
      "execution_count": null,
      "outputs": []
    },
    {
      "cell_type": "code",
      "metadata": {
        "id": "Y5E2421534yE"
      },
      "source": [
        "#splitting the dataset into 70% training and 30% test \r\n",
        "X_train, X_val_and_test, Y_train, Y_val_and_test = train_test_split(X_scale, Y, test_size=0.3,random_state=10)"
      ],
      "execution_count": null,
      "outputs": []
    },
    {
      "cell_type": "code",
      "metadata": {
        "id": "WWZ9EQf5_CpC"
      },
      "source": [
        "#set aside some parts of our dataset for a validation set and a test set.\r\n",
        "#\r\n",
        "X_val, X_test, Y_val, Y_test = train_test_split(X_val_and_test, Y_val_and_test, test_size=0.5)"
      ],
      "execution_count": null,
      "outputs": []
    },
    {
      "cell_type": "code",
      "metadata": {
        "colab": {
          "base_uri": "https://localhost:8080/"
        },
        "id": "Va-imwQx_grQ",
        "outputId": "0b2a609b-20d9-4bd3-aa2e-cd5476b42d0e"
      },
      "source": [
        "print(X_train.shape, X_val.shape, X_test.shape, Y_train.shape, Y_val.shape, Y_test.shape)"
      ],
      "execution_count": null,
      "outputs": [
        {
          "output_type": "stream",
          "text": [
            "(2741, 8) (588, 8) (588, 8) (2741,) (588,) (588,)\n"
          ],
          "name": "stdout"
        }
      ]
    },
    {
      "cell_type": "markdown",
      "metadata": {
        "id": "zE94Nxrj_3Z5"
      },
      "source": [
        "**step 4.**\r\n",
        "### Building and training our first neural network\r\n",
        "\r\n",
        "* We will be using Keras to build our architecture.\r\n",
        "\r\n",
        "* we will import the code from Keras that we will need to use:"
      ]
    },
    {
      "cell_type": "code",
      "metadata": {
        "colab": {
          "base_uri": "https://localhost:8080/"
        },
        "id": "T-u-MtPA_0xR",
        "outputId": "4900f1e7-312f-4970-eaaf-c03376c0726c"
      },
      "source": [
        "#installing tensorflow\r\n",
        "#\r\n",
        "!pip install tensorflow"
      ],
      "execution_count": null,
      "outputs": [
        {
          "output_type": "stream",
          "text": [
            "Requirement already satisfied: tensorflow in /usr/local/lib/python3.6/dist-packages (2.4.0)\n",
            "Requirement already satisfied: astunparse~=1.6.3 in /usr/local/lib/python3.6/dist-packages (from tensorflow) (1.6.3)\n",
            "Requirement already satisfied: six~=1.15.0 in /usr/local/lib/python3.6/dist-packages (from tensorflow) (1.15.0)\n",
            "Requirement already satisfied: flatbuffers~=1.12.0 in /usr/local/lib/python3.6/dist-packages (from tensorflow) (1.12)\n",
            "Requirement already satisfied: h5py~=2.10.0 in /usr/local/lib/python3.6/dist-packages (from tensorflow) (2.10.0)\n",
            "Requirement already satisfied: numpy~=1.19.2 in /usr/local/lib/python3.6/dist-packages (from tensorflow) (1.19.4)\n",
            "Requirement already satisfied: keras-preprocessing~=1.1.2 in /usr/local/lib/python3.6/dist-packages (from tensorflow) (1.1.2)\n",
            "Requirement already satisfied: wheel~=0.35 in /usr/local/lib/python3.6/dist-packages (from tensorflow) (0.36.2)\n",
            "Requirement already satisfied: grpcio~=1.32.0 in /usr/local/lib/python3.6/dist-packages (from tensorflow) (1.32.0)\n",
            "Requirement already satisfied: typing-extensions~=3.7.4 in /usr/local/lib/python3.6/dist-packages (from tensorflow) (3.7.4.3)\n",
            "Requirement already satisfied: tensorboard~=2.4 in /usr/local/lib/python3.6/dist-packages (from tensorflow) (2.4.0)\n",
            "Requirement already satisfied: tensorflow-estimator<2.5.0,>=2.4.0rc0 in /usr/local/lib/python3.6/dist-packages (from tensorflow) (2.4.0)\n",
            "Requirement already satisfied: gast==0.3.3 in /usr/local/lib/python3.6/dist-packages (from tensorflow) (0.3.3)\n",
            "Requirement already satisfied: google-pasta~=0.2 in /usr/local/lib/python3.6/dist-packages (from tensorflow) (0.2.0)\n",
            "Requirement already satisfied: protobuf>=3.9.2 in /usr/local/lib/python3.6/dist-packages (from tensorflow) (3.12.4)\n",
            "Requirement already satisfied: absl-py~=0.10 in /usr/local/lib/python3.6/dist-packages (from tensorflow) (0.10.0)\n",
            "Requirement already satisfied: opt-einsum~=3.3.0 in /usr/local/lib/python3.6/dist-packages (from tensorflow) (3.3.0)\n",
            "Requirement already satisfied: wrapt~=1.12.1 in /usr/local/lib/python3.6/dist-packages (from tensorflow) (1.12.1)\n",
            "Requirement already satisfied: termcolor~=1.1.0 in /usr/local/lib/python3.6/dist-packages (from tensorflow) (1.1.0)\n",
            "Requirement already satisfied: markdown>=2.6.8 in /usr/local/lib/python3.6/dist-packages (from tensorboard~=2.4->tensorflow) (3.3.3)\n",
            "Requirement already satisfied: setuptools>=41.0.0 in /usr/local/lib/python3.6/dist-packages (from tensorboard~=2.4->tensorflow) (50.3.2)\n",
            "Requirement already satisfied: requests<3,>=2.21.0 in /usr/local/lib/python3.6/dist-packages (from tensorboard~=2.4->tensorflow) (2.23.0)\n",
            "Requirement already satisfied: google-auth-oauthlib<0.5,>=0.4.1 in /usr/local/lib/python3.6/dist-packages (from tensorboard~=2.4->tensorflow) (0.4.2)\n",
            "Requirement already satisfied: tensorboard-plugin-wit>=1.6.0 in /usr/local/lib/python3.6/dist-packages (from tensorboard~=2.4->tensorflow) (1.7.0)\n",
            "Requirement already satisfied: google-auth<2,>=1.6.3 in /usr/local/lib/python3.6/dist-packages (from tensorboard~=2.4->tensorflow) (1.17.2)\n",
            "Requirement already satisfied: werkzeug>=0.11.15 in /usr/local/lib/python3.6/dist-packages (from tensorboard~=2.4->tensorflow) (1.0.1)\n",
            "Requirement already satisfied: importlib-metadata; python_version < \"3.8\" in /usr/local/lib/python3.6/dist-packages (from markdown>=2.6.8->tensorboard~=2.4->tensorflow) (3.3.0)\n",
            "Requirement already satisfied: urllib3!=1.25.0,!=1.25.1,<1.26,>=1.21.1 in /usr/local/lib/python3.6/dist-packages (from requests<3,>=2.21.0->tensorboard~=2.4->tensorflow) (1.24.3)\n",
            "Requirement already satisfied: idna<3,>=2.5 in /usr/local/lib/python3.6/dist-packages (from requests<3,>=2.21.0->tensorboard~=2.4->tensorflow) (2.10)\n",
            "Requirement already satisfied: chardet<4,>=3.0.2 in /usr/local/lib/python3.6/dist-packages (from requests<3,>=2.21.0->tensorboard~=2.4->tensorflow) (3.0.4)\n",
            "Requirement already satisfied: certifi>=2017.4.17 in /usr/local/lib/python3.6/dist-packages (from requests<3,>=2.21.0->tensorboard~=2.4->tensorflow) (2020.12.5)\n",
            "Requirement already satisfied: requests-oauthlib>=0.7.0 in /usr/local/lib/python3.6/dist-packages (from google-auth-oauthlib<0.5,>=0.4.1->tensorboard~=2.4->tensorflow) (1.3.0)\n",
            "Requirement already satisfied: cachetools<5.0,>=2.0.0 in /usr/local/lib/python3.6/dist-packages (from google-auth<2,>=1.6.3->tensorboard~=2.4->tensorflow) (4.2.0)\n",
            "Requirement already satisfied: pyasn1-modules>=0.2.1 in /usr/local/lib/python3.6/dist-packages (from google-auth<2,>=1.6.3->tensorboard~=2.4->tensorflow) (0.2.8)\n",
            "Requirement already satisfied: rsa<5,>=3.1.4; python_version >= \"3\" in /usr/local/lib/python3.6/dist-packages (from google-auth<2,>=1.6.3->tensorboard~=2.4->tensorflow) (4.6)\n",
            "Requirement already satisfied: zipp>=0.5 in /usr/local/lib/python3.6/dist-packages (from importlib-metadata; python_version < \"3.8\"->markdown>=2.6.8->tensorboard~=2.4->tensorflow) (3.4.0)\n",
            "Requirement already satisfied: oauthlib>=3.0.0 in /usr/local/lib/python3.6/dist-packages (from requests-oauthlib>=0.7.0->google-auth-oauthlib<0.5,>=0.4.1->tensorboard~=2.4->tensorflow) (3.1.0)\n",
            "Requirement already satisfied: pyasn1<0.5.0,>=0.4.6 in /usr/local/lib/python3.6/dist-packages (from pyasn1-modules>=0.2.1->google-auth<2,>=1.6.3->tensorboard~=2.4->tensorflow) (0.4.8)\n"
          ],
          "name": "stdout"
        }
      ]
    },
    {
      "cell_type": "code",
      "metadata": {
        "id": "cwq0DqgiAhj-"
      },
      "source": [
        "#import the code from Keras that we will need to use\r\n",
        "#\r\n",
        "import tensorflow as tf\r\n",
        "from tensorflow import keras\r\n",
        "from tensorflow.keras import layers"
      ],
      "execution_count": null,
      "outputs": []
    },
    {
      "cell_type": "markdown",
      "metadata": {
        "id": "YDavSc-CA7lH"
      },
      "source": [
        "**We will be using the Sequential model**, \r\n",
        "* which means that we merely need to describe the layers above in sequence. \r\n",
        "* we will use neural network of three layers:\r\n",
        "\r\n",
        "  * Hidden layer 1: 100 neurons, ReLU activation\r\n",
        "  * Hidden layer 2: 100 neurons, ReLU activation\r\n",
        "  * Hidden layer 3: 100 neurons, ReLU activation\r\n",
        "  * Output Layer: 1 neuron, Sigmoid activation"
      ]
    },
    {
      "cell_type": "markdown",
      "metadata": {
        "id": "cmni5UvdzEPr"
      },
      "source": [
        "###1. Initial model"
      ]
    },
    {
      "cell_type": "code",
      "metadata": {
        "id": "2hQrc0n6BTIG"
      },
      "source": [
        "#we use squential model with allows to build a model layer by layer.\r\n",
        "#\r\n",
        "model = tf.keras.Sequential([\r\n",
        "    layers.Dense(100, activation='relu', input_shape=(8,)),\r\n",
        "    layers.Dense(100, activation='relu'),\r\n",
        "    layers.Dense(100, activation='relu'),\r\n",
        "     layers.Dense(100, activation='relu'),\r\n",
        "    layers.Dense(1, activation='sigmoid'),\r\n",
        "])"
      ],
      "execution_count": null,
      "outputs": []
    },
    {
      "cell_type": "markdown",
      "metadata": {
        "id": "1Sdhr_rRBm-_"
      },
      "source": [
        "**Configuring the model**\r\n",
        "\r\n",
        "\r\n",
        "Before we start our training, we have to configure the model by\r\n",
        "\r\n",
        " * the algorithm to use to do the optimization (we'll use stochastic gradient descent)\r\n",
        " * The loss function to use (for binary classification, we will use binary cross entropy)\r\n",
        " * The other metrics to track apart from the loss function (we want to track accuracy as well)"
      ]
    },
    {
      "cell_type": "code",
      "metadata": {
        "id": "SLE0xIqSB31g"
      },
      "source": [
        "#configuring the model; \r\n",
        "#\r\n",
        "model.compile(optimizer='sgd',\r\n",
        "              loss='binary_crossentropy',\r\n",
        "              metrics=['accuracy'])"
      ],
      "execution_count": null,
      "outputs": []
    },
    {
      "cell_type": "markdown",
      "metadata": {
        "id": "oNz_7wkECWwg"
      },
      "source": [
        "**Training the model**\r\n",
        "\r\n",
        "\r\n",
        "The function is called 'fit' as we are fitting the parameters to the data. We specify:\r\n",
        "\r\n",
        "* what data we are training on, which is X_train and Y_train\r\n",
        "* the size of our mini-batch\r\n",
        "* how long we want to train it for (epochs)\r\n",
        "* what our validation data is so that the model will tell us how we are doing on the validation data at each point."
      ]
    },
    {
      "cell_type": "code",
      "metadata": {
        "colab": {
          "base_uri": "https://localhost:8080/"
        },
        "id": "n-tnyqfsDBkg",
        "outputId": "60900175-588b-42e1-9a47-49ae0ad3a06c"
      },
      "source": [
        "# training the model and saving output under the variable hist\r\n",
        "#\r\n",
        "hist = model.fit(X_train, Y_train,\r\n",
        "          batch_size=32, epochs=20,\r\n",
        "          validation_data=(X_val, Y_val))"
      ],
      "execution_count": null,
      "outputs": [
        {
          "output_type": "stream",
          "text": [
            "Epoch 1/20\n",
            "86/86 [==============================] - 1s 4ms/step - loss: 0.6457 - accuracy: 0.7319 - val_loss: 0.6030 - val_accuracy: 0.7177\n",
            "Epoch 2/20\n",
            "86/86 [==============================] - 0s 2ms/step - loss: 0.5749 - accuracy: 0.7546 - val_loss: 0.5939 - val_accuracy: 0.7177\n",
            "Epoch 3/20\n",
            "86/86 [==============================] - 0s 2ms/step - loss: 0.5872 - accuracy: 0.7267 - val_loss: 0.5928 - val_accuracy: 0.7177\n",
            "Epoch 4/20\n",
            "86/86 [==============================] - 1s 7ms/step - loss: 0.5919 - accuracy: 0.7213 - val_loss: 0.5927 - val_accuracy: 0.7177\n",
            "Epoch 5/20\n",
            "86/86 [==============================] - 0s 2ms/step - loss: 0.5802 - accuracy: 0.7311 - val_loss: 0.5922 - val_accuracy: 0.7177\n",
            "Epoch 6/20\n",
            "86/86 [==============================] - 0s 2ms/step - loss: 0.5911 - accuracy: 0.7216 - val_loss: 0.5917 - val_accuracy: 0.7177\n",
            "Epoch 7/20\n",
            "86/86 [==============================] - 0s 2ms/step - loss: 0.5632 - accuracy: 0.7467 - val_loss: 0.5908 - val_accuracy: 0.7177\n",
            "Epoch 8/20\n",
            "86/86 [==============================] - 0s 2ms/step - loss: 0.5797 - accuracy: 0.7285 - val_loss: 0.5903 - val_accuracy: 0.7177\n",
            "Epoch 9/20\n",
            "86/86 [==============================] - 0s 2ms/step - loss: 0.5705 - accuracy: 0.7378 - val_loss: 0.5897 - val_accuracy: 0.7177\n",
            "Epoch 10/20\n",
            "86/86 [==============================] - 0s 2ms/step - loss: 0.5829 - accuracy: 0.7250 - val_loss: 0.5892 - val_accuracy: 0.7177\n",
            "Epoch 11/20\n",
            "86/86 [==============================] - 0s 2ms/step - loss: 0.5706 - accuracy: 0.7391 - val_loss: 0.5887 - val_accuracy: 0.7177\n",
            "Epoch 12/20\n",
            "86/86 [==============================] - 0s 2ms/step - loss: 0.5807 - accuracy: 0.7272 - val_loss: 0.5886 - val_accuracy: 0.7177\n",
            "Epoch 13/20\n",
            "86/86 [==============================] - 0s 2ms/step - loss: 0.5703 - accuracy: 0.7358 - val_loss: 0.5877 - val_accuracy: 0.7177\n",
            "Epoch 14/20\n",
            "86/86 [==============================] - 0s 2ms/step - loss: 0.5826 - accuracy: 0.7246 - val_loss: 0.5872 - val_accuracy: 0.7177\n",
            "Epoch 15/20\n",
            "86/86 [==============================] - 0s 2ms/step - loss: 0.5639 - accuracy: 0.7414 - val_loss: 0.5858 - val_accuracy: 0.7177\n",
            "Epoch 16/20\n",
            "86/86 [==============================] - 0s 2ms/step - loss: 0.5664 - accuracy: 0.7385 - val_loss: 0.5855 - val_accuracy: 0.7177\n",
            "Epoch 17/20\n",
            "86/86 [==============================] - 0s 2ms/step - loss: 0.5801 - accuracy: 0.7214 - val_loss: 0.5851 - val_accuracy: 0.7177\n",
            "Epoch 18/20\n",
            "86/86 [==============================] - 0s 2ms/step - loss: 0.5686 - accuracy: 0.7325 - val_loss: 0.5846 - val_accuracy: 0.7177\n",
            "Epoch 19/20\n",
            "86/86 [==============================] - 0s 2ms/step - loss: 0.5758 - accuracy: 0.7267 - val_loss: 0.5837 - val_accuracy: 0.7177\n",
            "Epoch 20/20\n",
            "86/86 [==============================] - 0s 2ms/step - loss: 0.5595 - accuracy: 0.7410 - val_loss: 0.5831 - val_accuracy: 0.7177\n"
          ],
          "name": "stdout"
        }
      ]
    },
    {
      "cell_type": "markdown",
      "metadata": {
        "id": "o4DBGhZ-Dl-x"
      },
      "source": [
        "**Evaluating our data on the test set:**"
      ]
    },
    {
      "cell_type": "code",
      "metadata": {
        "colab": {
          "base_uri": "https://localhost:8080/"
        },
        "id": "_X4vyUnsDqdL",
        "outputId": "47929b52-4fe0-4c8b-ee6b-a3fca90a7b98"
      },
      "source": [
        "#model evaluation\r\n",
        "#\r\n",
        "model.evaluate(X_test,Y_test)[1]"
      ],
      "execution_count": null,
      "outputs": [
        {
          "output_type": "stream",
          "text": [
            "19/19 [==============================] - 0s 1ms/step - loss: 0.5722 - accuracy: 0.7262\n"
          ],
          "name": "stdout"
        },
        {
          "output_type": "execute_result",
          "data": {
            "text/plain": [
              "0.726190447807312"
            ]
          },
          "metadata": {
            "tags": []
          },
          "execution_count": 237
        }
      ]
    },
    {
      "cell_type": "markdown",
      "metadata": {
        "id": "XMAkJjbHI1vP"
      },
      "source": [
        "**observation**: we get 70.4% accuracy before ading regularization."
      ]
    },
    {
      "cell_type": "markdown",
      "metadata": {
        "id": "mX8FSqAZJGRo"
      },
      "source": [
        "**Visualizing Loss and Accuracy**"
      ]
    },
    {
      "cell_type": "code",
      "metadata": {
        "colab": {
          "base_uri": "https://localhost:8080/"
        },
        "id": "8oFKnvxRJB_y",
        "outputId": "739a10d5-d285-46ee-f682-813bf6cc559b"
      },
      "source": [
        "#importing the relevant package.\r\n",
        "#\r\n",
        "import matplotlib.pyplot as plt\r\n",
        "#\r\n",
        "# visualizing the training loss and the validation loss.\r\n",
        "#\r\n",
        "hist.history.keys()"
      ],
      "execution_count": null,
      "outputs": [
        {
          "output_type": "execute_result",
          "data": {
            "text/plain": [
              "dict_keys(['loss', 'accuracy', 'val_loss', 'val_accuracy'])"
            ]
          },
          "metadata": {
            "tags": []
          },
          "execution_count": 238
        }
      ]
    },
    {
      "cell_type": "code",
      "metadata": {
        "colab": {
          "base_uri": "https://localhost:8080/",
          "height": 294
        },
        "id": "jOsy3xKbJn0O",
        "outputId": "6580b04e-0f5e-4634-cccd-348662996737"
      },
      "source": [
        "#visualizing the loss\r\n",
        "#\r\n",
        "plt.plot(hist.history['loss'])\r\n",
        "plt.plot(hist.history['val_loss'])\r\n",
        "plt.title('Model loss')\r\n",
        "plt.ylabel('Loss')\r\n",
        "plt.xlabel('Epoch')\r\n",
        "plt.legend(['Train', 'Val'], loc='upper right')\r\n",
        "plt.show()"
      ],
      "execution_count": null,
      "outputs": [
        {
          "output_type": "display_data",
          "data": {
            "image/png": "[encoded data removed]",
            "text/plain": [
              "<Figure size 432x288 with 1 Axes>"
            ]
          },
          "metadata": {
            "tags": [],
            "needs_background": "light"
          }
        }
      ]
    },
    {
      "cell_type": "markdown",
      "metadata": {
        "id": "Pa1-7a-2J6PK"
      },
      "source": [
        "**observation**: \r\n",
        "* both validated loss and train loss decreases sharply at first and then slowly as epoch increases."
      ]
    },
    {
      "cell_type": "code",
      "metadata": {
        "colab": {
          "base_uri": "https://localhost:8080/",
          "height": 294
        },
        "id": "Vk7BcqkjKrB-",
        "outputId": "8c7b6565-4415-41b0-c095-bb6c902b15eb"
      },
      "source": [
        "#visualizing the training accuracy and the validation accuracy.\r\n",
        "#\r\n",
        "plt.plot(hist.history['accuracy'])\r\n",
        "plt.plot(hist.history['val_accuracy'])\r\n",
        "plt.title('Model accuracy')\r\n",
        "plt.ylabel('Accuracy')\r\n",
        "plt.xlabel('Epoch')\r\n",
        "plt.legend(['Train', 'Val'], loc='lower right')\r\n",
        "plt.show()"
      ],
      "execution_count": null,
      "outputs": [
        {
          "output_type": "display_data",
          "data": {
            "image/png": "[encoded data removed]",
            "text/plain": [
              "<Figure size 432x288 with 1 Axes>"
            ]
          },
          "metadata": {
            "tags": [],
            "needs_background": "light"
          }
        }
      ]
    },
    {
      "cell_type": "markdown",
      "metadata": {
        "id": "66pUoNb-OI2P"
      },
      "source": [
        "**observarion:** \r\n",
        "* accuracy for train data increases sharply and then does not change even if the epoch increases.\r\n",
        "* validated accuracy doesn't change even if the epoch increases."
      ]
    },
    {
      "cell_type": "markdown",
      "metadata": {
        "id": "T_bkYJE3OuN3"
      },
      "source": [
        "### **model 2**\r\n",
        "\r\n",
        "**overfitting the model**\r\n",
        "\r\n",
        "We'll train a model which will overfit, which we increase the number of layers and neuron size without reguralization."
      ]
    },
    {
      "cell_type": "code",
      "metadata": {
        "colab": {
          "base_uri": "https://localhost:8080/"
        },
        "id": "wMq-BuOiOzL-",
        "outputId": "c90f8849-6720-479d-fc23-02b8620a0c7a"
      },
      "source": [
        "# we will increase the number of layers and neuron to see how it behaves\r\n",
        "#\r\n",
        "model_2 = tf.keras.Sequential([\r\n",
        "    layers.Dense(1000, activation='relu', input_shape=(8,)),\r\n",
        "    layers.Dense(1000, activation='relu'),\r\n",
        "    layers.Dense(1000, activation='relu'),\r\n",
        "    layers.Dense(1000, activation='relu'),\r\n",
        "    layers.Dense(1, activation='sigmoid'),\r\n",
        "])\r\n",
        "model_2.compile(optimizer='adam',\r\n",
        "              loss='binary_crossentropy',\r\n",
        "              metrics=['accuracy'])\r\n",
        "hist_2 = model_2.fit(X_train, Y_train,\r\n",
        "          batch_size=32, epochs=100,\r\n",
        "          validation_data=(X_val, Y_val))"
      ],
      "execution_count": null,
      "outputs": [
        {
          "output_type": "stream",
          "text": [
            "Epoch 1/100\n",
            "86/86 [==============================] - 4s 39ms/step - loss: 0.5980 - accuracy: 0.7427 - val_loss: 0.6011 - val_accuracy: 0.7177\n",
            "Epoch 2/100\n",
            "86/86 [==============================] - 3s 38ms/step - loss: 0.5520 - accuracy: 0.7411 - val_loss: 0.6089 - val_accuracy: 0.7177\n",
            "Epoch 3/100\n",
            "86/86 [==============================] - 3s 38ms/step - loss: 0.5505 - accuracy: 0.7371 - val_loss: 0.5718 - val_accuracy: 0.7177\n",
            "Epoch 4/100\n",
            "86/86 [==============================] - 3s 38ms/step - loss: 0.5621 - accuracy: 0.7258 - val_loss: 0.5793 - val_accuracy: 0.7143\n",
            "Epoch 5/100\n",
            "86/86 [==============================] - 3s 38ms/step - loss: 0.5571 - accuracy: 0.7313 - val_loss: 0.5722 - val_accuracy: 0.7177\n",
            "Epoch 6/100\n",
            "86/86 [==============================] - 3s 38ms/step - loss: 0.5531 - accuracy: 0.7350 - val_loss: 0.5849 - val_accuracy: 0.7160\n",
            "Epoch 7/100\n",
            "86/86 [==============================] - 3s 37ms/step - loss: 0.5656 - accuracy: 0.7257 - val_loss: 0.5674 - val_accuracy: 0.7177\n",
            "Epoch 8/100\n",
            "86/86 [==============================] - 3s 37ms/step - loss: 0.5527 - accuracy: 0.7334 - val_loss: 0.5656 - val_accuracy: 0.7126\n",
            "Epoch 9/100\n",
            "86/86 [==============================] - 3s 37ms/step - loss: 0.5549 - accuracy: 0.7331 - val_loss: 0.5724 - val_accuracy: 0.7177\n",
            "Epoch 10/100\n",
            "86/86 [==============================] - 3s 38ms/step - loss: 0.5366 - accuracy: 0.7452 - val_loss: 0.5792 - val_accuracy: 0.7177\n",
            "Epoch 11/100\n",
            "86/86 [==============================] - 3s 36ms/step - loss: 0.5674 - accuracy: 0.7190 - val_loss: 0.5675 - val_accuracy: 0.7160\n",
            "Epoch 12/100\n",
            "86/86 [==============================] - 3s 37ms/step - loss: 0.5373 - accuracy: 0.7508 - val_loss: 0.5700 - val_accuracy: 0.7109\n",
            "Epoch 13/100\n",
            "86/86 [==============================] - 3s 38ms/step - loss: 0.5518 - accuracy: 0.7329 - val_loss: 0.5641 - val_accuracy: 0.7177\n",
            "Epoch 14/100\n",
            "86/86 [==============================] - 3s 37ms/step - loss: 0.5380 - accuracy: 0.7443 - val_loss: 0.5668 - val_accuracy: 0.7194\n",
            "Epoch 15/100\n",
            "86/86 [==============================] - 3s 36ms/step - loss: 0.5535 - accuracy: 0.7273 - val_loss: 0.5675 - val_accuracy: 0.7058\n",
            "Epoch 16/100\n",
            "86/86 [==============================] - 3s 35ms/step - loss: 0.5608 - accuracy: 0.7147 - val_loss: 0.5707 - val_accuracy: 0.7177\n",
            "Epoch 17/100\n",
            "86/86 [==============================] - 3s 37ms/step - loss: 0.5618 - accuracy: 0.7235 - val_loss: 0.5719 - val_accuracy: 0.7160\n",
            "Epoch 18/100\n",
            "86/86 [==============================] - 3s 37ms/step - loss: 0.5569 - accuracy: 0.7360 - val_loss: 0.5693 - val_accuracy: 0.7092\n",
            "Epoch 19/100\n",
            "86/86 [==============================] - 3s 38ms/step - loss: 0.5463 - accuracy: 0.7372 - val_loss: 0.5676 - val_accuracy: 0.7109\n",
            "Epoch 20/100\n",
            "86/86 [==============================] - 3s 38ms/step - loss: 0.5528 - accuracy: 0.7283 - val_loss: 0.5726 - val_accuracy: 0.7024\n",
            "Epoch 21/100\n",
            "86/86 [==============================] - 3s 37ms/step - loss: 0.5604 - accuracy: 0.7218 - val_loss: 0.5696 - val_accuracy: 0.7092\n",
            "Epoch 22/100\n",
            "86/86 [==============================] - 3s 38ms/step - loss: 0.5308 - accuracy: 0.7558 - val_loss: 0.5671 - val_accuracy: 0.7126\n",
            "Epoch 23/100\n",
            "86/86 [==============================] - 3s 37ms/step - loss: 0.5421 - accuracy: 0.7356 - val_loss: 0.5683 - val_accuracy: 0.7126\n",
            "Epoch 24/100\n",
            "86/86 [==============================] - 3s 37ms/step - loss: 0.5523 - accuracy: 0.7345 - val_loss: 0.5757 - val_accuracy: 0.7160\n",
            "Epoch 25/100\n",
            "86/86 [==============================] - 3s 37ms/step - loss: 0.5469 - accuracy: 0.7333 - val_loss: 0.5759 - val_accuracy: 0.7194\n",
            "Epoch 26/100\n",
            "86/86 [==============================] - 3s 38ms/step - loss: 0.5396 - accuracy: 0.7395 - val_loss: 0.5653 - val_accuracy: 0.7075\n",
            "Epoch 27/100\n",
            "86/86 [==============================] - 3s 38ms/step - loss: 0.5353 - accuracy: 0.7350 - val_loss: 0.5716 - val_accuracy: 0.7126\n",
            "Epoch 28/100\n",
            "86/86 [==============================] - 3s 37ms/step - loss: 0.5339 - accuracy: 0.7391 - val_loss: 0.5720 - val_accuracy: 0.7143\n",
            "Epoch 29/100\n",
            "86/86 [==============================] - 3s 38ms/step - loss: 0.5495 - accuracy: 0.7284 - val_loss: 0.5655 - val_accuracy: 0.7177\n",
            "Epoch 30/100\n",
            "86/86 [==============================] - 3s 37ms/step - loss: 0.5463 - accuracy: 0.7374 - val_loss: 0.5725 - val_accuracy: 0.7228\n",
            "Epoch 31/100\n",
            "86/86 [==============================] - 3s 37ms/step - loss: 0.5436 - accuracy: 0.7404 - val_loss: 0.5707 - val_accuracy: 0.7177\n",
            "Epoch 32/100\n",
            "86/86 [==============================] - 3s 40ms/step - loss: 0.5452 - accuracy: 0.7286 - val_loss: 0.5671 - val_accuracy: 0.7126\n",
            "Epoch 33/100\n",
            "86/86 [==============================] - 3s 39ms/step - loss: 0.5444 - accuracy: 0.7419 - val_loss: 0.5715 - val_accuracy: 0.7143\n",
            "Epoch 34/100\n",
            "86/86 [==============================] - 3s 39ms/step - loss: 0.5477 - accuracy: 0.7376 - val_loss: 0.5687 - val_accuracy: 0.7092\n",
            "Epoch 35/100\n",
            "86/86 [==============================] - 3s 39ms/step - loss: 0.5365 - accuracy: 0.7462 - val_loss: 0.5758 - val_accuracy: 0.7194\n",
            "Epoch 36/100\n",
            "86/86 [==============================] - 3s 39ms/step - loss: 0.5492 - accuracy: 0.7388 - val_loss: 0.5710 - val_accuracy: 0.7126\n",
            "Epoch 37/100\n",
            "86/86 [==============================] - 3s 37ms/step - loss: 0.5359 - accuracy: 0.7420 - val_loss: 0.5693 - val_accuracy: 0.7092\n",
            "Epoch 38/100\n",
            "86/86 [==============================] - 3s 37ms/step - loss: 0.5469 - accuracy: 0.7340 - val_loss: 0.5710 - val_accuracy: 0.7092\n",
            "Epoch 39/100\n",
            "86/86 [==============================] - 3s 37ms/step - loss: 0.5231 - accuracy: 0.7589 - val_loss: 0.5732 - val_accuracy: 0.7143\n",
            "Epoch 40/100\n",
            "86/86 [==============================] - 3s 38ms/step - loss: 0.5402 - accuracy: 0.7422 - val_loss: 0.5748 - val_accuracy: 0.7177\n",
            "Epoch 41/100\n",
            "86/86 [==============================] - 3s 37ms/step - loss: 0.5406 - accuracy: 0.7374 - val_loss: 0.5700 - val_accuracy: 0.7126\n",
            "Epoch 42/100\n",
            "86/86 [==============================] - 3s 38ms/step - loss: 0.5470 - accuracy: 0.7293 - val_loss: 0.5723 - val_accuracy: 0.7109\n",
            "Epoch 43/100\n",
            "86/86 [==============================] - 3s 38ms/step - loss: 0.5486 - accuracy: 0.7349 - val_loss: 0.5727 - val_accuracy: 0.7160\n",
            "Epoch 44/100\n",
            "86/86 [==============================] - 3s 37ms/step - loss: 0.5289 - accuracy: 0.7454 - val_loss: 0.5740 - val_accuracy: 0.7160\n",
            "Epoch 45/100\n",
            "86/86 [==============================] - 3s 37ms/step - loss: 0.5321 - accuracy: 0.7485 - val_loss: 0.5731 - val_accuracy: 0.7211\n",
            "Epoch 46/100\n",
            "86/86 [==============================] - 3s 36ms/step - loss: 0.5569 - accuracy: 0.7202 - val_loss: 0.5817 - val_accuracy: 0.7126\n",
            "Epoch 47/100\n",
            "86/86 [==============================] - 3s 37ms/step - loss: 0.5411 - accuracy: 0.7344 - val_loss: 0.5703 - val_accuracy: 0.7092\n",
            "Epoch 48/100\n",
            "86/86 [==============================] - 3s 37ms/step - loss: 0.5284 - accuracy: 0.7496 - val_loss: 0.5705 - val_accuracy: 0.7092\n",
            "Epoch 49/100\n",
            "86/86 [==============================] - 3s 38ms/step - loss: 0.5418 - accuracy: 0.7429 - val_loss: 0.5812 - val_accuracy: 0.7109\n",
            "Epoch 50/100\n",
            "86/86 [==============================] - 3s 38ms/step - loss: 0.5336 - accuracy: 0.7497 - val_loss: 0.5740 - val_accuracy: 0.7092\n",
            "Epoch 51/100\n",
            "86/86 [==============================] - 3s 36ms/step - loss: 0.5404 - accuracy: 0.7410 - val_loss: 0.5717 - val_accuracy: 0.7177\n",
            "Epoch 52/100\n",
            "86/86 [==============================] - 3s 39ms/step - loss: 0.5410 - accuracy: 0.7402 - val_loss: 0.5748 - val_accuracy: 0.7075\n",
            "Epoch 53/100\n",
            "86/86 [==============================] - 3s 37ms/step - loss: 0.5399 - accuracy: 0.7463 - val_loss: 0.5788 - val_accuracy: 0.6973\n",
            "Epoch 54/100\n",
            "86/86 [==============================] - 3s 37ms/step - loss: 0.5305 - accuracy: 0.7553 - val_loss: 0.5732 - val_accuracy: 0.7126\n",
            "Epoch 55/100\n",
            "86/86 [==============================] - 3s 37ms/step - loss: 0.5458 - accuracy: 0.7390 - val_loss: 0.5821 - val_accuracy: 0.7092\n",
            "Epoch 56/100\n",
            "86/86 [==============================] - 3s 36ms/step - loss: 0.5343 - accuracy: 0.7476 - val_loss: 0.5740 - val_accuracy: 0.7075\n",
            "Epoch 57/100\n",
            "86/86 [==============================] - 3s 37ms/step - loss: 0.5445 - accuracy: 0.7383 - val_loss: 0.5830 - val_accuracy: 0.7143\n",
            "Epoch 58/100\n",
            "86/86 [==============================] - 3s 38ms/step - loss: 0.5580 - accuracy: 0.7228 - val_loss: 0.5801 - val_accuracy: 0.7075\n",
            "Epoch 59/100\n",
            "86/86 [==============================] - 3s 37ms/step - loss: 0.5431 - accuracy: 0.7280 - val_loss: 0.5782 - val_accuracy: 0.7092\n",
            "Epoch 60/100\n",
            "86/86 [==============================] - 3s 37ms/step - loss: 0.5408 - accuracy: 0.7333 - val_loss: 0.5802 - val_accuracy: 0.7109\n",
            "Epoch 61/100\n",
            "86/86 [==============================] - 3s 37ms/step - loss: 0.5446 - accuracy: 0.7370 - val_loss: 0.5765 - val_accuracy: 0.7075\n",
            "Epoch 62/100\n",
            "86/86 [==============================] - 3s 36ms/step - loss: 0.5447 - accuracy: 0.7408 - val_loss: 0.5771 - val_accuracy: 0.7058\n",
            "Epoch 63/100\n",
            "86/86 [==============================] - 3s 38ms/step - loss: 0.5427 - accuracy: 0.7374 - val_loss: 0.5752 - val_accuracy: 0.7041\n",
            "Epoch 64/100\n",
            "86/86 [==============================] - 3s 37ms/step - loss: 0.5494 - accuracy: 0.7364 - val_loss: 0.5794 - val_accuracy: 0.7041\n",
            "Epoch 65/100\n",
            "86/86 [==============================] - 3s 38ms/step - loss: 0.5495 - accuracy: 0.7287 - val_loss: 0.5762 - val_accuracy: 0.7126\n",
            "Epoch 66/100\n",
            "86/86 [==============================] - 3s 38ms/step - loss: 0.5426 - accuracy: 0.7447 - val_loss: 0.5791 - val_accuracy: 0.7143\n",
            "Epoch 67/100\n",
            "86/86 [==============================] - 3s 37ms/step - loss: 0.5303 - accuracy: 0.7478 - val_loss: 0.5755 - val_accuracy: 0.7092\n",
            "Epoch 68/100\n",
            "86/86 [==============================] - 3s 37ms/step - loss: 0.5318 - accuracy: 0.7468 - val_loss: 0.5820 - val_accuracy: 0.7109\n",
            "Epoch 69/100\n",
            "86/86 [==============================] - 3s 37ms/step - loss: 0.5584 - accuracy: 0.7240 - val_loss: 0.5899 - val_accuracy: 0.7024\n",
            "Epoch 70/100\n",
            "86/86 [==============================] - 3s 38ms/step - loss: 0.5212 - accuracy: 0.7510 - val_loss: 0.5762 - val_accuracy: 0.7143\n",
            "Epoch 71/100\n",
            "86/86 [==============================] - 3s 37ms/step - loss: 0.5198 - accuracy: 0.7561 - val_loss: 0.5774 - val_accuracy: 0.7109\n",
            "Epoch 72/100\n",
            "86/86 [==============================] - 3s 37ms/step - loss: 0.5319 - accuracy: 0.7443 - val_loss: 0.5796 - val_accuracy: 0.7177\n",
            "Epoch 73/100\n",
            "86/86 [==============================] - 3s 38ms/step - loss: 0.5409 - accuracy: 0.7403 - val_loss: 0.5876 - val_accuracy: 0.7126\n",
            "Epoch 74/100\n",
            "86/86 [==============================] - 3s 38ms/step - loss: 0.5263 - accuracy: 0.7471 - val_loss: 0.5803 - val_accuracy: 0.7126\n",
            "Epoch 75/100\n",
            "86/86 [==============================] - 3s 36ms/step - loss: 0.5276 - accuracy: 0.7554 - val_loss: 0.5827 - val_accuracy: 0.7126\n",
            "Epoch 76/100\n",
            "86/86 [==============================] - 3s 36ms/step - loss: 0.5515 - accuracy: 0.7287 - val_loss: 0.5861 - val_accuracy: 0.7092\n",
            "Epoch 77/100\n",
            "86/86 [==============================] - 3s 38ms/step - loss: 0.5463 - accuracy: 0.7389 - val_loss: 0.5816 - val_accuracy: 0.7143\n",
            "Epoch 78/100\n",
            "86/86 [==============================] - 3s 38ms/step - loss: 0.5208 - accuracy: 0.7469 - val_loss: 0.5784 - val_accuracy: 0.7109\n",
            "Epoch 79/100\n",
            "86/86 [==============================] - 3s 38ms/step - loss: 0.5287 - accuracy: 0.7464 - val_loss: 0.5812 - val_accuracy: 0.7160\n",
            "Epoch 80/100\n",
            "86/86 [==============================] - 3s 38ms/step - loss: 0.5393 - accuracy: 0.7362 - val_loss: 0.5859 - val_accuracy: 0.7075\n",
            "Epoch 81/100\n",
            "86/86 [==============================] - 3s 38ms/step - loss: 0.5458 - accuracy: 0.7385 - val_loss: 0.5912 - val_accuracy: 0.7092\n",
            "Epoch 82/100\n",
            "86/86 [==============================] - 3s 39ms/step - loss: 0.5280 - accuracy: 0.7509 - val_loss: 0.5904 - val_accuracy: 0.7109\n",
            "Epoch 83/100\n",
            "86/86 [==============================] - 3s 38ms/step - loss: 0.5304 - accuracy: 0.7454 - val_loss: 0.5881 - val_accuracy: 0.7041\n",
            "Epoch 84/100\n",
            "86/86 [==============================] - 3s 36ms/step - loss: 0.5349 - accuracy: 0.7352 - val_loss: 0.5891 - val_accuracy: 0.7092\n",
            "Epoch 85/100\n",
            "86/86 [==============================] - 3s 38ms/step - loss: 0.5478 - accuracy: 0.7386 - val_loss: 0.5927 - val_accuracy: 0.6990\n",
            "Epoch 86/100\n",
            "86/86 [==============================] - 3s 38ms/step - loss: 0.5307 - accuracy: 0.7510 - val_loss: 0.5889 - val_accuracy: 0.7143\n",
            "Epoch 87/100\n",
            "86/86 [==============================] - 3s 37ms/step - loss: 0.5371 - accuracy: 0.7493 - val_loss: 0.5937 - val_accuracy: 0.7041\n",
            "Epoch 88/100\n",
            "86/86 [==============================] - 3s 36ms/step - loss: 0.5316 - accuracy: 0.7472 - val_loss: 0.5818 - val_accuracy: 0.7143\n",
            "Epoch 89/100\n",
            "86/86 [==============================] - 3s 41ms/step - loss: 0.5231 - accuracy: 0.7541 - val_loss: 0.5949 - val_accuracy: 0.7092\n",
            "Epoch 90/100\n",
            "86/86 [==============================] - 3s 38ms/step - loss: 0.5315 - accuracy: 0.7418 - val_loss: 0.6016 - val_accuracy: 0.7075\n",
            "Epoch 91/100\n",
            "86/86 [==============================] - 3s 38ms/step - loss: 0.5361 - accuracy: 0.7411 - val_loss: 0.5946 - val_accuracy: 0.7007\n",
            "Epoch 92/100\n",
            "86/86 [==============================] - 3s 38ms/step - loss: 0.5294 - accuracy: 0.7478 - val_loss: 0.5993 - val_accuracy: 0.7160\n",
            "Epoch 93/100\n",
            "86/86 [==============================] - 3s 38ms/step - loss: 0.5415 - accuracy: 0.7386 - val_loss: 0.5994 - val_accuracy: 0.6990\n",
            "Epoch 94/100\n",
            "86/86 [==============================] - 3s 37ms/step - loss: 0.5339 - accuracy: 0.7413 - val_loss: 0.5918 - val_accuracy: 0.7126\n",
            "Epoch 95/100\n",
            "86/86 [==============================] - 3s 38ms/step - loss: 0.5236 - accuracy: 0.7539 - val_loss: 0.5899 - val_accuracy: 0.7143\n",
            "Epoch 96/100\n",
            "86/86 [==============================] - 3s 38ms/step - loss: 0.5213 - accuracy: 0.7460 - val_loss: 0.5944 - val_accuracy: 0.7126\n",
            "Epoch 97/100\n",
            "86/86 [==============================] - 3s 38ms/step - loss: 0.5380 - accuracy: 0.7410 - val_loss: 0.6045 - val_accuracy: 0.7075\n",
            "Epoch 98/100\n",
            "86/86 [==============================] - 3s 37ms/step - loss: 0.5216 - accuracy: 0.7497 - val_loss: 0.6010 - val_accuracy: 0.7143\n",
            "Epoch 99/100\n",
            "86/86 [==============================] - 3s 36ms/step - loss: 0.5258 - accuracy: 0.7501 - val_loss: 0.5981 - val_accuracy: 0.6939\n",
            "Epoch 100/100\n",
            "86/86 [==============================] - 3s 38ms/step - loss: 0.5171 - accuracy: 0.7552 - val_loss: 0.6182 - val_accuracy: 0.7024\n"
          ],
          "name": "stdout"
        }
      ]
    },
    {
      "cell_type": "code",
      "metadata": {
        "colab": {
          "base_uri": "https://localhost:8080/"
        },
        "id": "wtXz20EgBe7q",
        "outputId": "5a125d01-8925-420a-ea7a-21e94f612038"
      },
      "source": [
        "model_2.evaluate(X_test,Y_test)[1]"
      ],
      "execution_count": null,
      "outputs": [
        {
          "output_type": "stream",
          "text": [
            "19/19 [==============================] - 0s 7ms/step - loss: 0.6102 - accuracy: 0.7381\n"
          ],
          "name": "stdout"
        },
        {
          "output_type": "execute_result",
          "data": {
            "text/plain": [
              "0.738095223903656"
            ]
          },
          "metadata": {
            "tags": []
          },
          "execution_count": 242
        }
      ]
    },
    {
      "cell_type": "markdown",
      "metadata": {
        "id": "kndFQ9nO_TMX"
      },
      "source": [
        "**observation :** the model gave 73.8% acuracy."
      ]
    },
    {
      "cell_type": "markdown",
      "metadata": {
        "id": "V75ppkXMaIa_"
      },
      "source": [
        "**visualization to see what overfitting looks like in terms of the loss and accuracy.**"
      ]
    },
    {
      "cell_type": "code",
      "metadata": {
        "colab": {
          "base_uri": "https://localhost:8080/",
          "height": 294
        },
        "id": "k95MbBz5aD2_",
        "outputId": "cbc3d20e-2c4b-4c86-d4ca-d2610d40aab3"
      },
      "source": [
        "plt.plot(hist_2.history['loss'])\r\n",
        "plt.plot(hist_2.history['val_loss'])\r\n",
        "plt.title('Model loss')\r\n",
        "plt.ylabel('Loss')\r\n",
        "plt.xlabel('Epoch')\r\n",
        "plt.legend(['Train', 'Val'], loc='upper right')\r\n",
        "plt.show()"
      ],
      "execution_count": null,
      "outputs": [
        {
          "output_type": "display_data",
          "data": {
            "image/png": "[encoded data removed]",
            "text/plain": [
              "<Figure size 432x288 with 1 Axes>"
            ]
          },
          "metadata": {
            "tags": [],
            "needs_background": "light"
          }
        }
      ]
    },
    {
      "cell_type": "code",
      "metadata": {
        "colab": {
          "base_uri": "https://localhost:8080/",
          "height": 294
        },
        "id": "eNiwvw-6aQzM",
        "outputId": "2563c98f-4b7b-4991-e8b6-66cfe8599b47"
      },
      "source": [
        "plt.plot(hist_2.history['accuracy'])\r\n",
        "plt.plot(hist_2.history['val_accuracy'])\r\n",
        "plt.title('Model accuracy')\r\n",
        "plt.ylabel('Accuracy')\r\n",
        "plt.xlabel('Epoch')\r\n",
        "plt.legend(['Train', 'Val'], loc='lower right')\r\n",
        "plt.show()"
      ],
      "execution_count": null,
      "outputs": [
        {
          "output_type": "display_data",
          "data": {
            "image/png": "[encoded data removed]",
            "text/plain": [
              "<Figure size 432x288 with 1 Axes>"
            ]
          },
          "metadata": {
            "tags": [],
            "needs_background": "light"
          }
        }
      ]
    },
    {
      "cell_type": "markdown",
      "metadata": {
        "id": "6_RoVx-kazTf"
      },
      "source": [
        "**observation** \r\n",
        "the above shows that our model is overfit since many \r\n",
        "layers makes it hard for the model to learn."
      ]
    },
    {
      "cell_type": "markdown",
      "metadata": {
        "id": "BeVImdPliaEQ"
      },
      "source": [
        "### **Hyperparameter tuning**\r\n",
        "\r\n",
        "* finding the best batch size and epoch."
      ]
    },
    {
      "cell_type": "code",
      "metadata": {
        "id": "Ekh90OqoiOxK"
      },
      "source": [
        "#importing the relevant libraries\r\n",
        "#\r\n",
        "from sklearn.model_selection import GridSearchCV\r\n",
        "from keras.models import Sequential\r\n",
        "from keras.layers import Dense\r\n",
        "from keras.wrappers.scikit_learn import KerasClassifier\r\n",
        "import numpy\r\n"
      ],
      "execution_count": null,
      "outputs": []
    },
    {
      "cell_type": "code",
      "metadata": {
        "id": "qqLyLZkbn7Ds"
      },
      "source": [
        "def build_ann(optimizer):\r\n",
        "    model = Sequential()\r\n",
        "    model.add(Dense(units = 100, kernel_initializer = 'uniform',   activation = 'relu', input_dim =8))\r\n",
        "    model.add(Dense(units= 100, kernel_initializer = 'uniform', activation = 'relu'))\r\n",
        "    model.add(Dense(units=1, kernel_initializer = 'uniform', activation = 'sigmoid'))\r\n",
        "    model.compile(optimizer = 'adam', loss = 'binary_crossentropy', metrics = ['accuracy'])\r\n",
        "    return model"
      ],
      "execution_count": null,
      "outputs": []
    },
    {
      "cell_type": "code",
      "metadata": {
        "id": "NHJ0TxGii3kc",
        "colab": {
          "base_uri": "https://localhost:8080/",
          "height": 150
        },
        "outputId": "46216461-5077-4f91-aca0-2bb2d0616bd5"
      },
      "source": [
        "'''# getting the best batch size and epoch for the model\r\n",
        "#\r\n",
        "#model=KerasClassifier(build_fn=build_ann)\r\n",
        "#parameters={'batch_size':[10,32],\r\n",
        "           'epochs':[20,200],\r\n",
        "           'optimizer':['adam','rmsprop']}\r\n",
        "#grid_search=GridSearchCV(estimator= model,\r\n",
        "                        param_grid=parameters,\r\n",
        "                        scoring='accuracy',\r\n",
        "                        cv=10)\r\n",
        "#grid_search=grid_search.fit(X_train, Y_train)\r\n",
        ",,,"
      ],
      "execution_count": null,
      "outputs": [
        {
          "output_type": "error",
          "ename": "SyntaxError",
          "evalue": "ignored",
          "traceback": [
            "\u001b[0;36m  File \u001b[0;32m\"<ipython-input-247-50aedb91050f>\"\u001b[0;36m, line \u001b[0;32m12\u001b[0m\n\u001b[0;31m    ,,,\u001b[0m\n\u001b[0m       \n^\u001b[0m\n\u001b[0;31mSyntaxError\u001b[0m\u001b[0;31m:\u001b[0m EOF while scanning triple-quoted string literal\n"
          ]
        }
      ]
    },
    {
      "cell_type": "code",
      "metadata": {
        "id": "f4vIBt8YpQDd"
      },
      "source": [
        "#getting the best params\r\n",
        "#\r\n",
        "best_parameters=grid_search.best_params_"
      ],
      "execution_count": null,
      "outputs": []
    },
    {
      "cell_type": "markdown",
      "metadata": {
        "id": "EitIrioyxwh6"
      },
      "source": [
        "###**Model_3**\r\n",
        "\r\n",
        "To address the overfitting we see in Model 2, we'll incorporate L2 regularization, optimal epoch, and batch size. and dropout in our third model here (Model 3)"
      ]
    },
    {
      "cell_type": "code",
      "metadata": {
        "colab": {
          "base_uri": "https://localhost:8080/"
        },
        "id": "mDZFblcWyu17",
        "outputId": "3f2856bb-7da1-4a01-88cb-1a7aaf3d23e6"
      },
      "source": [
        "model_3 = tf.keras.Sequential([\r\n",
        "    layers.Dense(100, activation='relu', kernel_regularizer=keras.regularizers.l2(0.001), input_shape=(8,)),\r\n",
        "    layers.Dropout(0.3),\r\n",
        "    layers.Dense(100, activation='relu', kernel_regularizer=keras.regularizers.l2(0.001)),\r\n",
        "    layers.Dropout(0.3),\r\n",
        "    layers.Dense(100, activation='relu', kernel_regularizer=keras.regularizers.l2(0.001)),\r\n",
        "    layers.Dropout(0.3),\r\n",
        "    layers.Dense(100, activation='relu', kernel_regularizer=keras.regularizers.l2(0.001)),\r\n",
        "    layers.Dropout(0.3),\r\n",
        "    layers.Dense(1, activation='sigmoid', kernel_regularizer=keras.regularizers.l2(0.001)),\r\n",
        "])\r\n",
        "model_3.compile(optimizer='adam',\r\n",
        "              loss='binary_crossentropy',\r\n",
        "              metrics=['accuracy'])\r\n",
        "hist_3 = model_2.fit(X_train, Y_train,\r\n",
        "          batch_size=32, epochs=40,\r\n",
        "          validation_data=(X_val, Y_val))"
      ],
      "execution_count": null,
      "outputs": [
        {
          "output_type": "stream",
          "text": [
            "Epoch 1/40\n",
            "86/86 [==============================] - 3s 38ms/step - loss: 0.4997 - accuracy: 0.7585 - val_loss: 0.7980 - val_accuracy: 0.7126\n",
            "Epoch 2/40\n",
            "86/86 [==============================] - 3s 36ms/step - loss: 0.5041 - accuracy: 0.7585 - val_loss: 0.7299 - val_accuracy: 0.6990\n",
            "Epoch 3/40\n",
            "86/86 [==============================] - 3s 33ms/step - loss: 0.5072 - accuracy: 0.7570 - val_loss: 0.7196 - val_accuracy: 0.7058\n",
            "Epoch 4/40\n",
            "86/86 [==============================] - 3s 32ms/step - loss: 0.5058 - accuracy: 0.7574 - val_loss: 0.7128 - val_accuracy: 0.6956\n",
            "Epoch 5/40\n",
            "86/86 [==============================] - 3s 35ms/step - loss: 0.5016 - accuracy: 0.7603 - val_loss: 0.7534 - val_accuracy: 0.6956\n",
            "Epoch 6/40\n",
            "86/86 [==============================] - 3s 37ms/step - loss: 0.5024 - accuracy: 0.7574 - val_loss: 0.7532 - val_accuracy: 0.7058\n",
            "Epoch 7/40\n",
            "86/86 [==============================] - 3s 37ms/step - loss: 0.4977 - accuracy: 0.7548 - val_loss: 0.7919 - val_accuracy: 0.6922\n",
            "Epoch 8/40\n",
            "86/86 [==============================] - 3s 36ms/step - loss: 0.4965 - accuracy: 0.7599 - val_loss: 0.7602 - val_accuracy: 0.7041\n",
            "Epoch 9/40\n",
            "86/86 [==============================] - 3s 37ms/step - loss: 0.5010 - accuracy: 0.7578 - val_loss: 0.7829 - val_accuracy: 0.6973\n",
            "Epoch 10/40\n",
            "86/86 [==============================] - 3s 37ms/step - loss: 0.5005 - accuracy: 0.7585 - val_loss: 0.7755 - val_accuracy: 0.7007\n",
            "Epoch 11/40\n",
            "86/86 [==============================] - 3s 36ms/step - loss: 0.4981 - accuracy: 0.7588 - val_loss: 0.8023 - val_accuracy: 0.7109\n",
            "Epoch 12/40\n",
            "86/86 [==============================] - 3s 37ms/step - loss: 0.4971 - accuracy: 0.7603 - val_loss: 0.7902 - val_accuracy: 0.7041\n",
            "Epoch 13/40\n",
            "86/86 [==============================] - 3s 37ms/step - loss: 0.5033 - accuracy: 0.7588 - val_loss: 0.7161 - val_accuracy: 0.7058\n",
            "Epoch 14/40\n",
            "86/86 [==============================] - 3s 37ms/step - loss: 0.5029 - accuracy: 0.7585 - val_loss: 0.7662 - val_accuracy: 0.7075\n",
            "Epoch 15/40\n",
            "86/86 [==============================] - 3s 36ms/step - loss: 0.5058 - accuracy: 0.7559 - val_loss: 0.7684 - val_accuracy: 0.7024\n",
            "Epoch 16/40\n",
            "86/86 [==============================] - 3s 38ms/step - loss: 0.4991 - accuracy: 0.7570 - val_loss: 0.7955 - val_accuracy: 0.7109\n",
            "Epoch 17/40\n",
            "86/86 [==============================] - 3s 38ms/step - loss: 0.4971 - accuracy: 0.7625 - val_loss: 0.7861 - val_accuracy: 0.7041\n",
            "Epoch 18/40\n",
            "86/86 [==============================] - 3s 37ms/step - loss: 0.5015 - accuracy: 0.7578 - val_loss: 0.7806 - val_accuracy: 0.7007\n",
            "Epoch 19/40\n",
            "86/86 [==============================] - 3s 38ms/step - loss: 0.4979 - accuracy: 0.7614 - val_loss: 0.7672 - val_accuracy: 0.7075\n",
            "Epoch 20/40\n",
            "86/86 [==============================] - 3s 37ms/step - loss: 0.4940 - accuracy: 0.7625 - val_loss: 0.7708 - val_accuracy: 0.6973\n",
            "Epoch 21/40\n",
            "86/86 [==============================] - 3s 36ms/step - loss: 0.4932 - accuracy: 0.7596 - val_loss: 0.8611 - val_accuracy: 0.7024\n",
            "Epoch 22/40\n",
            "86/86 [==============================] - 3s 37ms/step - loss: 0.4970 - accuracy: 0.7559 - val_loss: 0.8012 - val_accuracy: 0.7041\n",
            "Epoch 23/40\n",
            "86/86 [==============================] - 3s 37ms/step - loss: 0.4968 - accuracy: 0.7574 - val_loss: 0.7623 - val_accuracy: 0.7041\n",
            "Epoch 24/40\n",
            "86/86 [==============================] - 3s 36ms/step - loss: 0.4969 - accuracy: 0.7596 - val_loss: 0.7943 - val_accuracy: 0.7024\n",
            "Epoch 25/40\n",
            "86/86 [==============================] - 3s 36ms/step - loss: 0.4973 - accuracy: 0.7607 - val_loss: 0.7605 - val_accuracy: 0.7024\n",
            "Epoch 26/40\n",
            "86/86 [==============================] - 3s 40ms/step - loss: 0.4953 - accuracy: 0.7636 - val_loss: 0.8416 - val_accuracy: 0.7041\n",
            "Epoch 27/40\n",
            "86/86 [==============================] - 3s 37ms/step - loss: 0.4923 - accuracy: 0.7632 - val_loss: 0.8684 - val_accuracy: 0.7075\n",
            "Epoch 28/40\n",
            "86/86 [==============================] - 3s 38ms/step - loss: 0.5010 - accuracy: 0.7588 - val_loss: 0.7842 - val_accuracy: 0.7041\n",
            "Epoch 29/40\n",
            "86/86 [==============================] - 3s 38ms/step - loss: 0.4971 - accuracy: 0.7559 - val_loss: 0.8000 - val_accuracy: 0.7007\n",
            "Epoch 30/40\n",
            "86/86 [==============================] - 3s 37ms/step - loss: 0.4970 - accuracy: 0.7588 - val_loss: 0.7649 - val_accuracy: 0.6956\n",
            "Epoch 31/40\n",
            "86/86 [==============================] - 3s 36ms/step - loss: 0.4945 - accuracy: 0.7592 - val_loss: 0.8420 - val_accuracy: 0.6973\n",
            "Epoch 32/40\n",
            "86/86 [==============================] - 3s 37ms/step - loss: 0.4922 - accuracy: 0.7640 - val_loss: 0.7613 - val_accuracy: 0.7058\n",
            "Epoch 33/40\n",
            "86/86 [==============================] - 3s 37ms/step - loss: 0.4939 - accuracy: 0.7603 - val_loss: 0.8330 - val_accuracy: 0.7058\n",
            "Epoch 34/40\n",
            "86/86 [==============================] - 3s 36ms/step - loss: 0.4921 - accuracy: 0.7629 - val_loss: 0.8240 - val_accuracy: 0.6990\n",
            "Epoch 35/40\n",
            "86/86 [==============================] - 3s 37ms/step - loss: 0.4981 - accuracy: 0.7621 - val_loss: 0.8664 - val_accuracy: 0.6956\n",
            "Epoch 36/40\n",
            "86/86 [==============================] - 3s 37ms/step - loss: 0.4933 - accuracy: 0.7650 - val_loss: 0.8968 - val_accuracy: 0.6990\n",
            "Epoch 37/40\n",
            "86/86 [==============================] - 3s 37ms/step - loss: 0.4895 - accuracy: 0.7599 - val_loss: 0.8435 - val_accuracy: 0.7024\n",
            "Epoch 38/40\n",
            "86/86 [==============================] - 3s 37ms/step - loss: 0.4939 - accuracy: 0.7629 - val_loss: 0.7294 - val_accuracy: 0.7024\n",
            "Epoch 39/40\n",
            "86/86 [==============================] - 3s 36ms/step - loss: 0.5065 - accuracy: 0.7534 - val_loss: 0.7177 - val_accuracy: 0.7041\n",
            "Epoch 40/40\n",
            "86/86 [==============================] - 3s 37ms/step - loss: 0.5040 - accuracy: 0.7530 - val_loss: 0.6908 - val_accuracy: 0.7058\n"
          ],
          "name": "stdout"
        }
      ]
    },
    {
      "cell_type": "code",
      "metadata": {
        "colab": {
          "base_uri": "https://localhost:8080/"
        },
        "id": "vCBzA0CQY9eo",
        "outputId": "c2ce95c6-594f-4f1f-abc3-51eafce291e2"
      },
      "source": [
        "model_3.evaluate(X_test,Y_test)[1]"
      ],
      "execution_count": null,
      "outputs": [
        {
          "output_type": "stream",
          "text": [
            "19/19 [==============================] - 0s 1ms/step - loss: 0.9937 - accuracy: 0.7280\n"
          ],
          "name": "stdout"
        },
        {
          "output_type": "execute_result",
          "data": {
            "text/plain": [
              "0.7227891087532043"
            ]
          },
          "metadata": {
            "tags": []
          },
          "execution_count": 255
        }
      ]
    },
    {
      "cell_type": "markdown",
      "metadata": {
        "id": "avhMNXY3ZRca"
      },
      "source": [
        "**observation**: the model gave 72% accuracy after tuning. "
      ]
    },
    {
      "cell_type": "markdown",
      "metadata": {
        "id": "VsY8gf7fz20o"
      },
      "source": [
        "**Visualizing Loss and Accuracy**"
      ]
    },
    {
      "cell_type": "code",
      "metadata": {
        "colab": {
          "base_uri": "https://localhost:8080/",
          "height": 294
        },
        "id": "jFoiniOK0GGT",
        "outputId": "38d1fd86-eb70-4947-d88c-7ecbd5d1f5f7"
      },
      "source": [
        "plt.plot(hist_3.history['loss'])\r\n",
        "plt.plot(hist_3.history['val_loss'])\r\n",
        "plt.title('Model loss')\r\n",
        "plt.ylabel('Loss')\r\n",
        "plt.xlabel('Epoch')\r\n",
        "plt.legend(['Train', 'Val'], loc='upper right')\r\n",
        "plt.ylim(top=1.2, bottom=0.0)\r\n",
        "plt.show()"
      ],
      "execution_count": null,
      "outputs": [
        {
          "output_type": "display_data",
          "data": {
            "image/png": "[encoded data removed]",
            "text/plain": [
              "<Figure size 432x288 with 1 Axes>"
            ]
          },
          "metadata": {
            "tags": [],
            "needs_background": "light"
          }
        }
      ]
    },
    {
      "cell_type": "code",
      "metadata": {
        "colab": {
          "base_uri": "https://localhost:8080/",
          "height": 294
        },
        "id": "0IsPsx7H0aKG",
        "outputId": "94e547c4-662d-4a6c-aadd-97eee1c89516"
      },
      "source": [
        "plt.plot(hist_3.history['accuracy'])\r\n",
        "plt.plot(hist_3.history['val_accuracy'])\r\n",
        "plt.title('Model accuracy')\r\n",
        "plt.ylabel('Accuracy')\r\n",
        "plt.xlabel('Epoch')\r\n",
        "plt.legend(['Train', 'Val'], loc='lower right')\r\n",
        "plt.show()"
      ],
      "execution_count": null,
      "outputs": [
        {
          "output_type": "display_data",
          "data": {
            "image/png": "[encoded data removed]",
            "text/plain": [
              "<Figure size 432x288 with 1 Axes>"
            ]
          },
          "metadata": {
            "tags": [],
            "needs_background": "light"
          }
        }
      ]
    },
    {
      "cell_type": "markdown",
      "metadata": {
        "id": "HsGuhq9P0xqX"
      },
      "source": [
        "observation:\r\n",
        "\r\n",
        "* notice that the loss is a low, and that's because we've changed our loss function. To plot such that the window is zoomed in between 0 and 1.2 for the loss, we add an additional line of code (plt.ylim) when plotting\r\n",
        "\r\n",
        "* when we compare mode 3 to Model 2, you should see that there's less overfitting in model 3."
      ]
    },
    {
      "cell_type": "markdown",
      "metadata": {
        "id": "9X9QScut-WZj"
      },
      "source": [
        "##Neural Network  model with the best features that was selected feature importance "
      ]
    },
    {
      "cell_type": "code",
      "metadata": {
        "colab": {
          "base_uri": "https://localhost:8080/",
          "height": 215
        },
        "id": "BtLsVkUc_5_D",
        "outputId": "8ec1e08a-8aba-4418-d465-a2ef689cdbc3"
      },
      "source": [
        "#preview of the dataset to be used\r\n",
        "#\r\n",
        "neural2_df=feature_df.copy()\r\n",
        "print(neural2_df.shape)\r\n",
        "neural2_df.head()"
      ],
      "execution_count": null,
      "outputs": [
        {
          "output_type": "stream",
          "text": [
            "(3917, 5)\n"
          ],
          "name": "stdout"
        },
        {
          "output_type": "execute_result",
          "data": {
            "text/html": [
              "<div>\n",
              "<style scoped>\n",
              "    .dataframe tbody tr th:only-of-type {\n",
              "        vertical-align: middle;\n",
              "    }\n",
              "\n",
              "    .dataframe tbody tr th {\n",
              "        vertical-align: top;\n",
              "    }\n",
              "\n",
              "    .dataframe thead th {\n",
              "        text-align: right;\n",
              "    }\n",
              "</style>\n",
              "<table border=\"1\" class=\"dataframe\">\n",
              "  <thead>\n",
              "    <tr style=\"text-align: right;\">\n",
              "      <th></th>\n",
              "      <th>Insured_Period</th>\n",
              "      <th>Building Dimension</th>\n",
              "      <th>Building_Fenced_V</th>\n",
              "      <th>Garden_V</th>\n",
              "      <th>Claim</th>\n",
              "    </tr>\n",
              "  </thead>\n",
              "  <tbody>\n",
              "    <tr>\n",
              "      <th>0</th>\n",
              "      <td>1.0</td>\n",
              "      <td>290.0</td>\n",
              "      <td>1</td>\n",
              "      <td>1</td>\n",
              "      <td>0</td>\n",
              "    </tr>\n",
              "    <tr>\n",
              "      <th>1</th>\n",
              "      <td>1.0</td>\n",
              "      <td>490.0</td>\n",
              "      <td>0</td>\n",
              "      <td>0</td>\n",
              "      <td>0</td>\n",
              "    </tr>\n",
              "    <tr>\n",
              "      <th>2</th>\n",
              "      <td>1.0</td>\n",
              "      <td>595.0</td>\n",
              "      <td>1</td>\n",
              "      <td>1</td>\n",
              "      <td>0</td>\n",
              "    </tr>\n",
              "    <tr>\n",
              "      <th>3</th>\n",
              "      <td>1.0</td>\n",
              "      <td>2840.0</td>\n",
              "      <td>1</td>\n",
              "      <td>1</td>\n",
              "      <td>0</td>\n",
              "    </tr>\n",
              "    <tr>\n",
              "      <th>4</th>\n",
              "      <td>1.0</td>\n",
              "      <td>680.0</td>\n",
              "      <td>0</td>\n",
              "      <td>0</td>\n",
              "      <td>0</td>\n",
              "    </tr>\n",
              "  </tbody>\n",
              "</table>\n",
              "</div>"
            ],
            "text/plain": [
              "   Insured_Period  Building Dimension  Building_Fenced_V  Garden_V  Claim\n",
              "0             1.0               290.0                  1         1      0\n",
              "1             1.0               490.0                  0         0      0\n",
              "2             1.0               595.0                  1         1      0\n",
              "3             1.0              2840.0                  1         1      0\n",
              "4             1.0               680.0                  0         0      0"
            ]
          },
          "metadata": {
            "tags": []
          },
          "execution_count": 258
        }
      ]
    },
    {
      "cell_type": "markdown",
      "metadata": {
        "id": "_KfWu5EIDCQy"
      },
      "source": [
        "**observation**: our dataset has 3917 records and 5 variables."
      ]
    },
    {
      "cell_type": "markdown",
      "metadata": {
        "id": "ElkeIhC8DCJH"
      },
      "source": [
        "**step a**. \r\n",
        "* we split the dataset into our input features and the label we wish to predict\r\n",
        "* The dataset that we have now is in what we call a pandas dataframe. To convert it to an array, simply access its values:"
      ]
    },
    {
      "cell_type": "code",
      "metadata": {
        "id": "vfmtxDo_C82O"
      },
      "source": [
        "#splitting the dateset into features and target variable.\r\n",
        "#\r\n",
        "X = neural2_df.drop(['Claim'], axis=1).values  # features/indepedent variables\r\n",
        "Y = neural2_df['Claim'].values # target/depedent/label variable"
      ],
      "execution_count": null,
      "outputs": []
    },
    {
      "cell_type": "markdown",
      "metadata": {
        "id": "RpYWNmo2DyxW"
      },
      "source": [
        "**Step b**: \r\n",
        "\r\n",
        "* Normalizing our data is very important, as we want the input features to be on the same order of magnitude to make our training easier. We'll use a min-max scaler from scikit-learn which scales our data to be between 0 and 1."
      ]
    },
    {
      "cell_type": "code",
      "metadata": {
        "id": "VsIRMWESEEVA"
      },
      "source": [
        "#importing preprocessing library\r\n",
        "#\r\n",
        "from sklearn import preprocessing\r\n",
        "#\r\n",
        "min_max_scaler = preprocessing.MinMaxScaler()\r\n",
        "X_scale = min_max_scaler.fit_transform(X)"
      ],
      "execution_count": null,
      "outputs": []
    },
    {
      "cell_type": "code",
      "metadata": {
        "colab": {
          "base_uri": "https://localhost:8080/"
        },
        "id": "b9akuSJmEeTF",
        "outputId": "f7cb3073-0c75-4268-a5d8-9b46edac299d"
      },
      "source": [
        "#checking the scaled values\r\n",
        "#\r\n",
        "X_scale"
      ],
      "execution_count": null,
      "outputs": [
        {
          "output_type": "execute_result",
          "data": {
            "text/plain": [
              "array([[1.        , 0.05141844, 1.        , 1.        ],\n",
              "       [1.        , 0.08687943, 0.        , 0.        ],\n",
              "       [1.        , 0.10549645, 1.        , 1.        ],\n",
              "       ...,\n",
              "       [1.        , 0.        , 1.        , 1.        ],\n",
              "       [1.        , 0.        , 1.        , 1.        ],\n",
              "       [1.        , 0.        , 1.        , 1.        ]])"
            ]
          },
          "metadata": {
            "tags": []
          },
          "execution_count": 261
        }
      ]
    },
    {
      "cell_type": "markdown",
      "metadata": {
        "id": "sSQ5eAf-Eq5G"
      },
      "source": [
        "**step 3:**\r\n",
        "\r\n",
        "set aside some parts of our dataset for a validation set and a test set. We use the function train_test_split from scikit-learn to do that"
      ]
    },
    {
      "cell_type": "code",
      "metadata": {
        "colab": {
          "base_uri": "https://localhost:8080/"
        },
        "id": "MLFkRk10EtNy",
        "outputId": "cfe803c2-bf3a-4cfc-9e3e-4abfbff0cfa1"
      },
      "source": [
        "#importing the library to be used in spliting the data\r\n",
        "#\r\n",
        "from sklearn.model_selection import train_test_split\r\n",
        "#\r\n",
        "#splitting the dataset into 70% training and 30% test \r\n",
        "X_train, X_val_and_test, Y_train, Y_val_and_test = train_test_split(X_scale, Y, test_size=0.3)\r\n",
        "#\r\n",
        "#set aside some parts of our dataset for a validation set and a test set.\r\n",
        "#\r\n",
        "X_val, X_test, Y_val, Y_test = train_test_split(X_val_and_test, Y_val_and_test, test_size=0.5)\r\n",
        "#\r\n",
        "#checking the shape\r\n",
        "#\r\n",
        "print(X_train.shape, X_val.shape, X_test.shape, Y_train.shape, Y_val.shape, Y_test.shape)"
      ],
      "execution_count": null,
      "outputs": [
        {
          "output_type": "stream",
          "text": [
            "(2741, 4) (588, 4) (588, 4) (2741,) (588,) (588,)\n"
          ],
          "name": "stdout"
        }
      ]
    },
    {
      "cell_type": "markdown",
      "metadata": {
        "id": "v4tHAGjFA1QF"
      },
      "source": [
        "### Model A"
      ]
    },
    {
      "cell_type": "code",
      "metadata": {
        "id": "cMsPuK0cAHOQ"
      },
      "source": [
        "#we use squential model with allows to build a model layer by layer.\r\n",
        "#\r\n",
        "model_a = tf.keras.Sequential([\r\n",
        "    layers.Dense(100, activation='relu', input_shape=(4,)),\r\n",
        "    layers.Dense(100, activation='relu'),\r\n",
        "    layers.Dense(100, activation='relu'),\r\n",
        "     layers.Dense(100, activation='relu'),\r\n",
        "    layers.Dense(1, activation='sigmoid'),\r\n",
        "])"
      ],
      "execution_count": null,
      "outputs": []
    },
    {
      "cell_type": "markdown",
      "metadata": {
        "id": "ntHl_b-NBC54"
      },
      "source": [
        "**Configuring the model a**\r\n",
        "\r\n",
        "Before we start our training, we have to configure the model by\r\n",
        "\r\n",
        "* the algorithm to use to do the optimization (we'll use stochastic gradient descent)\r\n",
        "* The loss function to use (for binary classification, we will use binary cross entropy)\r\n",
        "* The other metrics to track apart from the loss function (we want to track accuracy as well)"
      ]
    },
    {
      "cell_type": "code",
      "metadata": {
        "id": "tw3GHujzA6z8"
      },
      "source": [
        "#configuring the model; \r\n",
        "#\r\n",
        "model_a.compile(optimizer='sgd',\r\n",
        "              loss='binary_crossentropy',\r\n",
        "              metrics=['accuracy'])"
      ],
      "execution_count": null,
      "outputs": []
    },
    {
      "cell_type": "markdown",
      "metadata": {
        "id": "TDXjkhC8CFrP"
      },
      "source": [
        "**Training the model**\r\n",
        "\r\n",
        "\r\n",
        "The function is called 'fit' as we are fitting the parameters to the data. We specify:\r\n",
        "\r\n",
        "* what data we are training on, which is X_train and Y_train\r\n",
        "* the size of our mini-batch\r\n",
        "* how long we want to train it for (epochs)\r\n",
        "* what our validation data is so that the model will tell us how we are doing on the validation data at each point."
      ]
    },
    {
      "cell_type": "code",
      "metadata": {
        "colab": {
          "base_uri": "https://localhost:8080/"
        },
        "id": "-gv0k9uxCHa6",
        "outputId": "2c1dfaf4-d36e-4c3d-db1f-d2cfcb3671bf"
      },
      "source": [
        "# training the model and saving output under the variable hist\r\n",
        "#\r\n",
        "hist_a = model_a.fit(X_train, Y_train,\r\n",
        "          batch_size=32, epochs=20,\r\n",
        "          validation_data=(X_val, Y_val))"
      ],
      "execution_count": null,
      "outputs": [
        {
          "output_type": "stream",
          "text": [
            "Epoch 1/20\n",
            "86/86 [==============================] - 1s 4ms/step - loss: 0.6639 - accuracy: 0.7190 - val_loss: 0.6250 - val_accuracy: 0.7092\n",
            "Epoch 2/20\n",
            "86/86 [==============================] - 0s 2ms/step - loss: 0.6105 - accuracy: 0.7242 - val_loss: 0.6080 - val_accuracy: 0.7092\n",
            "Epoch 3/20\n",
            "86/86 [==============================] - 0s 2ms/step - loss: 0.5904 - accuracy: 0.7297 - val_loss: 0.6050 - val_accuracy: 0.7092\n",
            "Epoch 4/20\n",
            "86/86 [==============================] - 0s 2ms/step - loss: 0.5849 - accuracy: 0.7305 - val_loss: 0.6045 - val_accuracy: 0.7092\n",
            "Epoch 5/20\n",
            "86/86 [==============================] - 0s 2ms/step - loss: 0.5813 - accuracy: 0.7325 - val_loss: 0.6041 - val_accuracy: 0.7092\n",
            "Epoch 6/20\n",
            "86/86 [==============================] - 0s 2ms/step - loss: 0.5886 - accuracy: 0.7249 - val_loss: 0.6038 - val_accuracy: 0.7092\n",
            "Epoch 7/20\n",
            "86/86 [==============================] - 0s 2ms/step - loss: 0.5918 - accuracy: 0.7221 - val_loss: 0.6036 - val_accuracy: 0.7092\n",
            "Epoch 8/20\n",
            "86/86 [==============================] - 0s 2ms/step - loss: 0.5914 - accuracy: 0.7196 - val_loss: 0.6035 - val_accuracy: 0.7092\n",
            "Epoch 9/20\n",
            "86/86 [==============================] - 0s 2ms/step - loss: 0.5809 - accuracy: 0.7315 - val_loss: 0.6028 - val_accuracy: 0.7092\n",
            "Epoch 10/20\n",
            "86/86 [==============================] - 0s 2ms/step - loss: 0.5926 - accuracy: 0.7184 - val_loss: 0.6026 - val_accuracy: 0.7092\n",
            "Epoch 11/20\n",
            "86/86 [==============================] - 0s 2ms/step - loss: 0.5872 - accuracy: 0.7217 - val_loss: 0.6023 - val_accuracy: 0.7092\n",
            "Epoch 12/20\n",
            "86/86 [==============================] - 0s 2ms/step - loss: 0.5892 - accuracy: 0.7214 - val_loss: 0.6019 - val_accuracy: 0.7092\n",
            "Epoch 13/20\n",
            "86/86 [==============================] - 0s 2ms/step - loss: 0.5908 - accuracy: 0.7204 - val_loss: 0.6016 - val_accuracy: 0.7092\n",
            "Epoch 14/20\n",
            "86/86 [==============================] - 0s 2ms/step - loss: 0.5802 - accuracy: 0.7283 - val_loss: 0.6011 - val_accuracy: 0.7092\n",
            "Epoch 15/20\n",
            "86/86 [==============================] - 0s 2ms/step - loss: 0.5877 - accuracy: 0.7216 - val_loss: 0.6008 - val_accuracy: 0.7092\n",
            "Epoch 16/20\n",
            "86/86 [==============================] - 0s 2ms/step - loss: 0.5897 - accuracy: 0.7186 - val_loss: 0.6005 - val_accuracy: 0.7092\n",
            "Epoch 17/20\n",
            "86/86 [==============================] - 0s 2ms/step - loss: 0.5883 - accuracy: 0.7208 - val_loss: 0.6003 - val_accuracy: 0.7092\n",
            "Epoch 18/20\n",
            "86/86 [==============================] - 0s 2ms/step - loss: 0.5765 - accuracy: 0.7323 - val_loss: 0.5996 - val_accuracy: 0.7092\n",
            "Epoch 19/20\n",
            "86/86 [==============================] - 0s 2ms/step - loss: 0.5816 - accuracy: 0.7277 - val_loss: 0.5992 - val_accuracy: 0.7092\n",
            "Epoch 20/20\n",
            "86/86 [==============================] - 0s 2ms/step - loss: 0.5775 - accuracy: 0.7319 - val_loss: 0.5987 - val_accuracy: 0.7092\n"
          ],
          "name": "stdout"
        }
      ]
    },
    {
      "cell_type": "markdown",
      "metadata": {
        "id": "bU8TFkR3GmXv"
      },
      "source": [
        "**Evaluating our data on the test set:**"
      ]
    },
    {
      "cell_type": "code",
      "metadata": {
        "colab": {
          "base_uri": "https://localhost:8080/"
        },
        "id": "2ibB-Ej0Fumq",
        "outputId": "f4c0a4dc-2dbf-455b-9c0e-1bcef9846462"
      },
      "source": [
        "#model evaluation\r\n",
        "#\r\n",
        "model_a.evaluate(X_test,Y_test)[1]"
      ],
      "execution_count": null,
      "outputs": [
        {
          "output_type": "stream",
          "text": [
            "19/19 [==============================] - 0s 1ms/step - loss: 0.5484 - accuracy: 0.7653\n"
          ],
          "name": "stdout"
        },
        {
          "output_type": "execute_result",
          "data": {
            "text/plain": [
              "0.7653061151504517"
            ]
          },
          "metadata": {
            "tags": []
          },
          "execution_count": 266
        }
      ]
    },
    {
      "cell_type": "markdown",
      "metadata": {
        "id": "h1OngyDVcU1E"
      },
      "source": [
        "**observation**: the model gives 76% accuracy before tuning."
      ]
    },
    {
      "cell_type": "markdown",
      "metadata": {
        "id": "rtKfEuzCGwlC"
      },
      "source": [
        "**Visualizing Loss and Accuracy**"
      ]
    },
    {
      "cell_type": "code",
      "metadata": {
        "colab": {
          "base_uri": "https://localhost:8080/"
        },
        "id": "1WfVRrFeGSy4",
        "outputId": "45783abc-a792-4852-e013-c033d4784d3e"
      },
      "source": [
        "#importing the relevant package.\r\n",
        "#\r\n",
        "import matplotlib.pyplot as plt\r\n",
        "#\r\n",
        "# visualizing the training loss and the validation loss.\r\n",
        "#\r\n",
        "hist_a.history.keys()"
      ],
      "execution_count": null,
      "outputs": [
        {
          "output_type": "execute_result",
          "data": {
            "text/plain": [
              "dict_keys(['loss', 'accuracy', 'val_loss', 'val_accuracy'])"
            ]
          },
          "metadata": {
            "tags": []
          },
          "execution_count": 267
        }
      ]
    },
    {
      "cell_type": "code",
      "metadata": {
        "colab": {
          "base_uri": "https://localhost:8080/",
          "height": 294
        },
        "id": "8Waj9CYnHQXN",
        "outputId": "6558a026-d3e1-4fbb-906b-f63e5ade5417"
      },
      "source": [
        "#visualizing the loss\r\n",
        "#\r\n",
        "plt.plot(hist_a.history['loss'])\r\n",
        "plt.plot(hist_a.history['val_loss'])\r\n",
        "plt.title('Model loss')\r\n",
        "plt.ylabel('Loss')\r\n",
        "plt.xlabel('Epoch')\r\n",
        "plt.legend(['Train', 'Val'], loc='upper right')\r\n",
        "plt.show()"
      ],
      "execution_count": null,
      "outputs": [
        {
          "output_type": "display_data",
          "data": {
            "image/png": "[encoded data removed]",
            "text/plain": [
              "<Figure size 432x288 with 1 Axes>"
            ]
          },
          "metadata": {
            "tags": [],
            "needs_background": "light"
          }
        }
      ]
    },
    {
      "cell_type": "markdown",
      "metadata": {
        "id": "sC3dHrj5dm3w"
      },
      "source": [
        "**observation**: \r\n",
        "* both validated loss and train loss decreases sharply at first and then slowly as epoch increases."
      ]
    },
    {
      "cell_type": "code",
      "metadata": {
        "colab": {
          "base_uri": "https://localhost:8080/",
          "height": 294
        },
        "id": "XSdCGkqzHY9V",
        "outputId": "fd393f60-d7e6-4118-fee8-0e2855f04e62"
      },
      "source": [
        "#visualizing the training accuracy and the validation accuracy.\r\n",
        "#\r\n",
        "plt.plot(hist_a.history['accuracy'])\r\n",
        "plt.plot(hist_a.history['val_accuracy'])\r\n",
        "plt.title('Model accuracy')\r\n",
        "plt.ylabel('Accuracy')\r\n",
        "plt.xlabel('Epoch')\r\n",
        "plt.legend(['Train', 'Val'], loc='lower right')\r\n",
        "plt.show()"
      ],
      "execution_count": null,
      "outputs": [
        {
          "output_type": "display_data",
          "data": {
            "image/png": "[encoded data removed]",
            "text/plain": [
              "<Figure size 432x288 with 1 Axes>"
            ]
          },
          "metadata": {
            "tags": [],
            "needs_background": "light"
          }
        }
      ]
    },
    {
      "cell_type": "markdown",
      "metadata": {
        "id": "gQvR_X8fds8c"
      },
      "source": [
        "**observation**: \r\n",
        "* train accuracy increases sharply upto a certain point and then remains stagnant with and increase in epoch.\r\n",
        "* validation remains the same as an epoch increases."
      ]
    },
    {
      "cell_type": "markdown",
      "metadata": {
        "id": "VIhRVlXYHtrd"
      },
      "source": [
        "### **model b**\r\n",
        "\r\n",
        "**overfitting the model**\r\n",
        "\r\n",
        "We'll train a model which will overfit, which we increase the number of layers and neuron size without reguralization."
      ]
    },
    {
      "cell_type": "code",
      "metadata": {
        "colab": {
          "base_uri": "https://localhost:8080/"
        },
        "id": "EHrmHFbWH2IP",
        "outputId": "9292eead-7846-4729-e37d-7e0380ddf66f"
      },
      "source": [
        "# we will increase the number of layers and neuron to see how it behaves\r\n",
        "#\r\n",
        "model_b = tf.keras.Sequential([\r\n",
        "    layers.Dense(1000, activation='relu', input_shape=(4,)),\r\n",
        "    layers.Dense(1000, activation='relu'),\r\n",
        "    layers.Dense(1000, activation='relu'),\r\n",
        "    layers.Dense(1000, activation='relu'),\r\n",
        "    layers.Dense(1, activation='sigmoid'),\r\n",
        "])\r\n",
        "model_b.compile(optimizer='adam',\r\n",
        "              loss='binary_crossentropy',\r\n",
        "              metrics=['accuracy'])\r\n",
        "hist_b = model_b.fit(X_train, Y_train,\r\n",
        "          batch_size=32, epochs=100,\r\n",
        "          validation_data=(X_val, Y_val))"
      ],
      "execution_count": null,
      "outputs": [
        {
          "output_type": "stream",
          "text": [
            "Epoch 1/100\n",
            "86/86 [==============================] - 4s 42ms/step - loss: 0.6023 - accuracy: 0.7045 - val_loss: 0.5934 - val_accuracy: 0.7092\n",
            "Epoch 2/100\n",
            "86/86 [==============================] - 3s 37ms/step - loss: 0.5826 - accuracy: 0.7170 - val_loss: 0.5884 - val_accuracy: 0.7092\n",
            "Epoch 3/100\n",
            "86/86 [==============================] - 3s 37ms/step - loss: 0.5897 - accuracy: 0.7150 - val_loss: 0.5873 - val_accuracy: 0.7092\n",
            "Epoch 4/100\n",
            "86/86 [==============================] - 3s 37ms/step - loss: 0.5897 - accuracy: 0.7162 - val_loss: 0.5893 - val_accuracy: 0.7092\n",
            "Epoch 5/100\n",
            "86/86 [==============================] - 3s 35ms/step - loss: 0.5770 - accuracy: 0.7174 - val_loss: 0.5853 - val_accuracy: 0.7092\n",
            "Epoch 6/100\n",
            "86/86 [==============================] - 3s 37ms/step - loss: 0.5715 - accuracy: 0.7227 - val_loss: 0.5950 - val_accuracy: 0.7092\n",
            "Epoch 7/100\n",
            "86/86 [==============================] - 3s 37ms/step - loss: 0.5782 - accuracy: 0.7135 - val_loss: 0.5819 - val_accuracy: 0.7092\n",
            "Epoch 8/100\n",
            "86/86 [==============================] - 3s 37ms/step - loss: 0.5640 - accuracy: 0.7317 - val_loss: 0.5870 - val_accuracy: 0.7092\n",
            "Epoch 9/100\n",
            "86/86 [==============================] - 3s 36ms/step - loss: 0.5709 - accuracy: 0.7270 - val_loss: 0.5859 - val_accuracy: 0.7092\n",
            "Epoch 10/100\n",
            "86/86 [==============================] - 3s 35ms/step - loss: 0.5596 - accuracy: 0.7386 - val_loss: 0.5957 - val_accuracy: 0.7092\n",
            "Epoch 11/100\n",
            "86/86 [==============================] - 3s 34ms/step - loss: 0.5611 - accuracy: 0.7272 - val_loss: 0.5906 - val_accuracy: 0.7092\n",
            "Epoch 12/100\n",
            "86/86 [==============================] - 3s 31ms/step - loss: 0.5634 - accuracy: 0.7250 - val_loss: 0.5933 - val_accuracy: 0.7092\n",
            "Epoch 13/100\n",
            "86/86 [==============================] - 3s 32ms/step - loss: 0.5667 - accuracy: 0.7235 - val_loss: 0.5864 - val_accuracy: 0.7092\n",
            "Epoch 14/100\n",
            "86/86 [==============================] - 3s 37ms/step - loss: 0.5733 - accuracy: 0.7129 - val_loss: 0.5935 - val_accuracy: 0.7092\n",
            "Epoch 15/100\n",
            "86/86 [==============================] - 3s 37ms/step - loss: 0.5559 - accuracy: 0.7342 - val_loss: 0.6004 - val_accuracy: 0.7092\n",
            "Epoch 16/100\n",
            "86/86 [==============================] - 3s 35ms/step - loss: 0.5781 - accuracy: 0.7207 - val_loss: 0.5929 - val_accuracy: 0.7092\n",
            "Epoch 17/100\n",
            "86/86 [==============================] - 3s 35ms/step - loss: 0.5675 - accuracy: 0.7261 - val_loss: 0.5929 - val_accuracy: 0.7092\n",
            "Epoch 18/100\n",
            "86/86 [==============================] - 3s 37ms/step - loss: 0.5529 - accuracy: 0.7339 - val_loss: 0.5961 - val_accuracy: 0.7092\n",
            "Epoch 19/100\n",
            "86/86 [==============================] - 3s 36ms/step - loss: 0.5591 - accuracy: 0.7285 - val_loss: 0.6007 - val_accuracy: 0.7092\n",
            "Epoch 20/100\n",
            "86/86 [==============================] - 3s 37ms/step - loss: 0.5588 - accuracy: 0.7339 - val_loss: 0.5904 - val_accuracy: 0.7092\n",
            "Epoch 21/100\n",
            "86/86 [==============================] - 3s 35ms/step - loss: 0.5672 - accuracy: 0.7281 - val_loss: 0.5976 - val_accuracy: 0.7092\n",
            "Epoch 22/100\n",
            "86/86 [==============================] - 3s 33ms/step - loss: 0.5703 - accuracy: 0.7233 - val_loss: 0.5803 - val_accuracy: 0.7007\n",
            "Epoch 23/100\n",
            "86/86 [==============================] - 3s 35ms/step - loss: 0.5680 - accuracy: 0.7166 - val_loss: 0.5866 - val_accuracy: 0.7092\n",
            "Epoch 24/100\n",
            "86/86 [==============================] - 3s 37ms/step - loss: 0.5602 - accuracy: 0.7354 - val_loss: 0.5914 - val_accuracy: 0.7092\n",
            "Epoch 25/100\n",
            "86/86 [==============================] - 3s 37ms/step - loss: 0.5622 - accuracy: 0.7290 - val_loss: 0.5908 - val_accuracy: 0.7092\n",
            "Epoch 26/100\n",
            "86/86 [==============================] - 3s 35ms/step - loss: 0.5549 - accuracy: 0.7319 - val_loss: 0.5939 - val_accuracy: 0.7092\n",
            "Epoch 27/100\n",
            "86/86 [==============================] - 3s 35ms/step - loss: 0.5569 - accuracy: 0.7348 - val_loss: 0.6041 - val_accuracy: 0.7092\n",
            "Epoch 28/100\n",
            "86/86 [==============================] - 3s 35ms/step - loss: 0.5719 - accuracy: 0.7211 - val_loss: 0.5949 - val_accuracy: 0.7092\n",
            "Epoch 29/100\n",
            "86/86 [==============================] - 3s 37ms/step - loss: 0.5681 - accuracy: 0.7287 - val_loss: 0.6052 - val_accuracy: 0.7092\n",
            "Epoch 30/100\n",
            "86/86 [==============================] - 3s 37ms/step - loss: 0.5664 - accuracy: 0.7273 - val_loss: 0.5911 - val_accuracy: 0.7092\n",
            "Epoch 31/100\n",
            "86/86 [==============================] - 3s 37ms/step - loss: 0.5735 - accuracy: 0.7134 - val_loss: 0.5922 - val_accuracy: 0.7092\n",
            "Epoch 32/100\n",
            "86/86 [==============================] - 3s 36ms/step - loss: 0.5735 - accuracy: 0.7201 - val_loss: 0.5883 - val_accuracy: 0.7092\n",
            "Epoch 33/100\n",
            "86/86 [==============================] - 3s 37ms/step - loss: 0.5668 - accuracy: 0.7262 - val_loss: 0.5845 - val_accuracy: 0.7092\n",
            "Epoch 34/100\n",
            "86/86 [==============================] - 3s 35ms/step - loss: 0.5755 - accuracy: 0.7119 - val_loss: 0.5909 - val_accuracy: 0.7092\n",
            "Epoch 35/100\n",
            "86/86 [==============================] - 3s 36ms/step - loss: 0.5569 - accuracy: 0.7294 - val_loss: 0.5940 - val_accuracy: 0.7092\n",
            "Epoch 36/100\n",
            "86/86 [==============================] - 3s 39ms/step - loss: 0.5651 - accuracy: 0.7221 - val_loss: 0.5958 - val_accuracy: 0.7092\n",
            "Epoch 37/100\n",
            "86/86 [==============================] - 3s 36ms/step - loss: 0.5563 - accuracy: 0.7261 - val_loss: 0.5903 - val_accuracy: 0.7092\n",
            "Epoch 38/100\n",
            "86/86 [==============================] - 3s 34ms/step - loss: 0.5543 - accuracy: 0.7379 - val_loss: 0.5935 - val_accuracy: 0.7092\n",
            "Epoch 39/100\n",
            "86/86 [==============================] - 3s 36ms/step - loss: 0.5841 - accuracy: 0.7046 - val_loss: 0.6049 - val_accuracy: 0.7092\n",
            "Epoch 40/100\n",
            "86/86 [==============================] - 3s 35ms/step - loss: 0.5702 - accuracy: 0.7229 - val_loss: 0.5973 - val_accuracy: 0.7092\n",
            "Epoch 41/100\n",
            "86/86 [==============================] - 3s 35ms/step - loss: 0.5687 - accuracy: 0.7223 - val_loss: 0.5957 - val_accuracy: 0.7092\n",
            "Epoch 42/100\n",
            "86/86 [==============================] - 3s 38ms/step - loss: 0.5605 - accuracy: 0.7286 - val_loss: 0.5904 - val_accuracy: 0.7092\n",
            "Epoch 43/100\n",
            "86/86 [==============================] - 3s 38ms/step - loss: 0.5785 - accuracy: 0.7175 - val_loss: 0.5966 - val_accuracy: 0.7092\n",
            "Epoch 44/100\n",
            "86/86 [==============================] - 3s 35ms/step - loss: 0.5599 - accuracy: 0.7230 - val_loss: 0.6157 - val_accuracy: 0.7092\n",
            "Epoch 45/100\n",
            "86/86 [==============================] - 3s 39ms/step - loss: 0.5722 - accuracy: 0.7165 - val_loss: 0.6050 - val_accuracy: 0.7092\n",
            "Epoch 46/100\n",
            "86/86 [==============================] - 3s 37ms/step - loss: 0.5687 - accuracy: 0.7121 - val_loss: 0.5907 - val_accuracy: 0.7092\n",
            "Epoch 47/100\n",
            "86/86 [==============================] - 3s 37ms/step - loss: 0.5590 - accuracy: 0.7365 - val_loss: 0.5986 - val_accuracy: 0.7092\n",
            "Epoch 48/100\n",
            "86/86 [==============================] - 3s 37ms/step - loss: 0.5543 - accuracy: 0.7317 - val_loss: 0.6050 - val_accuracy: 0.7092\n",
            "Epoch 49/100\n",
            "86/86 [==============================] - 3s 35ms/step - loss: 0.5725 - accuracy: 0.7221 - val_loss: 0.5981 - val_accuracy: 0.7092\n",
            "Epoch 50/100\n",
            "86/86 [==============================] - 3s 38ms/step - loss: 0.5638 - accuracy: 0.7236 - val_loss: 0.5979 - val_accuracy: 0.7092\n",
            "Epoch 51/100\n",
            "86/86 [==============================] - 3s 39ms/step - loss: 0.5606 - accuracy: 0.7284 - val_loss: 0.6019 - val_accuracy: 0.7092\n",
            "Epoch 52/100\n",
            "86/86 [==============================] - 3s 38ms/step - loss: 0.5570 - accuracy: 0.7314 - val_loss: 0.6026 - val_accuracy: 0.7092\n",
            "Epoch 53/100\n",
            "86/86 [==============================] - 3s 33ms/step - loss: 0.5561 - accuracy: 0.7321 - val_loss: 0.6010 - val_accuracy: 0.7092\n",
            "Epoch 54/100\n",
            "86/86 [==============================] - 3s 36ms/step - loss: 0.5539 - accuracy: 0.7376 - val_loss: 0.5983 - val_accuracy: 0.7092\n",
            "Epoch 55/100\n",
            "86/86 [==============================] - 3s 40ms/step - loss: 0.5715 - accuracy: 0.7157 - val_loss: 0.6003 - val_accuracy: 0.7092\n",
            "Epoch 56/100\n",
            "86/86 [==============================] - 3s 36ms/step - loss: 0.5581 - accuracy: 0.7233 - val_loss: 0.6064 - val_accuracy: 0.7092\n",
            "Epoch 57/100\n",
            "86/86 [==============================] - 3s 36ms/step - loss: 0.5687 - accuracy: 0.7258 - val_loss: 0.5945 - val_accuracy: 0.7092\n",
            "Epoch 58/100\n",
            "86/86 [==============================] - 3s 35ms/step - loss: 0.5549 - accuracy: 0.7363 - val_loss: 0.5973 - val_accuracy: 0.7092\n",
            "Epoch 59/100\n",
            "86/86 [==============================] - 3s 36ms/step - loss: 0.5699 - accuracy: 0.7177 - val_loss: 0.6014 - val_accuracy: 0.7092\n",
            "Epoch 60/100\n",
            "86/86 [==============================] - 3s 34ms/step - loss: 0.5644 - accuracy: 0.7280 - val_loss: 0.6045 - val_accuracy: 0.7092\n",
            "Epoch 61/100\n",
            "86/86 [==============================] - 3s 33ms/step - loss: 0.5536 - accuracy: 0.7313 - val_loss: 0.6022 - val_accuracy: 0.7092\n",
            "Epoch 62/100\n",
            "86/86 [==============================] - 3s 33ms/step - loss: 0.5784 - accuracy: 0.7068 - val_loss: 0.6072 - val_accuracy: 0.7092\n",
            "Epoch 63/100\n",
            "86/86 [==============================] - 3s 33ms/step - loss: 0.5688 - accuracy: 0.7306 - val_loss: 0.6034 - val_accuracy: 0.7092\n",
            "Epoch 64/100\n",
            "86/86 [==============================] - 3s 34ms/step - loss: 0.5742 - accuracy: 0.7182 - val_loss: 0.6019 - val_accuracy: 0.7092\n",
            "Epoch 65/100\n",
            "86/86 [==============================] - 3s 33ms/step - loss: 0.5727 - accuracy: 0.7113 - val_loss: 0.6115 - val_accuracy: 0.7092\n",
            "Epoch 66/100\n",
            "86/86 [==============================] - 3s 33ms/step - loss: 0.5534 - accuracy: 0.7419 - val_loss: 0.6084 - val_accuracy: 0.7092\n",
            "Epoch 67/100\n",
            "86/86 [==============================] - 3s 33ms/step - loss: 0.5592 - accuracy: 0.7354 - val_loss: 0.6110 - val_accuracy: 0.7092\n",
            "Epoch 68/100\n",
            "86/86 [==============================] - 3s 32ms/step - loss: 0.5652 - accuracy: 0.7249 - val_loss: 0.6054 - val_accuracy: 0.7092\n",
            "Epoch 69/100\n",
            "86/86 [==============================] - 3s 35ms/step - loss: 0.5619 - accuracy: 0.7235 - val_loss: 0.6057 - val_accuracy: 0.7092\n",
            "Epoch 70/100\n",
            "86/86 [==============================] - 3s 33ms/step - loss: 0.5777 - accuracy: 0.7135 - val_loss: 0.6140 - val_accuracy: 0.7092\n",
            "Epoch 71/100\n",
            "86/86 [==============================] - 3s 33ms/step - loss: 0.5560 - accuracy: 0.7374 - val_loss: 0.6108 - val_accuracy: 0.7092\n",
            "Epoch 72/100\n",
            "86/86 [==============================] - 3s 33ms/step - loss: 0.5665 - accuracy: 0.7210 - val_loss: 0.5987 - val_accuracy: 0.7092\n",
            "Epoch 73/100\n",
            "86/86 [==============================] - 3s 32ms/step - loss: 0.5607 - accuracy: 0.7274 - val_loss: 0.6027 - val_accuracy: 0.7092\n",
            "Epoch 74/100\n",
            "86/86 [==============================] - 3s 33ms/step - loss: 0.5727 - accuracy: 0.7134 - val_loss: 0.6039 - val_accuracy: 0.7092\n",
            "Epoch 75/100\n",
            "86/86 [==============================] - 3s 33ms/step - loss: 0.5666 - accuracy: 0.7224 - val_loss: 0.6114 - val_accuracy: 0.7092\n",
            "Epoch 76/100\n",
            "86/86 [==============================] - 3s 33ms/step - loss: 0.5732 - accuracy: 0.7145 - val_loss: 0.5824 - val_accuracy: 0.7092\n",
            "Epoch 77/100\n",
            "86/86 [==============================] - 3s 33ms/step - loss: 0.5571 - accuracy: 0.7309 - val_loss: 0.5870 - val_accuracy: 0.7092\n",
            "Epoch 78/100\n",
            "86/86 [==============================] - 3s 33ms/step - loss: 0.5618 - accuracy: 0.7287 - val_loss: 0.5862 - val_accuracy: 0.7092\n",
            "Epoch 79/100\n",
            "86/86 [==============================] - 3s 33ms/step - loss: 0.5589 - accuracy: 0.7249 - val_loss: 0.5986 - val_accuracy: 0.7092\n",
            "Epoch 80/100\n",
            "86/86 [==============================] - 3s 33ms/step - loss: 0.5718 - accuracy: 0.7146 - val_loss: 0.6085 - val_accuracy: 0.7092\n",
            "Epoch 81/100\n",
            "86/86 [==============================] - 3s 33ms/step - loss: 0.5611 - accuracy: 0.7255 - val_loss: 0.6002 - val_accuracy: 0.7092\n",
            "Epoch 82/100\n",
            "86/86 [==============================] - 3s 33ms/step - loss: 0.5517 - accuracy: 0.7274 - val_loss: 0.6006 - val_accuracy: 0.7092\n",
            "Epoch 83/100\n",
            "86/86 [==============================] - 3s 33ms/step - loss: 0.5638 - accuracy: 0.7215 - val_loss: 0.6060 - val_accuracy: 0.7092\n",
            "Epoch 84/100\n",
            "86/86 [==============================] - 3s 33ms/step - loss: 0.5572 - accuracy: 0.7310 - val_loss: 0.6086 - val_accuracy: 0.7075\n",
            "Epoch 85/100\n",
            "86/86 [==============================] - 3s 33ms/step - loss: 0.5640 - accuracy: 0.7213 - val_loss: 0.6085 - val_accuracy: 0.7092\n",
            "Epoch 86/100\n",
            "86/86 [==============================] - 3s 33ms/step - loss: 0.5620 - accuracy: 0.7312 - val_loss: 0.6095 - val_accuracy: 0.7092\n",
            "Epoch 87/100\n",
            "86/86 [==============================] - 3s 32ms/step - loss: 0.5595 - accuracy: 0.7278 - val_loss: 0.6124 - val_accuracy: 0.7092\n",
            "Epoch 88/100\n",
            "86/86 [==============================] - 3s 31ms/step - loss: 0.5594 - accuracy: 0.7222 - val_loss: 0.6075 - val_accuracy: 0.7092\n",
            "Epoch 89/100\n",
            "86/86 [==============================] - 3s 31ms/step - loss: 0.5614 - accuracy: 0.7260 - val_loss: 0.6107 - val_accuracy: 0.7092\n",
            "Epoch 90/100\n",
            "86/86 [==============================] - 3s 32ms/step - loss: 0.5594 - accuracy: 0.7221 - val_loss: 0.6033 - val_accuracy: 0.7092\n",
            "Epoch 91/100\n",
            "86/86 [==============================] - 3s 31ms/step - loss: 0.5717 - accuracy: 0.7146 - val_loss: 0.6173 - val_accuracy: 0.7092\n",
            "Epoch 92/100\n",
            "86/86 [==============================] - 3s 32ms/step - loss: 0.5499 - accuracy: 0.7339 - val_loss: 0.6148 - val_accuracy: 0.7092\n",
            "Epoch 93/100\n",
            "86/86 [==============================] - 3s 32ms/step - loss: 0.5799 - accuracy: 0.7142 - val_loss: 0.6204 - val_accuracy: 0.7092\n",
            "Epoch 94/100\n",
            "86/86 [==============================] - 3s 32ms/step - loss: 0.5737 - accuracy: 0.7135 - val_loss: 0.5920 - val_accuracy: 0.7092\n",
            "Epoch 95/100\n",
            "86/86 [==============================] - 3s 31ms/step - loss: 0.5515 - accuracy: 0.7355 - val_loss: 0.6032 - val_accuracy: 0.7092\n",
            "Epoch 96/100\n",
            "86/86 [==============================] - 3s 31ms/step - loss: 0.5612 - accuracy: 0.7247 - val_loss: 0.6053 - val_accuracy: 0.7092\n",
            "Epoch 97/100\n",
            "86/86 [==============================] - 3s 31ms/step - loss: 0.5782 - accuracy: 0.7099 - val_loss: 0.6119 - val_accuracy: 0.7092\n",
            "Epoch 98/100\n",
            "86/86 [==============================] - 3s 32ms/step - loss: 0.5753 - accuracy: 0.7136 - val_loss: 0.5962 - val_accuracy: 0.7092\n",
            "Epoch 99/100\n",
            "86/86 [==============================] - 3s 31ms/step - loss: 0.5611 - accuracy: 0.7247 - val_loss: 0.6078 - val_accuracy: 0.7092\n",
            "Epoch 100/100\n",
            "86/86 [==============================] - 3s 32ms/step - loss: 0.5593 - accuracy: 0.7308 - val_loss: 0.6056 - val_accuracy: 0.7092\n"
          ],
          "name": "stdout"
        }
      ]
    },
    {
      "cell_type": "code",
      "metadata": {
        "id": "3d9yWQ6lI3_6",
        "colab": {
          "base_uri": "https://localhost:8080/"
        },
        "outputId": "a89a647d-8bda-4c4c-a3ce-cc82f3418471"
      },
      "source": [
        "#model evaluation\r\n",
        "#\r\n",
        "model_b.evaluate(X_test,Y_test)[1]"
      ],
      "execution_count": null,
      "outputs": [
        {
          "output_type": "stream",
          "text": [
            "19/19 [==============================] - 0s 6ms/step - loss: 0.5292 - accuracy: 0.7619\n"
          ],
          "name": "stdout"
        },
        {
          "output_type": "execute_result",
          "data": {
            "text/plain": [
              "0.761904776096344"
            ]
          },
          "metadata": {
            "tags": []
          },
          "execution_count": 271
        }
      ]
    },
    {
      "cell_type": "markdown",
      "metadata": {
        "id": "ENUmajNZeXKD"
      },
      "source": [
        "**observation** accuracy increases to 76.2%"
      ]
    },
    {
      "cell_type": "markdown",
      "metadata": {
        "id": "yHIXB7QNInng"
      },
      "source": [
        "**visualization** to see what overfitting looks like in terms of the loss and accuracy."
      ]
    },
    {
      "cell_type": "code",
      "metadata": {
        "id": "vRYXtPp-Ip_O",
        "colab": {
          "base_uri": "https://localhost:8080/",
          "height": 294
        },
        "outputId": "f4ef3f57-9b9a-4aee-9a96-c09b609f63b3"
      },
      "source": [
        "plt.plot(hist_b.history['loss'])\r\n",
        "plt.plot(hist_b.history['val_loss'])\r\n",
        "plt.title('Model loss')\r\n",
        "plt.ylabel('Loss')\r\n",
        "plt.xlabel('Epoch')\r\n",
        "plt.legend(['Train', 'Val'], loc='upper right')\r\n",
        "plt.show()"
      ],
      "execution_count": null,
      "outputs": [
        {
          "output_type": "display_data",
          "data": {
            "image/png": "[encoded data removed]",
            "text/plain": [
              "<Figure size 432x288 with 1 Axes>"
            ]
          },
          "metadata": {
            "tags": [],
            "needs_background": "light"
          }
        }
      ]
    },
    {
      "cell_type": "code",
      "metadata": {
        "id": "HEcmFX5EJMuw",
        "colab": {
          "base_uri": "https://localhost:8080/",
          "height": 294
        },
        "outputId": "a96f7236-6ce7-4f7d-bf9b-c87acb8c971a"
      },
      "source": [
        "plt.plot(hist_b.history['accuracy'])\r\n",
        "plt.plot(hist_b.history['val_accuracy'])\r\n",
        "plt.title('Model accuracy')\r\n",
        "plt.ylabel('Accuracy')\r\n",
        "plt.xlabel('Epoch')\r\n",
        "plt.legend(['Train', 'Val'], loc='lower right')\r\n",
        "plt.show()"
      ],
      "execution_count": null,
      "outputs": [
        {
          "output_type": "display_data",
          "data": {
            "image/png": "[encoded data removed]",
            "text/plain": [
              "<Figure size 432x288 with 1 Axes>"
            ]
          },
          "metadata": {
            "tags": [],
            "needs_background": "light"
          }
        }
      ]
    },
    {
      "cell_type": "markdown",
      "metadata": {
        "id": "EMETG8qce0ka"
      },
      "source": [
        "**observation** \r\n",
        "the above shows that our model is overfit since many \r\n",
        "layers makes it hard for the model to learn."
      ]
    },
    {
      "cell_type": "markdown",
      "metadata": {
        "id": "UuFOL2wXJcwf"
      },
      "source": [
        "### Adding Regularization to our Neural Network\r\n",
        "\r\n",
        "* finding the best batch size and epoch."
      ]
    },
    {
      "cell_type": "code",
      "metadata": {
        "id": "C29cgxWJKo3E"
      },
      "source": [
        "#importing the relevant libraries\r\n",
        "#\r\n",
        "from sklearn.model_selection import GridSearchCV\r\n",
        "from keras.models import Sequential\r\n",
        "from keras.layers import Dense\r\n",
        "from keras.wrappers.scikit_learn import KerasClassifier\r\n",
        "import numpy"
      ],
      "execution_count": null,
      "outputs": []
    },
    {
      "cell_type": "code",
      "metadata": {
        "id": "hgy8UBGfJfDe"
      },
      "source": [
        "#defining the function\r\n",
        "#\r\n",
        "def build_ann(optimizer):\r\n",
        "    model = Sequential()\r\n",
        "    model.add(Dense(units = 100, kernel_initializer = 'uniform',   activation = 'relu', input_dim =4))\r\n",
        "    model.add(Dense(units= 100, kernel_initializer = 'uniform', activation = 'relu'))\r\n",
        "    model.add(Dense(units=1, kernel_initializer = 'uniform', activation = 'sigmoid'))\r\n",
        "    model.compile(optimizer = 'adam', loss = 'binary_crossentropy', metrics = ['accuracy'])\r\n",
        "    return model"
      ],
      "execution_count": null,
      "outputs": []
    },
    {
      "cell_type": "code",
      "metadata": {
        "id": "oyJG9gdLKCoJ"
      },
      "source": [
        "''''\r\n",
        "# getting the best batch size and epoch for the model\r\n",
        "#\r\n",
        "model=KerasClassifier(build_fn=build_ann)\r\n",
        "parameters={'batch_size':[10,32],\r\n",
        "           'epochs':[20,100],\r\n",
        "           'optimizer':['adam','rmsprop']}\r\n",
        "grid_search=GridSearchCV(estimator= model,\r\n",
        "                        param_grid=parameters,\r\n",
        "                        scoring='accuracy',\r\n",
        "                        cv=10)\r\n",
        "grid_search=grid_search.fit(X_train, Y_train)\r\n",
        "'''''"
      ],
      "execution_count": null,
      "outputs": []
    },
    {
      "cell_type": "code",
      "metadata": {
        "id": "kWRyR3lLMmzM"
      },
      "source": [
        ""
      ],
      "execution_count": null,
      "outputs": []
    },
    {
      "cell_type": "markdown",
      "metadata": {
        "id": "zRw4IS1ANGB2"
      },
      "source": [
        "###**Model c**\r\n",
        "\r\n",
        "To address the overfitting we see in Model 2, we'll incorporate L2 regularization, optimal epoch, and batch size. and dropout in our third model here (Model 3)"
      ]
    },
    {
      "cell_type": "code",
      "metadata": {
        "id": "I_fKGCoZNlM2",
        "colab": {
          "base_uri": "https://localhost:8080/"
        },
        "outputId": "731eca71-5f64-4d1c-b31a-75155049dced"
      },
      "source": [
        "model_c = tf.keras.Sequential([\r\n",
        "    layers.Dense(100, activation='relu', kernel_regularizer=keras.regularizers.l2(0.001), input_shape=(4,)),\r\n",
        "    layers.Dropout(0.3),\r\n",
        "    layers.Dense(100, activation='relu', kernel_regularizer=keras.regularizers.l2(0.001)),\r\n",
        "    layers.Dropout(0.3),\r\n",
        "    layers.Dense(100, activation='relu', kernel_regularizer=keras.regularizers.l2(0.001)),\r\n",
        "    layers.Dropout(0.3),\r\n",
        "    layers.Dense(100, activation='relu', kernel_regularizer=keras.regularizers.l2(0.001)),\r\n",
        "    layers.Dropout(0.3),\r\n",
        "    layers.Dense(1, activation='sigmoid', kernel_regularizer=keras.regularizers.l2(0.001)),\r\n",
        "])\r\n",
        "model_c.compile(optimizer='adam',\r\n",
        "              loss='binary_crossentropy',\r\n",
        "              metrics=['accuracy'])\r\n",
        "hist_c = model_c.fit(X_train, Y_train,\r\n",
        "          batch_size=32, epochs=40,\r\n",
        "          validation_data=(X_val, Y_val))"
      ],
      "execution_count": null,
      "outputs": [
        {
          "output_type": "stream",
          "text": [
            "Epoch 1/40\n",
            "86/86 [==============================] - 1s 5ms/step - loss: 0.8837 - accuracy: 0.7146 - val_loss: 0.7657 - val_accuracy: 0.7092\n",
            "Epoch 2/40\n",
            "86/86 [==============================] - 0s 3ms/step - loss: 0.7431 - accuracy: 0.7255 - val_loss: 0.7066 - val_accuracy: 0.7092\n",
            "Epoch 3/40\n",
            "86/86 [==============================] - 0s 3ms/step - loss: 0.6801 - accuracy: 0.7328 - val_loss: 0.6700 - val_accuracy: 0.7092\n",
            "Epoch 4/40\n",
            "86/86 [==============================] - 0s 3ms/step - loss: 0.6544 - accuracy: 0.7229 - val_loss: 0.6500 - val_accuracy: 0.7092\n",
            "Epoch 5/40\n",
            "86/86 [==============================] - 0s 3ms/step - loss: 0.6387 - accuracy: 0.7255 - val_loss: 0.6443 - val_accuracy: 0.7092\n",
            "Epoch 6/40\n",
            "86/86 [==============================] - 0s 3ms/step - loss: 0.6187 - accuracy: 0.7306 - val_loss: 0.6290 - val_accuracy: 0.7092\n",
            "Epoch 7/40\n",
            "86/86 [==============================] - 0s 3ms/step - loss: 0.6145 - accuracy: 0.7309 - val_loss: 0.6215 - val_accuracy: 0.7092\n",
            "Epoch 8/40\n",
            "86/86 [==============================] - 0s 3ms/step - loss: 0.6030 - accuracy: 0.7312 - val_loss: 0.6166 - val_accuracy: 0.7092\n",
            "Epoch 9/40\n",
            "86/86 [==============================] - 0s 3ms/step - loss: 0.6091 - accuracy: 0.7241 - val_loss: 0.6227 - val_accuracy: 0.7092\n",
            "Epoch 10/40\n",
            "86/86 [==============================] - 0s 3ms/step - loss: 0.5927 - accuracy: 0.7290 - val_loss: 0.6078 - val_accuracy: 0.7092\n",
            "Epoch 11/40\n",
            "86/86 [==============================] - 0s 3ms/step - loss: 0.5907 - accuracy: 0.7285 - val_loss: 0.6051 - val_accuracy: 0.7092\n",
            "Epoch 12/40\n",
            "86/86 [==============================] - 0s 3ms/step - loss: 0.5835 - accuracy: 0.7372 - val_loss: 0.6050 - val_accuracy: 0.7092\n",
            "Epoch 13/40\n",
            "86/86 [==============================] - 0s 3ms/step - loss: 0.6007 - accuracy: 0.7198 - val_loss: 0.6050 - val_accuracy: 0.7092\n",
            "Epoch 14/40\n",
            "86/86 [==============================] - 0s 3ms/step - loss: 0.5983 - accuracy: 0.7171 - val_loss: 0.6088 - val_accuracy: 0.7092\n",
            "Epoch 15/40\n",
            "86/86 [==============================] - 0s 3ms/step - loss: 0.5933 - accuracy: 0.7176 - val_loss: 0.6005 - val_accuracy: 0.7092\n",
            "Epoch 16/40\n",
            "86/86 [==============================] - 0s 3ms/step - loss: 0.5843 - accuracy: 0.7287 - val_loss: 0.5996 - val_accuracy: 0.7092\n",
            "Epoch 17/40\n",
            "86/86 [==============================] - 0s 3ms/step - loss: 0.5845 - accuracy: 0.7259 - val_loss: 0.5989 - val_accuracy: 0.7092\n",
            "Epoch 18/40\n",
            "86/86 [==============================] - 0s 3ms/step - loss: 0.5848 - accuracy: 0.7212 - val_loss: 0.5991 - val_accuracy: 0.7092\n",
            "Epoch 19/40\n",
            "86/86 [==============================] - 0s 5ms/step - loss: 0.5930 - accuracy: 0.7107 - val_loss: 0.5958 - val_accuracy: 0.7092\n",
            "Epoch 20/40\n",
            "86/86 [==============================] - 0s 3ms/step - loss: 0.5910 - accuracy: 0.7203 - val_loss: 0.5998 - val_accuracy: 0.7092\n",
            "Epoch 21/40\n",
            "86/86 [==============================] - 0s 3ms/step - loss: 0.6007 - accuracy: 0.7148 - val_loss: 0.5964 - val_accuracy: 0.7092\n",
            "Epoch 22/40\n",
            "86/86 [==============================] - 0s 3ms/step - loss: 0.5833 - accuracy: 0.7225 - val_loss: 0.6022 - val_accuracy: 0.7092\n",
            "Epoch 23/40\n",
            "86/86 [==============================] - 0s 3ms/step - loss: 0.5859 - accuracy: 0.7261 - val_loss: 0.5953 - val_accuracy: 0.7092\n",
            "Epoch 24/40\n",
            "86/86 [==============================] - 0s 3ms/step - loss: 0.5880 - accuracy: 0.7233 - val_loss: 0.5948 - val_accuracy: 0.7092\n",
            "Epoch 25/40\n",
            "86/86 [==============================] - 0s 3ms/step - loss: 0.5927 - accuracy: 0.7178 - val_loss: 0.5946 - val_accuracy: 0.7092\n",
            "Epoch 26/40\n",
            "86/86 [==============================] - 0s 3ms/step - loss: 0.5820 - accuracy: 0.7228 - val_loss: 0.5970 - val_accuracy: 0.7092\n",
            "Epoch 27/40\n",
            "86/86 [==============================] - 0s 3ms/step - loss: 0.5885 - accuracy: 0.7230 - val_loss: 0.5944 - val_accuracy: 0.7092\n",
            "Epoch 28/40\n",
            "86/86 [==============================] - 0s 3ms/step - loss: 0.5856 - accuracy: 0.7214 - val_loss: 0.5947 - val_accuracy: 0.7092\n",
            "Epoch 29/40\n",
            "86/86 [==============================] - 0s 3ms/step - loss: 0.5646 - accuracy: 0.7418 - val_loss: 0.5963 - val_accuracy: 0.7092\n",
            "Epoch 30/40\n",
            "86/86 [==============================] - 0s 3ms/step - loss: 0.5809 - accuracy: 0.7240 - val_loss: 0.5937 - val_accuracy: 0.7092\n",
            "Epoch 31/40\n",
            "86/86 [==============================] - 0s 3ms/step - loss: 0.5830 - accuracy: 0.7213 - val_loss: 0.5925 - val_accuracy: 0.7092\n",
            "Epoch 32/40\n",
            "86/86 [==============================] - 0s 3ms/step - loss: 0.5676 - accuracy: 0.7365 - val_loss: 0.5952 - val_accuracy: 0.7092\n",
            "Epoch 33/40\n",
            "86/86 [==============================] - 0s 3ms/step - loss: 0.5776 - accuracy: 0.7262 - val_loss: 0.5936 - val_accuracy: 0.7092\n",
            "Epoch 34/40\n",
            "86/86 [==============================] - 0s 3ms/step - loss: 0.5837 - accuracy: 0.7189 - val_loss: 0.5945 - val_accuracy: 0.7092\n",
            "Epoch 35/40\n",
            "86/86 [==============================] - 0s 3ms/step - loss: 0.5824 - accuracy: 0.7224 - val_loss: 0.5935 - val_accuracy: 0.7092\n",
            "Epoch 36/40\n",
            "86/86 [==============================] - 0s 3ms/step - loss: 0.5816 - accuracy: 0.7252 - val_loss: 0.5932 - val_accuracy: 0.7092\n",
            "Epoch 37/40\n",
            "86/86 [==============================] - 0s 3ms/step - loss: 0.5834 - accuracy: 0.7188 - val_loss: 0.5930 - val_accuracy: 0.7092\n",
            "Epoch 38/40\n",
            "86/86 [==============================] - 0s 3ms/step - loss: 0.5786 - accuracy: 0.7262 - val_loss: 0.5933 - val_accuracy: 0.7092\n",
            "Epoch 39/40\n",
            "86/86 [==============================] - 0s 3ms/step - loss: 0.5801 - accuracy: 0.7263 - val_loss: 0.5926 - val_accuracy: 0.7092\n",
            "Epoch 40/40\n",
            "86/86 [==============================] - 0s 3ms/step - loss: 0.5888 - accuracy: 0.7232 - val_loss: 0.5936 - val_accuracy: 0.7092\n"
          ],
          "name": "stdout"
        }
      ]
    },
    {
      "cell_type": "code",
      "metadata": {
        "colab": {
          "base_uri": "https://localhost:8080/"
        },
        "id": "MAtOKY_cfNuG",
        "outputId": "0be6a165-dfc0-4569-9617-227e6001bc32"
      },
      "source": [
        "#model evaluation\r\n",
        "#\r\n",
        "model_c.evaluate(X_test,Y_test)"
      ],
      "execution_count": null,
      "outputs": [
        {
          "output_type": "stream",
          "text": [
            "19/19 [==============================] - 0s 1ms/step - loss: 0.5385 - accuracy: 0.7653\n"
          ],
          "name": "stdout"
        },
        {
          "output_type": "execute_result",
          "data": {
            "text/plain": [
              "[0.5385090112686157, 0.7653061151504517]"
            ]
          },
          "metadata": {
            "tags": []
          },
          "execution_count": 278
        }
      ]
    },
    {
      "cell_type": "markdown",
      "metadata": {
        "id": "rJnxyBg1fVmo"
      },
      "source": [
        "**observation**: the model accuracy improved after tuning to 76.5%"
      ]
    },
    {
      "cell_type": "markdown",
      "metadata": {
        "id": "eLoDGQzbOD28"
      },
      "source": [
        "**Visualizing Loss and Accuracy**"
      ]
    },
    {
      "cell_type": "code",
      "metadata": {
        "id": "p6UDA3UdN50F",
        "colab": {
          "base_uri": "https://localhost:8080/",
          "height": 294
        },
        "outputId": "f82657c5-1ed9-41cf-c8da-3cbbbf1c017e"
      },
      "source": [
        "plt.plot(hist_c.history['loss'])\r\n",
        "plt.plot(hist_c.history['val_loss'])\r\n",
        "plt.title('Model loss')\r\n",
        "plt.ylabel('Loss')\r\n",
        "plt.xlabel('Epoch')\r\n",
        "plt.legend(['Train', 'Val'], loc='upper right')\r\n",
        "plt.ylim(top=1.2, bottom=0.0)\r\n",
        "plt.show()"
      ],
      "execution_count": null,
      "outputs": [
        {
          "output_type": "display_data",
          "data": {
            "image/png": "[encoded data removed]",
            "text/plain": [
              "<Figure size 432x288 with 1 Axes>"
            ]
          },
          "metadata": {
            "tags": [],
            "needs_background": "light"
          }
        }
      ]
    },
    {
      "cell_type": "code",
      "metadata": {
        "id": "0jJm17oLOWat",
        "colab": {
          "base_uri": "https://localhost:8080/",
          "height": 294
        },
        "outputId": "5f3d7264-3a9e-436a-8f70-6452594d1871"
      },
      "source": [
        "plt.plot(hist_c.history['accuracy'])\r\n",
        "plt.plot(hist_c.history['val_accuracy'])\r\n",
        "plt.title('Model accuracy')\r\n",
        "plt.ylabel('Accuracy')\r\n",
        "plt.xlabel('Epoch')\r\n",
        "plt.legend(['Train', 'Val'], loc='lower right')\r\n",
        "plt.show()"
      ],
      "execution_count": null,
      "outputs": [
        {
          "output_type": "display_data",
          "data": {
            "image/png": "[encoded data removed]",
            "text/plain": [
              "<Figure size 432x288 with 1 Axes>"
            ]
          },
          "metadata": {
            "tags": [],
            "needs_background": "light"
          }
        }
      ]
    },
    {
      "cell_type": "markdown",
      "metadata": {
        "id": "K4gHpEktfpEQ"
      },
      "source": [
        "**observation**: this is the best model since there is no overfitting. "
      ]
    },
    {
      "cell_type": "markdown",
      "metadata": {
        "id": "qirJGUg2fyu3"
      },
      "source": [
        "### conclusion\r\n",
        "\r\n",
        "The best model to be used to predict whether insurance claim will be paid or not is the one with 4 features and is with the follwing tuning.\r\n",
        "1. 3 hidden layers\r\n",
        "2. neurons =100 for hidden layers and 1 for output layer.\r\n",
        "3. activation: relu for hidden layers and sigmoid for output layer.\r\n",
        "2. regularizers.l2 =0.001\r\n",
        "3. optimizer= adam\r\n",
        "4. loss= binary_crossentropy\r\n",
        "5. batch size= 32\r\n",
        "6. epoch = 40"
      ]
    },
    {
      "cell_type": "markdown",
      "metadata": {
        "id": "1urIaW3Yh7Xl"
      },
      "source": [
        "## Follow up questions"
      ]
    },
    {
      "cell_type": "markdown",
      "metadata": {
        "id": "TVE7e1NDiaEf"
      },
      "source": [
        "1. Did we have the right data?\r\n",
        "\r\n",
        "* Yes"
      ]
    },
    {
      "cell_type": "markdown",
      "metadata": {
        "id": "ZmkMrY7liyIs"
      },
      "source": [
        "2. Do we need other data to answer our question?\r\n",
        "\r\n",
        "* No"
      ]
    },
    {
      "cell_type": "markdown",
      "metadata": {
        "id": "zz1sK6L1i0V_"
      },
      "source": [
        "3. we need more data to do away with overfitting.\r\n",
        "* yes."
      ]
    },
    {
      "cell_type": "markdown",
      "metadata": {
        "id": "DxX3Qoloi7yd"
      },
      "source": [
        "4. Did we have the right question?\r\n",
        "\r\n",
        "* yes."
      ]
    }
  ]
}